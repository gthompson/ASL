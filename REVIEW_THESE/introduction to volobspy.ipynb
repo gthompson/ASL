{
 "metadata": {
  "name": ""
 },
 "nbformat": 3,
 "nbformat_minor": 0,
 "worksheets": [
  {
   "cells": [
    {
     "cell_type": "markdown",
     "metadata": {},
     "source": [
      "An Introduction to Volcano Observatory Python (volobspy)\n",
      "\n",
      "volobspy is a set of tools that extend ObsPy. The project began in March 2014 as a set of tools written by Glenn Thompson to support his research.\n",
      "\n",
      "Some of the tools available in volobspy are:\n",
      "\n",
      "CSS_Catalog: load an Antelope/Datascope CSS3.0 event database and convert it to an ObsPy Catalog.\n",
      "Seisan_Catalog: load a Seisan event catalog (a set of S-files) and convert to an ObsPy Catalog.\n",
      "sam: convert ObsPy Stream/Trace objects to 1-minute RSAM timeseries objects.\n"
     ]
    },
    {
     "cell_type": "code",
     "collapsed": false,
     "input": [],
     "language": "python",
     "metadata": {},
     "outputs": []
    }
   ],
   "metadata": {}
  }
 ]
}