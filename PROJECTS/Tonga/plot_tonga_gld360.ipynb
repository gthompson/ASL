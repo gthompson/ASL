{
 "cells": [
  {
   "cell_type": "code",
   "execution_count": 1,
   "metadata": {},
   "outputs": [],
   "source": [
    "import os, sys\n",
    "import pandas as pd\n",
    "import numpy as np\n",
    "import matplotlib.pyplot as plt\n",
    "df = pd.read_csv('/Users/thompsong/Dropbox/PROFESSIONAL/RESEARCH/3 Project Documents/USFprojects/202201_Tonga/Hunga_Tonga_Lightning_within_300km_December-January.csv')"
   ]
  },
  {
   "cell_type": "code",
   "execution_count": 2,
   "metadata": {},
   "outputs": [
    {
     "data": {
      "text/plain": [
       "Index(['time', 'longitude', 'latitude', 'signalStrengthKA', 'cloud',\n",
       "       'distanceM'],\n",
       "      dtype='object')"
      ]
     },
     "execution_count": 2,
     "metadata": {},
     "output_type": "execute_result"
    }
   ],
   "source": [
    "df.columns"
   ]
  },
  {
   "cell_type": "code",
   "execution_count": null,
   "metadata": {},
   "outputs": [],
   "source": [
    "from datetime import datetime \n",
    "import obspy\n",
    "t = [obspy.UTCDateTime(dt) for dt in df['time']]"
   ]
  },
  {
   "cell_type": "code",
   "execution_count": 19,
   "metadata": {},
   "outputs": [],
   "source": [
    "t2 = [this_t.datetime for this_t in t]"
   ]
  },
  {
   "cell_type": "code",
   "execution_count": 21,
   "metadata": {},
   "outputs": [],
   "source": [
    "df['datetime'] = t2"
   ]
  },
  {
   "cell_type": "code",
   "execution_count": 22,
   "metadata": {},
   "outputs": [
    {
     "name": "stdout",
     "output_type": "stream",
     "text": [
      "                            time  longitude  latitude  signalStrengthKA  \\\n",
      "0       2021-12-19T07:57:20.604Z  -176.6048  -18.7239              14.9   \n",
      "1       2021-12-19T07:57:20.637Z  -176.6086  -18.6811              39.2   \n",
      "2       2021-12-19T08:20:14.185Z  -176.7946  -18.7432             114.8   \n",
      "3       2021-12-19T20:41:19.648Z  -175.3759  -20.5527               3.7   \n",
      "4       2021-12-19T20:41:26.619Z  -175.3727  -20.5514               6.4   \n",
      "...                          ...        ...       ...               ...   \n",
      "721486  2022-01-15T22:27:42.596Z  -175.2492  -20.6610             -55.9   \n",
      "721487  2022-01-15T22:27:42.725Z  -175.2303  -20.6520             -43.0   \n",
      "721488  2022-01-15T22:27:42.782Z  -175.2284  -20.6659              -9.8   \n",
      "721489  2022-01-15T22:27:42.891Z  -175.2273  -20.6560             -13.3   \n",
      "721490  2022-01-15T22:27:42.982Z  -175.2248  -20.6601             -22.5   \n",
      "\n",
      "        cloud  distanceM                datetime  \n",
      "0        True     238747 2021-12-19 07:57:20.604  \n",
      "1       False     242996 2021-12-19 07:57:20.637  \n",
      "2       False     248240 2021-12-19 08:20:14.185  \n",
      "3        True       1963 2021-12-19 20:41:19.648  \n",
      "4        True       1967 2021-12-19 20:41:26.619  \n",
      "...       ...        ...                     ...  \n",
      "721486  False      19603 2022-01-15 22:27:42.596  \n",
      "721487  False      20389 2022-01-15 22:27:42.725  \n",
      "721488  False      21546 2022-01-15 22:27:42.782  \n",
      "721489  False      20913 2022-01-15 22:27:42.891  \n",
      "721490  False      21404 2022-01-15 22:27:42.982  \n",
      "\n",
      "[721491 rows x 7 columns]\n"
     ]
    }
   ],
   "source": [
    "print(df)"
   ]
  },
  {
   "cell_type": "code",
   "execution_count": 41,
   "metadata": {},
   "outputs": [],
   "source": [
    "weightedCurrent = []\n",
    "for i, row in df.iterrows():\n",
    "    #print(row)\n",
    "    try:\n",
    "        weightedCurrent.append(row['signalStrengthKA']/row['distanceM'])\n",
    "    except:\n",
    "        pass\n",
    "\n",
    "df['weightedCurrent'] = weightedCurrent                            "
   ]
  },
  {
   "cell_type": "code",
   "execution_count": 42,
   "metadata": {},
   "outputs": [
    {
     "data": {
      "image/png": "[encoded data removed]",
      "text/plain": [
       "<Figure size 432x288 with 1 Axes>"
      ]
     },
     "metadata": {
      "needs_background": "light"
     },
     "output_type": "display_data"
    }
   ],
   "source": [
    "import matplotlib.dates as mdates \n",
    "fig, ax = plt.subplots()\n",
    "#ax.plot_date(df['datetime'], np.cumsum(np.abs(df['signalStrengthKA'])), '-')\n",
    "ax.plot_date(df['datetime'], np.cumsum(np.abs(df['weightedCurrent'])), '-')\n",
    "ax.xaxis.set_major_locator(mdates.DayLocator(interval=4))\n",
    "ax.xaxis.set_major_formatter(mdates.DateFormatter('%b\\n%d'))"
   ]
  },
  {
   "cell_type": "code",
   "execution_count": 75,
   "metadata": {},
   "outputs": [
    {
     "data": {
      "image/png": "[encoded data removed]",
      "text/plain": [
       "<Figure size 432x288 with 2 Axes>"
      ]
     },
     "metadata": {
      "needs_background": "light"
     },
     "output_type": "display_data"
    }
   ],
   "source": [
    "df2 = df.loc[(df['datetime'] >= '2022-01-15') & (df['datetime']<='2022-01-15 04:30:00')]\n",
    "\n",
    "fig, ax = plt.subplots(2,1)\n",
    "#ax.plot_date(df['datetime'], np.cumsum(np.abs(df['signalStrengthKA'])), '-')\n",
    "df3 = df2.loc[df2['cloud']==True]\n",
    "df4 = df2.loc[df2['cloud']==False]\n",
    "x = [None, None]\n",
    "y = [None, None]\n",
    "x[0] = df3['datetime']\n",
    "x[1] = df4['datetime']\n",
    "y[0] = np.cumsum(df3['weightedCurrent'])\n",
    "y[1] = np.cumsum(df4['weightedCurrent'])\n",
    "for c in range(len(ax)):\n",
    "    \n",
    "    ax[c].plot_date(x[c], y[c], 'g.')\n",
    "    ax[c].xaxis.set_major_locator(mdates.MinuteLocator(interval=1))\n",
    "    ax[c].xaxis.set_major_formatter(mdates.DateFormatter('%H\\n%M'))\n",
    "\n",
    "#ax.set_xticklabels(labels=ax.get_xticklabels(), rotation=90);"
   ]
  },
  {
   "cell_type": "code",
   "execution_count": 59,
   "metadata": {},
   "outputs": [
    {
     "data": {
      "text/html": [
       "<div>\n",
       "<style scoped>\n",
       "    .dataframe tbody tr th:only-of-type {\n",
       "        vertical-align: middle;\n",
       "    }\n",
       "\n",
       "    .dataframe tbody tr th {\n",
       "        vertical-align: top;\n",
       "    }\n",
       "\n",
       "    .dataframe thead th {\n",
       "        text-align: right;\n",
       "    }\n",
       "</style>\n",
       "<table border=\"1\" class=\"dataframe\">\n",
       "  <thead>\n",
       "    <tr style=\"text-align: right;\">\n",
       "      <th></th>\n",
       "      <th>time</th>\n",
       "      <th>longitude</th>\n",
       "      <th>latitude</th>\n",
       "      <th>signalStrengthKA</th>\n",
       "      <th>cloud</th>\n",
       "      <th>distanceM</th>\n",
       "      <th>datetime</th>\n",
       "      <th>weightedCurrent</th>\n",
       "    </tr>\n",
       "  </thead>\n",
       "  <tbody>\n",
       "    <tr>\n",
       "      <th>329433</th>\n",
       "      <td>2022-01-15T04:09:24.700Z</td>\n",
       "      <td>-175.4219</td>\n",
       "      <td>-20.6038</td>\n",
       "      <td>11.7</td>\n",
       "      <td>True</td>\n",
       "      <td>8608</td>\n",
       "      <td>2022-01-15 04:09:24.700</td>\n",
       "      <td>0.001359</td>\n",
       "    </tr>\n",
       "    <tr>\n",
       "      <th>329434</th>\n",
       "      <td>2022-01-15T04:09:49.213Z</td>\n",
       "      <td>-175.3933</td>\n",
       "      <td>-20.5441</td>\n",
       "      <td>10.0</td>\n",
       "      <td>True</td>\n",
       "      <td>1482</td>\n",
       "      <td>2022-01-15 04:09:49.213</td>\n",
       "      <td>0.006748</td>\n",
       "    </tr>\n",
       "    <tr>\n",
       "      <th>329435</th>\n",
       "      <td>2022-01-15T04:11:48.590Z</td>\n",
       "      <td>-175.3893</td>\n",
       "      <td>-20.5446</td>\n",
       "      <td>17.4</td>\n",
       "      <td>True</td>\n",
       "      <td>1222</td>\n",
       "      <td>2022-01-15 04:11:48.590</td>\n",
       "      <td>0.014239</td>\n",
       "    </tr>\n",
       "    <tr>\n",
       "      <th>329436</th>\n",
       "      <td>2022-01-15T04:12:19.789Z</td>\n",
       "      <td>-175.3980</td>\n",
       "      <td>-20.5477</td>\n",
       "      <td>3.9</td>\n",
       "      <td>True</td>\n",
       "      <td>2114</td>\n",
       "      <td>2022-01-15 04:12:19.789</td>\n",
       "      <td>0.001845</td>\n",
       "    </tr>\n",
       "    <tr>\n",
       "      <th>329437</th>\n",
       "      <td>2022-01-15T04:12:20.002Z</td>\n",
       "      <td>-175.3969</td>\n",
       "      <td>-20.5658</td>\n",
       "      <td>-4.0</td>\n",
       "      <td>False</td>\n",
       "      <td>3659</td>\n",
       "      <td>2022-01-15 04:12:20.002</td>\n",
       "      <td>-0.001093</td>\n",
       "    </tr>\n",
       "    <tr>\n",
       "      <th>...</th>\n",
       "      <td>...</td>\n",
       "      <td>...</td>\n",
       "      <td>...</td>\n",
       "      <td>...</td>\n",
       "      <td>...</td>\n",
       "      <td>...</td>\n",
       "      <td>...</td>\n",
       "      <td>...</td>\n",
       "    </tr>\n",
       "    <tr>\n",
       "      <th>329528</th>\n",
       "      <td>2022-01-15T04:14:04.970Z</td>\n",
       "      <td>-175.4001</td>\n",
       "      <td>-20.5249</td>\n",
       "      <td>-14.1</td>\n",
       "      <td>False</td>\n",
       "      <td>2253</td>\n",
       "      <td>2022-01-15 04:14:04.970</td>\n",
       "      <td>-0.006258</td>\n",
       "    </tr>\n",
       "    <tr>\n",
       "      <th>329529</th>\n",
       "      <td>2022-01-15T04:14:07.077Z</td>\n",
       "      <td>-175.4265</td>\n",
       "      <td>-20.5222</td>\n",
       "      <td>-5.3</td>\n",
       "      <td>False</td>\n",
       "      <td>4881</td>\n",
       "      <td>2022-01-15 04:14:07.077</td>\n",
       "      <td>-0.001086</td>\n",
       "    </tr>\n",
       "    <tr>\n",
       "      <th>329530</th>\n",
       "      <td>2022-01-15T04:14:07.336Z</td>\n",
       "      <td>-175.3286</td>\n",
       "      <td>-20.6598</td>\n",
       "      <td>3.6</td>\n",
       "      <td>True</td>\n",
       "      <td>14846</td>\n",
       "      <td>2022-01-15 04:14:07.336</td>\n",
       "      <td>0.000242</td>\n",
       "    </tr>\n",
       "    <tr>\n",
       "      <th>329531</th>\n",
       "      <td>2022-01-15T04:14:07.850Z</td>\n",
       "      <td>-175.2895</td>\n",
       "      <td>-20.4753</td>\n",
       "      <td>6.7</td>\n",
       "      <td>True</td>\n",
       "      <td>11763</td>\n",
       "      <td>2022-01-15 04:14:07.850</td>\n",
       "      <td>0.000570</td>\n",
       "    </tr>\n",
       "    <tr>\n",
       "      <th>329532</th>\n",
       "      <td>2022-01-15T04:14:08.922Z</td>\n",
       "      <td>-175.3862</td>\n",
       "      <td>-20.5777</td>\n",
       "      <td>-5.5</td>\n",
       "      <td>False</td>\n",
       "      <td>4657</td>\n",
       "      <td>2022-01-15 04:14:08.922</td>\n",
       "      <td>-0.001181</td>\n",
       "    </tr>\n",
       "  </tbody>\n",
       "</table>\n",
       "<p>100 rows × 8 columns</p>\n",
       "</div>"
      ],
      "text/plain": [
       "                            time  longitude  latitude  signalStrengthKA  \\\n",
       "329433  2022-01-15T04:09:24.700Z  -175.4219  -20.6038              11.7   \n",
       "329434  2022-01-15T04:09:49.213Z  -175.3933  -20.5441              10.0   \n",
       "329435  2022-01-15T04:11:48.590Z  -175.3893  -20.5446              17.4   \n",
       "329436  2022-01-15T04:12:19.789Z  -175.3980  -20.5477               3.9   \n",
       "329437  2022-01-15T04:12:20.002Z  -175.3969  -20.5658              -4.0   \n",
       "...                          ...        ...       ...               ...   \n",
       "329528  2022-01-15T04:14:04.970Z  -175.4001  -20.5249             -14.1   \n",
       "329529  2022-01-15T04:14:07.077Z  -175.4265  -20.5222              -5.3   \n",
       "329530  2022-01-15T04:14:07.336Z  -175.3286  -20.6598               3.6   \n",
       "329531  2022-01-15T04:14:07.850Z  -175.2895  -20.4753               6.7   \n",
       "329532  2022-01-15T04:14:08.922Z  -175.3862  -20.5777              -5.5   \n",
       "\n",
       "        cloud  distanceM                datetime  weightedCurrent  \n",
       "329433   True       8608 2022-01-15 04:09:24.700         0.001359  \n",
       "329434   True       1482 2022-01-15 04:09:49.213         0.006748  \n",
       "329435   True       1222 2022-01-15 04:11:48.590         0.014239  \n",
       "329436   True       2114 2022-01-15 04:12:19.789         0.001845  \n",
       "329437  False       3659 2022-01-15 04:12:20.002        -0.001093  \n",
       "...       ...        ...                     ...              ...  \n",
       "329528  False       2253 2022-01-15 04:14:04.970        -0.006258  \n",
       "329529  False       4881 2022-01-15 04:14:07.077        -0.001086  \n",
       "329530   True      14846 2022-01-15 04:14:07.336         0.000242  \n",
       "329531   True      11763 2022-01-15 04:14:07.850         0.000570  \n",
       "329532  False       4657 2022-01-15 04:14:08.922        -0.001181  \n",
       "\n",
       "[100 rows x 8 columns]"
      ]
     },
     "execution_count": 59,
     "metadata": {},
     "output_type": "execute_result"
    }
   ],
   "source": [
    "df2.head(100)"
   ]
  },
  {
   "cell_type": "code",
   "execution_count": null,
   "metadata": {},
   "outputs": [],
   "source": []
  }
 ],
 "metadata": {
  "kernelspec": {
   "display_name": "Python 3",
   "language": "python",
   "name": "python3"
  },
  "language_info": {
   "codemirror_mode": {
    "name": "ipython",
    "version": 3
   },
   "file_extension": ".py",
   "mimetype": "text/x-python",
   "name": "python",
   "nbconvert_exporter": "python",
   "pygments_lexer": "ipython3",
   "version": "3.6.7"
  }
 },
 "nbformat": 4,
 "nbformat_minor": 5
}
