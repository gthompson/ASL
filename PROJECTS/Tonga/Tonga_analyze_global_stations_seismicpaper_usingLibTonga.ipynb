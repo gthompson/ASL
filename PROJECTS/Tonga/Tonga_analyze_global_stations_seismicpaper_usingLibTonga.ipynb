{
 "cells": [
  {
   "cell_type": "markdown",
   "metadata": {},
   "source": [
    "# Background\n",
    "\n",
    "Inspired by my analysis of Miami Lakes Rboom data to measure the pressure pulse from the Tonga eruption an beamform back to the source, I began drinking in global barometric and infrasound data from IRIS (and Shake.net). Steve then took my measurements and began collating a table of reduced pressure versus other eruptions. This then mainfested an invite from Zhigang Peng to collaborate on a Tonga paper to look at all waves emanating from this eruption.\n",
    "\n",
    "While I am focusing on that paper currently, this notebook has lots of earlier work, and will later be expanded for my own conference and journal papers (and one I am co-authoring with Steve).\n",
    "\n",
    "Glenn Thompson, Jan - Feb 2022\n",
    "\n",
    "# 1. Functions and imports"
   ]
  },
  {
   "cell_type": "code",
   "execution_count": 1,
   "metadata": {},
   "outputs": [],
   "source": [
    "import os, sys, obspy\n",
    "import numpy as np\n",
    "%matplotlib inline\n",
    "#import matplotlib\n",
    "#matplotlib.use('TkAgg')\n",
    "import matplotlib.pyplot as plt\n",
    "import pickle\n",
    "LIBpath = os.path.join( os.getenv('HOME'),'src','kitchensinkGT', 'LIB')\n",
    "sys.path.append(LIBpath)\n",
    "from libseisGT import inventory2traceid, get_FDSN_inventory, clean_trace, \\\n",
    "    attach_station_coordinates_from_inventory\n",
    "from obspy.clients.fdsn import Client\n",
    "#from obspy.core.util import AttribDict\n",
    "from obspy.geodetics import locations2degrees, degrees2kilometers, kilometers2degrees\n",
    "from scipy.stats import linregress\n",
    "from libTonga import * # if this does not work, try LIB/obsolete/Tonga_analayze_global_stations_seismicpaper.py        "
   ]
  },
  {
   "cell_type": "markdown",
   "metadata": {},
   "source": [
    "# 2. Parameters"
   ]
  },
  {
   "cell_type": "code",
   "execution_count": null,
   "metadata": {},
   "outputs": [],
   "source": [
    "DATA_ROOT = os.path.join(os.getenv('HOME'), 'DATA', 'Tonga_eruption_analysis')\n",
    "if not os.path.isdir(DATA_ROOT):\n",
    "    os.makedirs(DATA_ROOT)\n",
    "searchRadiusDeg = 180\n",
    "fmin = 0.0001\n",
    "T = 1.0/fmin\n",
    "circum_earth_km = 40075\n",
    "circum_earth_m = circum_earth_km*1000\n",
    "m_per_deg = circum_earth_m/360.0\n",
    "\n",
    "# location of Hunga-Tonga Hunga-Ha'apai\n",
    "olat = -(20 + 34/60 + 12 /3600) \n",
    "olon = -(175 + 22/60 + 48/3600)\n",
    "otime = obspy.core.UTCDateTime('2022-01-15T04:14:45.000000Z') # main eruption time - on day 2\n",
    "\n",
    "startt =  obspy.core.UTCDateTime('2022-01-13T00:00:00.000000Z') - T*2\n",
    "endt = obspy.core.UTCDateTime('2022-01-20T00:00:00.000000Z') + T*2 # get 34 hours of data, since this is approximate time for sound waves to circle the earth"
   ]
  },
  {
   "cell_type": "markdown",
   "metadata": {},
   "source": [
    "# 3. Run for barometers outside (LDO)"
   ]
  },
  {
   "cell_type": "code",
   "execution_count": null,
   "metadata": {
    "scrolled": true
   },
   "outputs": [],
   "source": [
    "pklfile = os.path.join(DATA_ROOT, 'st_ldo_downsample_pick.pkl')\n",
    "if os.path.isfile(pklfile): # read data from pickle file and leap to 3.1.3\n",
    "    with open(pklfile, 'rb') as f:\n",
    "        st_ldo_downsample_pick = pickle.load(f)\n",
    "else:\n",
    "    fdsnURL = \"http://service.iris.edu\"\n",
    "    chanstring = 'LDO'\n",
    "    st_ldo, inv_ldo, raw_st_ldo, raw_inv_ldo = analyze_clientchan(fdsnURL, chanstring, fmin=fmin)"
   ]
  },
  {
   "cell_type": "markdown",
   "metadata": {},
   "source": [
    "# to do:\n",
    "- compute moveout speed of N wave peak times\n",
    "- correct for actual circumference of wavefronts on a spherical earth"
   ]
  },
  {
   "cell_type": "markdown",
   "metadata": {},
   "source": [
    "## 3.1 Pick N-wave onsets"
   ]
  },
  {
   "cell_type": "code",
   "execution_count": null,
   "metadata": {},
   "outputs": [],
   "source": [
    "def process_1(st, otime=otime, cmin=300, cmax=430, decimation_factor=10):\n",
    "    st_downsample = st.copy()\n",
    "    st_downsample.decimate(decimation_factor)\n",
    "    r = get_distance_vector(st_downsample)\n",
    "    print(r)\n",
    "    st_downsample_pick = order_traces_by_distance(st_downsample, r) \n",
    "    st_downsample_pick = manually_select_good_traces(st_downsample_pick, trim_mins=0, record_section=False, auto=False, wlen=7200)\n",
    "    #pick_pressure_onset(st_downsample_pick, otime, cmin, cmax)\n",
    "    return st_downsample_pick"
   ]
  },
  {
   "cell_type": "markdown",
   "metadata": {},
   "source": [
    "### 3.1.1 Raw traces"
   ]
  },
  {
   "cell_type": "code",
   "execution_count": null,
   "metadata": {
    "scrolled": true
   },
   "outputs": [],
   "source": [
    "st_ldo_raw_downsample_pick = process_1(st_ldo_raw)"
   ]
  },
  {
   "cell_type": "markdown",
   "metadata": {},
   "source": [
    "### 3.1.2 Reconstituted \"good\" traces"
   ]
  },
  {
   "cell_type": "code",
   "execution_count": null,
   "metadata": {},
   "outputs": [],
   "source": [
    "#st_ldo_downsample_pick = process_1(st_ldo)\n",
    "\n",
    "new_otime = obspy.UTCDateTime(2022,1,15,4,7,18)\n",
    "\n",
    "for tr in st_ldo_downsample_pick:\n",
    "    if tr.stats.network == 'PB':\n",
    "        st_ldo_downsample_pick.remove(tr)"
   ]
  },
  {
   "cell_type": "code",
   "execution_count": null,
   "metadata": {
    "scrolled": true
   },
   "outputs": [],
   "source": [
    "plot_amplitude_versus_distance(st_ldo_downsample_pick, 'Pa', reftime=new_otime, \\\n",
    "                               cmin=300, cmax=420, duration=7200)\n",
    "#plot_reduced_pressure(st, 'Pa')   \n",
    "#plot_inv(inv)\n",
    "#plots(st_ldo_downsample_pick, inv_ldo, olat, olon, otime, cmin=300, cmax=420)\n",
    "print(len(st_ldo_downsample_pick))"
   ]
  },
  {
   "cell_type": "markdown",
   "metadata": {},
   "source": [
    "### 3.1.3 Make record section of the N wave"
   ]
  },
  {
   "cell_type": "code",
   "execution_count": null,
   "metadata": {
    "scrolled": false
   },
   "outputs": [],
   "source": [
    "signal_duration = 3600.0 * 3.0\n",
    "#wavespeed, new_otime, t, d = regress_arrival_times(st2, otime, outfile='Nwave_arrivalfit.eps')\n",
    "wavespeed = 312.7\n",
    "new_otime = obspy.UTCDateTime(2022,1,15,4,7,18)\n",
    "etime = new_otime + (circum_earth_m/2)/wavespeed + signal_duration\n",
    "#plot_record_section(st_ldo_downsample_pick, new_otime, starttime=new_otime, endtime=etime, \\\n",
    "#                    outfile='Nwave_recordsection.eps', slope_speed=wavespeed, figsize=(8,16), scale_factor=5)"
   ]
  },
  {
   "cell_type": "code",
   "execution_count": null,
   "metadata": {},
   "outputs": [],
   "source": [
    "#plot_record_section(st_ldo_downsample_pick, new_otime, starttime=new_otime, endtime=etime, \\\n",
    "#                    outfile='Nwave_recordsection2.eps', slope_speed=wavespeed, figsize=(6,12), scale_factor=3)\n",
    "reftime = obspy.UTCDateTime(2022,1,15,3,0,0)\n",
    "stime = reftime\n",
    "etime = obspy.UTCDateTime(2022,1,16,16,0,0)\n",
    "celerity = 315.0\n",
    "wraptime = circum_earth_m/celerity\n",
    "plot_record_section(st_ldo_downsample_pick, reftime, starttime=stime, endtime=etime, \\\n",
    "                    outfile='Nwave_recordsection5.eps', slopes=[[celerity, otime], [-celerity, otime+wraptime]], figsize=(6,12), scale_factor=3, min_spacing_km=800)"
   ]
  },
  {
   "cell_type": "code",
   "execution_count": null,
   "metadata": {},
   "outputs": [],
   "source": [
    "stime = obspy.UTCDateTime(2022,1,15,4,0,0)\n",
    "etime = obspy.UTCDateTime(2022,1,15,6,0,0)\n",
    "reftime = stime\n",
    "plot_record_section(st_ldo_downsample_pick, reftime, starttime=stime, endtime=etime, \\\n",
    "    outfile='Nwave_recordsection3.eps', figsize=(12,12), scale_factor=1000, normalize=True, reduced_speed=315, min_spacing_km=1000)"
   ]
  },
  {
   "cell_type": "markdown",
   "metadata": {},
   "source": [
    "### 3.1.4 make record section of multiple passes of N wave"
   ]
  },
  {
   "cell_type": "code",
   "execution_count": null,
   "metadata": {
    "scrolled": true
   },
   "outputs": [],
   "source": [
    "etime2 = obspy.UTCDateTime(2022,1,20,0,0,0)\n",
    "st5 = st_ldo_downsample_pick.copy().filter('bandpass', freqmin=0.01, freqmax=0.1, corners=2)\n",
    "plot_record_section(st5, new_otime, starttime=new_otime, endtime=etime2, \\\n",
    "    outfile='Nwave_recordsection4.eps', figsize=(16,16), scale_factor=10)"
   ]
  },
  {
   "cell_type": "code",
   "execution_count": null,
   "metadata": {
    "scrolled": false
   },
   "outputs": [],
   "source": [
    "stime2 = obspy.UTCDateTime(2022,1,15,0,0,0)\n",
    "etime2 = obspy.UTCDateTime(2022,1,20,0,0,0)\n",
    "st_ldo_lowpass = st_ldo_downsample_pick.copy().filter('bandpass', freqmin=0.0002, freqmax=0.01, corners=6)\n",
    "wavespeed=310.0\n",
    "wraptime = circum_earth_m/wavespeed \n",
    "plot_record_section(st_ldo_lowpass, stime2, starttime=stime2, endtime=etime2, \\\n",
    "    outfile='Nwave_recordsection_long_master.eps', \\\n",
    "                    slopes=[[wavespeed, new_otime],\\\n",
    "                            [-wavespeed, new_otime+wraptime], \\\n",
    "                            [wavespeed, new_otime+wraptime], \\\n",
    "                            [-wavespeed, new_otime+wraptime*2], \\\n",
    "                            [wavespeed, new_otime+wraptime*2], \\\n",
    "                            [-wavespeed, new_otime+wraptime*3], \\\n",
    "                            [wavespeed, new_otime+wraptime*3], \\\n",
    "                           ], \\\n",
    "                    figsize=(12,12), scale_factor=10, min_spacing_km = 500)"
   ]
  },
  {
   "cell_type": "markdown",
   "metadata": {},
   "source": [
    "### 3.1.5 Save reconstituted, downsampled, picked barometric data to pickle file"
   ]
  },
  {
   "cell_type": "code",
   "execution_count": null,
   "metadata": {},
   "outputs": [],
   "source": [
    "pklfile = os.path.join(DATA_ROOT, 'st_ldo_downsample_pick.pkl')\n",
    "with open(pklfile, 'wb') as f:\n",
    "    pickle.dump(st_ldo_downsample_pick, f)    "
   ]
  },
  {
   "cell_type": "markdown",
   "metadata": {},
   "source": [
    "## 3.2 Explore the near stations only to improve origin time estimates"
   ]
  },
  {
   "cell_type": "markdown",
   "metadata": {},
   "source": [
    "### 3.2.1 Read raw barometric data and order traces by distance"
   ]
  },
  {
   "cell_type": "code",
   "execution_count": null,
   "metadata": {},
   "outputs": [],
   "source": [
    "pklfile = os.path.join(DATA_ROOT, 'st_ldo_raw.pkl')\n",
    "if os.path.isfile(pklfile):\n",
    "    with open(pklfile, 'rb') as f:\n",
    "        st_ldo_raw_sorted = pickle.load(f)\n",
    "else:\n",
    "    #st_ldo_raw = obspy.core.read(os.path.join(DATA_ROOT, 'iris_LDO_within_180_degrees.mseed'))\n",
    "    #inv_ldo_raw = obspy.read_inventory(os.path.join(DATA_ROOT, 'iris_LDO_within_180_degrees.xml'))\n",
    "    #attach_station_coordinates_from_inventory(inv_ldo_raw, st_ldo_raw)\n",
    "    #attach_distance_to_stream(st_ldo_raw, olat, olon)\n",
    "    #r = get_distance_vector(st_ldo_raw)\n",
    "    #st_ldo_raw_sorted = order_traces_by_distance(st_ldo_raw, r) \n",
    "\n",
    "    with open(pklfile, 'wb') as f:\n",
    "        pickle.dump(st_ldo_raw_sorted, f) "
   ]
  },
  {
   "cell_type": "code",
   "execution_count": null,
   "metadata": {
    "scrolled": true
   },
   "outputs": [],
   "source": [
    "r = get_distance_vector(st_ldo_raw_sorted)\n",
    "st_sorted = order_traces_by_distance(st_ldo_raw_sorted, r) \n",
    "st2 = remove_duplicates(stkeep_sorted)\n",
    "st2.detrend('linear')\n",
    "st3 = st2.copy().trim(starttime=obspy.UTCDateTime(2022,1,15,3,0,0), endtime=obspy.UTCDateTime(2022,1,15,7,0,0))\n",
    "#stkeep = manually_select_good_traces(st, trim_mins=0, record_section=False, auto=False, wlen=7200, rmax=3200000)    "
   ]
  },
  {
   "cell_type": "code",
   "execution_count": null,
   "metadata": {},
   "outputs": [],
   "source": [
    "\n",
    "\n",
    "#stkeep2.plot(equal_scale=False)\n",
    "stime = obspy.UTCDateTime(2022,1,15,4,0,0)\n",
    "stkeep2.normalize()\n",
    "plot_record_section(stkeep2, stime, \\\n",
    "    outfile='Nwave_raw_close.eps', figsize=(16,16), scale_factor=500, km_max=3500)"
   ]
  },
  {
   "cell_type": "code",
   "execution_count": null,
   "metadata": {},
   "outputs": [],
   "source": [
    "stkeep3 = stkeep2.copy().filter('highpass', freq=0.01, corners=2)\n",
    "\n",
    "plot_record_section(stkeep3, stime, \\\n",
    "    outfile='Nwave_raw_close.eps', figsize=(16,16), scale_factor=500, km_max=3500)"
   ]
  },
  {
   "cell_type": "code",
   "execution_count": null,
   "metadata": {},
   "outputs": [],
   "source": [
    "import matplotlib\n",
    "matplotlib.use('TkAgg')\n",
    "pick_pressure_onset(stkeep3, new_otime, 250, 400)"
   ]
  },
  {
   "cell_type": "code",
   "execution_count": null,
   "metadata": {},
   "outputs": [],
   "source": [
    "regress_arrival_times(stkeep3, new_otime, outfile=None)"
   ]
  },
  {
   "cell_type": "code",
   "execution_count": null,
   "metadata": {},
   "outputs": [],
   "source": [
    "plot_record_section(stkeep3, stime, \\\n",
    "    outfile='Nwave_raw_close.eps', figsize=(16,16), scale_factor=500, km_max=3500, slopes=[[295.7, obspy.UTCDateTime(2022,1,15,4,1,28)]])"
   ]
  },
  {
   "cell_type": "code",
   "execution_count": null,
   "metadata": {},
   "outputs": [],
   "source": [
    "#stkeep2[1].plot(type='dayplot');\n",
    "tr = st_ldo_raw_sorted[0].copy()\n",
    "tr.trim(starttime=stime+1800, endtime=stime+7200)\n",
    "tr.plot();"
   ]
  },
  {
   "cell_type": "code",
   "execution_count": null,
   "metadata": {},
   "outputs": [],
   "source": [
    "757000/(42*60)"
   ]
  },
  {
   "cell_type": "code",
   "execution_count": null,
   "metadata": {},
   "outputs": [],
   "source": [
    "# miscellaneous stuff\n",
    "\n",
    "plots(st, inv_ldo, olat, olon, otime, minf=0, auto=True)\n",
    "\n",
    "r = get_distance_vector(st_ldo)\n",
    "st = order_traces_by_distance(st_ldo, r) \n",
    "# sort traces by distance\n",
    "for tr in st:\n",
    "    print(tr.id, tr.stats.distance)\n",
    "\n",
    "plots(st, inv_ldo, olat, olon, otime, startt=otime-200000, endt=otime, auto=True, minf=0.001)\n",
    "\n"
   ]
  },
  {
   "cell_type": "markdown",
   "metadata": {},
   "source": [
    "# 4. Run for seismic channels"
   ]
  },
  {
   "cell_type": "code",
   "execution_count": null,
   "metadata": {},
   "outputs": [],
   "source": [
    "pklfile = os.path.join(DATA_ROOT, 'st_lhz_downsample_pick.pkl')\n",
    "if os.path.isfile(pklfile):\n",
    "    with open(pklfile, 'rb') as f:\n",
    "        st_lhz_downsample_pick = pickle.load(f) \n",
    "    \n",
    "else:\n",
    "\n",
    "    fdsnURL = \"http://service.iris.edu\"\n",
    "    chanstring = 'LHZ'\n",
    "    st_lhz, inv_lhz, st_lhz_raw, inv_lhz_raw = analyze_clientchan(fdsnURL, chanstring, fmin=0.005, network='IU')\n",
    "\n",
    "    st_lhz_downsample_pick = process_1(st_lhz)\n",
    "    \n",
    "    with open(pklfile, 'wb') as f:\n",
    "        pickle.dump(st_lhz_downsample_pick, f)     \n",
    "\n",
    "st_f = st_lhz_downsample_pick.copy().filter('bandpass', freqmin=0.001, freqmax=0.01, corners=2)\n",
    "signal_duration = 3600.0 * 3.0\n",
    "wavespeed = 312.7\n",
    "new_otime = obspy.UTCDateTime(2022,1,15,4,7,18)\n",
    "etime = new_otime + (circum_earth_m/2)/wavespeed + signal_duration\n",
    "plot_record_section(st_f, new_otime, starttime=new_otime, endtime=etime, \\\n",
    "    outfile='seismicwave_recordsection.eps', figsize=(8,16), scale_factor=2e8, slope_speed=wavespeed)\n",
    "\n",
    "etime = new_otime + 3 * 3600\n",
    "plot_record_section(st_lhz_downsample_pick, new_otime, starttime=new_otime, endtime=etime, \\\n",
    "    outfile='seismicwave_recordsection_short.eps', figsize=(8,16), scale_factor=1e8)\n",
    "\n",
    "\n",
    "  "
   ]
  },
  {
   "cell_type": "code",
   "execution_count": null,
   "metadata": {},
   "outputs": [],
   "source": [
    "stime = obspy.UTCDateTime(2022,1,15,0,0,0)\n",
    "etime = obspy.UTCDateTime(2022,1,17,0,0,0)\n",
    "st_f2 = st_lhz_downsample_pick.copy().filter('bandpass', freqmin=0.005, freqmax=0.02, corners=2)\n",
    "plot_record_section(st_f2, stime, starttime=stime, endtime=etime, \\\n",
    "    outfile='seismicwave_recordsection.eps', figsize=(6,12), scale_factor=6e8, min_spacing_km = 2000)"
   ]
  },
  {
   "cell_type": "code",
   "execution_count": null,
   "metadata": {},
   "outputs": [],
   "source": [
    "st_lhz_raw = obspy.core.read(os.path.join(DATA_ROOT, 'iris_LHZ_within_180_degrees.mseed'))\n",
    "inv_lhz_raw = obspy.read_inventory(os.path.join(DATA_ROOT, 'iris_LHZ_within_180_degrees.xml'))\n",
    "attach_station_coordinates_from_inventory(inv_lhz_raw, st_lhz_raw)\n",
    "attach_distance_to_stream(st_lhz_raw, olat, olon)\n",
    "reftime = obspy.UTCDateTime(2022,1,15,4,0,0)\n",
    "stime = reftime\n",
    "etime = obspy.UTCDateTime(2022,1,15,6,0,0)\n",
    "celerity = 300.0\n",
    "wraptime = circum_earth_m/celerity"
   ]
  },
  {
   "cell_type": "code",
   "execution_count": null,
   "metadata": {},
   "outputs": [],
   "source": [
    "st = st_lhz_raw.copy()\n",
    "st.filter('bandpass', freqmin=0.005, freqmax=0.02)\n",
    "st.trim(starttime=stime-3600,endtime=etime+3600)\n",
    "st.normalize()"
   ]
  },
  {
   "cell_type": "code",
   "execution_count": null,
   "metadata": {},
   "outputs": [],
   "source": [
    "st_f3=st_f2.copy().normalize()\n",
    "plot_record_section(st_f3, reftime, starttime=stime, endtime=etime, \\\n",
    "    outfile='seismicwave_recordsection5.eps', slopes=[[celerity, otime], \\\n",
    "    [-celerity, otime+wraptime], [4000, otime]], figsize=(6,12), scale_factor=3000, min_spacing_km=500)"
   ]
  },
  {
   "cell_type": "code",
   "execution_count": null,
   "metadata": {},
   "outputs": [],
   "source": [
    "st_f2 = st_lhz_downsample_pick.copy().filter('bandpass', freqmin=0.001, freqmax=0.02, corners=2)\n",
    "st_f3 = st_f2.copy().trim(starttime=stime-3600, endtime=etime+3600)\n",
    "st_f4 = st_f3.copy().normalize(global_max=False)\n"
   ]
  },
  {
   "cell_type": "code",
   "execution_count": null,
   "metadata": {},
   "outputs": [],
   "source": [
    "reftime = obspy.UTCDateTime(2022,1,15,3,0,0)\n",
    "stime = reftime\n",
    "etime = obspy.UTCDateTime(2022,1,16,16,0,0)\n",
    "celerity = 300.0\n",
    "wraptime = circum_earth_m/celerity\n",
    "plot_record_section(st_f4, reftime, starttime=stime, endtime=etime, \\\n",
    "    outfile='seismicwave_recordsection_1pass_master.eps', slopes=[[3600, otime, 'b-'],[315.0, otime, 'r-'], [celerity, otime, 'g-'], [-celerity, otime+wraptime, 'g-']], figsize=(6,12), scale_factor=1000, min_spacing_km=1000)"
   ]
  },
  {
   "cell_type": "code",
   "execution_count": null,
   "metadata": {},
   "outputs": [],
   "source": [
    "r = get_distance_vector(st_lhz)\n",
    "st_lhz_sorted = order_traces_by_distance(st_lhz, r) \n",
    "plots(st_lhz_sorted, inv_ldo, olat, olon, otime, startt=otime, endt=otime+12*3600, auto=True, minf=0.001, maxf=0.1)\n",
    "\n",
    "r = get_distance_vector(st_ldo)\n",
    "st_ldo_sorted = order_traces_by_distance(st_ldo, r) \n",
    "plots(st_ldo_sorted, inv_ldo, olat, olon, otime, startt=otime, endt=otime+12*3600, auto=True, minf=0.001, maxf=0.1)\n",
    "\n",
    "r = get_distance_vector(st_ldo)\n",
    "st_ldo_sorted = order_traces_by_distance(st_ldo, r) \n",
    "plots(st_ldo_sorted, inv_ldo, olat, olon, otime, startt=otime, endt=st_ldo[0].stats.endtime, auto=True, minf=0.00015, maxf=0.25)"
   ]
  },
  {
   "cell_type": "markdown",
   "metadata": {},
   "source": [
    "# 4. Run for infrasound channels"
   ]
  },
  {
   "cell_type": "code",
   "execution_count": null,
   "metadata": {},
   "outputs": [],
   "source": [
    "fdsnURL = \"http://service.iris.edu\"\n",
    "chanstring = 'LDF'\n",
    "st_ldf, inv_ldf, raw_st_ldf, raw_inv_ldf  = analyze_clientchan(fdsnURL, chanstring, fmin=fmin)\n",
    "plots(st_ldf, otime, otime+17*3600)"
   ]
  },
  {
   "cell_type": "markdown",
   "metadata": {},
   "source": [
    "# 5. Run for Raspberry Booms"
   ]
  },
  {
   "cell_type": "code",
   "execution_count": null,
   "metadata": {},
   "outputs": [],
   "source": [
    "fdsnURL = \"http://fdsnws.raspberryshakedata.com\"\n",
    "chanstring = 'HDF'\n",
    "st_boom, inv_boom, raw_st_boom, raw_inv_boom  = analyze_clientchan(fdsnURL, chanstring, fmin=fmin)"
   ]
  },
  {
   "cell_type": "markdown",
   "metadata": {},
   "source": [
    "# 6. Combine results in single graph"
   ]
  },
  {
   "cell_type": "code",
   "execution_count": null,
   "metadata": {
    "scrolled": true
   },
   "outputs": [],
   "source": [
    "st_list = [st_ldf, st_ldo, st_boom]\n",
    "inv_list = [inv_ldf, inv_ldo, inv_boom]\n",
    "units = 'Pa'\n",
    "plot_combined_versus_distance(st_list, inv_list, units, corrected=False)\n",
    "plot_combined_versus_distance(st_list, inv_list, units, corrected=True)"
   ]
  },
  {
   "cell_type": "code",
   "execution_count": null,
   "metadata": {},
   "outputs": [],
   "source": [
    "for st in st_list:\n",
    "    print(len(st))"
   ]
  },
  {
   "cell_type": "markdown",
   "metadata": {},
   "source": [
    "To do:\n",
    "- downsample H?? and B?? channels to 1 sample per second\n",
    "- apply data quality metrics to remove bad channels\n",
    "- extra steps to remove spikes?\n",
    "- detect events?\n",
    "- examine as a function of low-cut frequency\n",
    "- make maps with pygmt, e.g. with radius contours, or amplitude contours"
   ]
  },
  {
   "cell_type": "code",
   "execution_count": null,
   "metadata": {},
   "outputs": [],
   "source": [
    "fmin=1/10000\n",
    "\n",
    "fdsnURL = \"http://service.iris.edu\"\n",
    "chanstring = 'LDO'\n",
    "st_ldo2, inv_ldo2 = analyze_clientchan(fdsnURL, chanstring, fmin=fmin)\n",
    "\n",
    "fdsnURL = \"http://service.iris.edu\"\n",
    "chanstring = 'LDF'\n",
    "st_ldf2, inv_ldf2 = analyze_clientchan(fdsnURL, chanstring, fmin=fmin)\n",
    "\n",
    "fdsnURL = \"http://fdsnws.raspberryshakedata.com\"\n",
    "chanstring = 'HDF'\n",
    "st_boom2, inv_boom2 = analyze_clientchan(fdsnURL, chanstring, fmin=fmin)"
   ]
  },
  {
   "cell_type": "code",
   "execution_count": null,
   "metadata": {
    "scrolled": true
   },
   "outputs": [],
   "source": [
    "st_list = [st_ldf2, st_ldo2]\n",
    "inv_list = [inv_ldf2, inv_ldo2]\n",
    "units = 'Pa'\n",
    "plot_combined_versus_distance(st_list, inv_list, units, corrected=False)\n",
    "plot_combined_versus_distance(st_list, inv_list, units, corrected=True)"
   ]
  },
  {
   "cell_type": "code",
   "execution_count": null,
   "metadata": {},
   "outputs": [],
   "source": [
    "# plot traces by distance - record section?\n",
    "st = obspy.core.Stream()\n",
    "for tr in st_ldo2:\n",
    "    tr.stats['distance']=tr.stats.distance_in_km*1000.0\n",
    "    tr.data=tr.data*10\n",
    "    st.append(tr)\n",
    "for tr in st_ldf2:\n",
    "    tr.stats['distance']=tr.stats.distance_in_km*1000.0\n",
    "    tr.data=tr.data*10\n",
    "    st.append(tr)  \n",
    "    "
   ]
  },
  {
   "cell_type": "code",
   "execution_count": null,
   "metadata": {},
   "outputs": [],
   "source": [
    "sectionpng = os.path.join(DATA_ROOT,'section.png')\n",
    "st.plot(type='section',title='',dpi=75,scale=15.0,reftime=otime,norm_method='stream',fillcolors=['r','b'],outfile=sectionpng)"
   ]
  },
  {
   "cell_type": "code",
   "execution_count": null,
   "metadata": {},
   "outputs": [],
   "source": [
    "print(len(st_ldo2),len(st_ldf2),len(st))"
   ]
  },
  {
   "cell_type": "markdown",
   "metadata": {},
   "source": [
    "# 7. Investigate filter bandwidth needed to see signal fully at MSVF"
   ]
  },
  {
   "cell_type": "code",
   "execution_count": null,
   "metadata": {},
   "outputs": [],
   "source": [
    "st = obspy.core.read(os.path.join(DATA_ROOT, 'iris_LDO_within_180_degrees.mseed'))\n",
    "#st.select(station='MSVF').plot()\n",
    "inv = obspy.read_inventory(os.path.join(DATA_ROOT, 'iris_LDO_within_180_degrees.xml'))\n",
    "msvf = st.select(station='MSVF')\n",
    "msvf2=msvf.copy()\n",
    "msvf2.remove_response(inventory=inv)\n",
    "msvf2.plot()\n",
    "tr = msvf2[0]"
   ]
  },
  {
   "cell_type": "code",
   "execution_count": null,
   "metadata": {},
   "outputs": [],
   "source": [
    "f = np.power(1.2,np.arange(-55,-1))\n",
    "f = f[f<0.5]\n",
    "plt.figure()\n",
    "print(f)\n",
    "for ncorners in range(6):\n",
    "    a = []\n",
    "    for fmin in f:\n",
    "        tr2 = tr.copy()\n",
    "        if fmin>0.0:\n",
    "            #print(fmin)\n",
    "            tr2.filter('highpass',freq=fmin,corners=ncorners+1)\n",
    "        a.append(np.max(np.abs(tr2.data)))\n",
    "    labstr = \"%d corners\" % (ncorners+1)\n",
    "    plt.semilogx(f,a,label=labstr)\n",
    "plt.ylabel('Pa')\n",
    "plt.xlabel('Low-pass corner (Hz)')\n",
    "plt.legend()\n",
    "plt.show()"
   ]
  },
  {
   "cell_type": "code",
   "execution_count": null,
   "metadata": {},
   "outputs": [],
   "source": [
    "fmin = np.power(2.0,-14)\n",
    "#f = np.power(2.0,np.arange(-13,-1))\n",
    "f = np.power(1.2,np.arange(-55,-1))\n",
    "f = f[f<=0.5]\n",
    "f = f[f>fmin*2]\n",
    "f = np.append(f,1.0)\n",
    "print(f)\n",
    "print(fmin)\n",
    "\n",
    "plt.figure()\n",
    "for ncorners in range(6):\n",
    "    a = []\n",
    "    for fmax in f:\n",
    "        tr2 = tr.copy()\n",
    "        if fmax<1.0:\n",
    "            #print(fmin)\n",
    "            tr2.filter('bandpass',freqmin=fmin, freqmax=fmax,corners=ncorners+1)\n",
    "            \n",
    "        else:\n",
    "            tr2.filter('highpass',freq=fmin, corners=ncorners+1)\n",
    "        a.append(np.max(np.abs(tr2.data)))\n",
    "    labstr = \"%d corners\" % (ncorners+1)\n",
    "    plt.semilogx(f,a,label=labstr)\n",
    "plt.ylabel('Pa')\n",
    "plt.xlabel('High-pass corner (Hz)')\n",
    "plt.legend()\n",
    "plt.show()"
   ]
  },
  {
   "cell_type": "code",
   "execution_count": null,
   "metadata": {},
   "outputs": [],
   "source": [
    "tr2=msvf[0].copy()\n",
    "pre_filt = [0.0001, 0.0002, 0.5, 0.1]\n",
    "tr2.filter('bandpass', freqmin=0.0001, freqmax=0.5, corners=2)\n",
    "tr2.remove_response(inventory=inv, plot=True, water_level=60)\n",
    "#tr2.plot()"
   ]
  },
  {
   "cell_type": "code",
   "execution_count": null,
   "metadata": {},
   "outputs": [],
   "source": [
    "tr2=msvf[0].copy()\n",
    "tr2.plot()\n",
    "pre_filt = [0.0001, 0.0002, 0.25, 0.5]\n",
    "#tr2.filter('pass', freq=0.0001, corners=2)\n",
    "tr2.remove_response(inventory=inv, pre_filt=pre_filt, plot=True, water_level=60)\n",
    "tr2.plot();"
   ]
  },
  {
   "cell_type": "markdown",
   "metadata": {},
   "source": [
    "# Miscellaneous"
   ]
  },
  {
   "cell_type": "code",
   "execution_count": null,
   "metadata": {},
   "outputs": [],
   "source": [
    "mseedfile = os.path.join(DATA_ROOT, 'rboom_HDF_within_180_degrees.mseed')\n",
    "inv = obspy.read_inventory(os.path.join(DATA_ROOT, 'rboom_HDF_within_180_degrees.xml'))\n",
    "pre_filt = [0.0001, 0.0002, 0.25, 0.5]\n",
    "N = 1000\n",
    "count = 0\n",
    "f = open(os.path.join(DATA_ROOT, 'rboom_good_HDF_ids_within_180_degrees.pkl'), \"rb\")\n",
    "good_ids = pickle.load(f)\n",
    "f.close()\n",
    "good_st = obspy.core.Stream()\n",
    "more_good = ['S89A5', 'R160F', 'RC93C', 'RA8D4', 'R9606', 'R40C1', 'R3A8A', 'R571C', 'R9CDF', 'RB83C', 'R0033']\n",
    "for sta in more_good:\n",
    "    good_ids.append('AM.%s.00.HDF' % sta)\n",
    "import obspy\n",
    "import io\n",
    "\n",
    "reclen = 512\n",
    "chunksize = 100000 * reclen # Around 50 MB\n",
    "\n",
    "with io.open(mseedfile, \"rb\") as fh:\n",
    "    while count<N:\n",
    "        with io.BytesIO() as buf:\n",
    "            c = fh.read(chunksize)\n",
    "            if not c:\n",
    "                break\n",
    "            buf.write(c)\n",
    "            buf.seek(0, 0)\n",
    "            st = obspy.read(buf)\n",
    "            count+=1\n",
    "        # Do something useful!\n",
    "        st.merge()\n",
    "        for tr in st:\n",
    "            if tr.id in good_ids:\n",
    "                good_st.append(tr)\n",
    "        #st.remove_response(inventory=inv, pre_filt=pre_filt, plot=True, water_level=60) "
   ]
  },
  {
   "cell_type": "code",
   "execution_count": null,
   "metadata": {},
   "outputs": [],
   "source": [
    "st_good = good_st.copy()\n",
    "st_good.taper(0.01)\n",
    "for tr in st_good:\n",
    "    try:\n",
    "        tr.filter('highpass', freq=0.0001, corners=2)\n",
    "    except:\n",
    "        pass\n",
    "st_good = manually_select_good_traces(st_good) "
   ]
  },
  {
   "cell_type": "code",
   "execution_count": null,
   "metadata": {},
   "outputs": [],
   "source": [
    "#st.select(station='MSVF').plot()\n",
    "pre_filt = [0.001, 0.002, 0.25, 0.5]\n",
    "inv = obspy.read_inventory(os.path.join(DATA_ROOT, 'rboom_HDF_within_180_degrees.xml'))\n",
    "st_good2 = st_good.copy()\n",
    "for tr in st_good2:\n",
    "    #tr.remove_response(inventory=inv, pre_filt=pre_filt, plot=True, water_level=60)\n",
    "    tr.remove_response(inventory=inv, pre_filt=pre_filt, plot=True, water_level=60)\n",
    "    tr.plot();"
   ]
  },
  {
   "cell_type": "code",
   "execution_count": null,
   "metadata": {},
   "outputs": [],
   "source": [
    "tr = good_st.copy()[0]\n",
    "tr.plot();"
   ]
  },
  {
   "cell_type": "code",
   "execution_count": null,
   "metadata": {},
   "outputs": [],
   "source": [
    "tr.trim(starttime=obspy.UTCDateTime(2022,1,15,18,0,0), endtime=obspy.UTCDateTime(2022,1,15,23,0,0))\n",
    "tr.plot()"
   ]
  },
  {
   "cell_type": "code",
   "execution_count": null,
   "metadata": {},
   "outputs": [],
   "source": [
    "tr.remove_response(inventory=inv, pre_filt=[0.01, 0.02, 10, 20], plot=True, water_level=60)"
   ]
  },
  {
   "cell_type": "code",
   "execution_count": null,
   "metadata": {},
   "outputs": [],
   "source": [
    "inv_ldo3 = inv_ldo2.copy()\n",
    "inv_ldo3.__add__(inv_ldf2)"
   ]
  },
  {
   "cell_type": "code",
   "execution_count": null,
   "metadata": {},
   "outputs": [],
   "source": [
    "plot_inv(inv_ldo3)"
   ]
  },
  {
   "cell_type": "code",
   "execution_count": null,
   "metadata": {},
   "outputs": [],
   "source": [
    "msvf"
   ]
  },
  {
   "cell_type": "code",
   "execution_count": null,
   "metadata": {},
   "outputs": [],
   "source": [
    "st_ldo.select(station='MSVF')[0].stats.distance_in_km"
   ]
  },
  {
   "cell_type": "code",
   "execution_count": null,
   "metadata": {},
   "outputs": [],
   "source": [
    "plot_inv(inv_ldo3)"
   ]
  },
  {
   "cell_type": "code",
   "execution_count": null,
   "metadata": {},
   "outputs": [],
   "source": [
    "searchRadiusDeg = 20\n",
    "fmin = 0.0001\n",
    "T = 1.0/fmin\n",
    "\n",
    "# location of Hunga-Tonga Hunga-Ha'apai\n",
    "olat = -(20 + 34/60 + 12 /3600) \n",
    "olon = -(175 + 22/60 + 48/3600)\n",
    "otime = obspy.core.UTCDateTime('2022-01-15T04:14:45.000000Z') # main eruption time - on day 2\n",
    "\n",
    "startt = otime - T*2\n",
    "endt = otime + 7 * 3600 + T*2 \n",
    "\n",
    "fdsnURL = \"http://service.iris.edu\"\n",
    "chanstring = 'HHZ'\n",
    "st_hhz, inv_hhz = analyze_clientchan(fdsnURL, chanstring, fmin=fmin)"
   ]
  },
  {
   "cell_type": "code",
   "execution_count": null,
   "metadata": {
    "scrolled": true
   },
   "outputs": [],
   "source": [
    "st=st_hhz.copy()\n",
    "st.taper(0.1)\n",
    "st.filter('bandpass', freqmin=0.01, freqmax=1.0, corners=2)\n",
    "st.trim(starttime=obspy.UTCDateTime(2022,1,15,4,14,45),endtime=obspy.UTCDateTime(2022,1,15,7,14,45))\n",
    "st.plot(equal_scale=False);"
   ]
  },
  {
   "cell_type": "code",
   "execution_count": null,
   "metadata": {},
   "outputs": [],
   "source": [
    "for tr in st_hhz:\n",
    "    print(tr.stats.distance_in_km)"
   ]
  },
  {
   "cell_type": "code",
   "execution_count": null,
   "metadata": {},
   "outputs": [],
   "source": [
    "st.trim(starttime=obspy.UTCDateTime(2022,1,15,6,53,0),endtime=obspy.UTCDateTime(2022,1,15,6,57,0))\n",
    "st.plot(equal_scale=False);"
   ]
  },
  {
   "cell_type": "code",
   "execution_count": null,
   "metadata": {},
   "outputs": [],
   "source": [
    "chanstring = 'BHZ'\n",
    "st_bhz, inv_bhz = analyze_clientchan(fdsnURL, chanstring, fmin=fmin)"
   ]
  },
  {
   "cell_type": "code",
   "execution_count": null,
   "metadata": {},
   "outputs": [],
   "source": [
    "st=st_bhz.copy()\n",
    "st.taper(0.1)\n",
    "st.filter('bandpass', freqmin=0.01, freqmax=15.0, corners=2)\n",
    "st.trim(starttime=obspy.UTCDateTime(2022,1,15,4,14,45),endtime=obspy.UTCDateTime(2022,1,15,4,24,45))\n",
    "st.plot(equal_scale=False);"
   ]
  },
  {
   "cell_type": "code",
   "execution_count": null,
   "metadata": {},
   "outputs": [],
   "source": [
    "searchRadiusDeg = 60\n",
    "fmin = 0.001\n",
    "T = 1.0/fmin\n",
    "\n",
    "# location of Hunga-Tonga Hunga-Ha'apai\n",
    "olat = -(20 + 34/60 + 12 /3600) \n",
    "olon = -(175 + 22/60 + 48/3600)\n",
    "otime = obspy.core.UTCDateTime('2022-01-15T04:14:45.000000Z') # main eruption time - on day 2\n",
    "\n",
    "distkm = degrees2kilometers(searchRadiusDeg)\n",
    "max_acoustic_speed = 380\n",
    "min_acoustic_speed = 300\n",
    "min_travel_time = distkm * 1000 / max_acoustic_speed \n",
    "max_travel_time = distkm * 1000 / min_acoustic_speed                   \n",
    "print(searchRadiusDeg, distkm, max_travel_time, min_travel_time)\n",
    "\n",
    "startt = otime - T*2\n",
    "endt = otime + max_travel_time + T*2 \n",
    "\n",
    "fdsnURL = \"http://service.iris.edu\"\n",
    "chanstring = 'LHZ'\n",
    "st_lhz, inv_lhz = analyze_clientchan(fdsnURL, chanstring, fmin=fmin)"
   ]
  },
  {
   "cell_type": "code",
   "execution_count": null,
   "metadata": {},
   "outputs": [],
   "source": [
    "st_lhz"
   ]
  },
  {
   "cell_type": "code",
   "execution_count": null,
   "metadata": {
    "scrolled": true
   },
   "outputs": [],
   "source": [
    "st = st_lhz.copy()\n",
    "st.taper(0.1)\n",
    "st.filter('bandpass', freqmin=0.003, freqmax=0.5, corners=2)\n",
    "st.trim(starttime=obspy.UTCDateTime(2022,1,15,4,0,0),endtime=obspy.UTCDateTime(2022,1,15,5,0,0))\n",
    "for tr in st:\n",
    "    tr.plot()\n"
   ]
  },
  {
   "cell_type": "code",
   "execution_count": null,
   "metadata": {
    "scrolled": true
   },
   "outputs": [],
   "source": [
    "st.select(station='MSVF').plot();"
   ]
  },
  {
   "cell_type": "code",
   "execution_count": null,
   "metadata": {
    "scrolled": true
   },
   "outputs": [],
   "source": [
    "tr = obspy.core.Trace()\n",
    "tr.data = st[0].data + st[1].data\n",
    "tr.stats.starttime = st[0].stats.starttime\n",
    "tr.stats.sampling_rate = st[0].stats.sampling_rate\n",
    "tr.id = 'XX.MSVF.20.LHZ'\n",
    "tr.plot()"
   ]
  },
  {
   "cell_type": "code",
   "execution_count": null,
   "metadata": {
    "scrolled": true
   },
   "outputs": [],
   "source": [
    "tr.trim(starttime=obspy.UTCDateTime(2022,1,15,4,15,0),endtime=obspy.UTCDateTime(2022,1,15,4,35,0))\n",
    "tr.plot()"
   ]
  },
  {
   "cell_type": "code",
   "execution_count": null,
   "metadata": {},
   "outputs": [],
   "source": [
    "fdsnClient = Client(fdsnURL)  \n",
    "startt = otime-10000\n",
    "endt = obspy.UTCDateTime(2022,1,15,7,0,0)+10000\n",
    "\n",
    "msvf = fdsnClient.get_waveforms('II', 'MSVF', '*', '*', startt, endt)"
   ]
  },
  {
   "cell_type": "code",
   "execution_count": null,
   "metadata": {
    "scrolled": true
   },
   "outputs": [],
   "source": [
    "for loc in ['00', '10']:\n",
    "    st = msvf.select(location=loc, channel='[LV][HD]?')\n",
    "    st.plot(equal_scale=False);"
   ]
  },
  {
   "cell_type": "code",
   "execution_count": null,
   "metadata": {
    "scrolled": true
   },
   "outputs": [],
   "source": [
    "for tr in msvf:\n",
    "    print(tr.id, tr.stats.sampling_rate)"
   ]
  },
  {
   "cell_type": "code",
   "execution_count": null,
   "metadata": {},
   "outputs": [],
   "source": [
    "for loc in ['00', '10']:\n",
    "    st = msvf.copy().select(location=loc, channel='[LV][HD]?')\n",
    "    st.detrend('linear')\n",
    "    st.taper(0.02)\n",
    "    st.filter('bandpass',freqmin=0.0002,freqmax=0.01)\n",
    "    st.plot(equal_scale=False);"
   ]
  },
  {
   "cell_type": "code",
   "execution_count": null,
   "metadata": {},
   "outputs": [],
   "source": [
    "print(msvf)"
   ]
  },
  {
   "cell_type": "code",
   "execution_count": null,
   "metadata": {
    "scrolled": true
   },
   "outputs": [],
   "source": [
    "for loc in ['00', '10']:\n",
    "    st = msvf.copy().select(location=loc, channel='B[HD]?')\n",
    "    st.detrend('linear')\n",
    "    st.taper(0.02)\n",
    "    st.filter('highpass',freq=0.5,corners=2)\n",
    "    st.trim(starttime=otime+150,endtime=otime+300)\n",
    "    st.plot(equal_scale=False);"
   ]
  },
  {
   "cell_type": "code",
   "execution_count": null,
   "metadata": {},
   "outputs": [],
   "source": [
    "searchRadiusDeg = 120\n",
    "fmin = 0.001\n",
    "T = 1.0/fmin\n",
    "\n",
    "# location of Hunga-Tonga Hunga-Ha'apai\n",
    "olat = -(20 + 34/60 + 12 /3600) \n",
    "olon = -(175 + 22/60 + 48/3600)\n",
    "otime = obspy.core.UTCDateTime('2022-01-15T04:14:45.000000Z') # main eruption time - on day 2\n",
    "\n",
    "distkm = degrees2kilometers(searchRadiusDeg)\n",
    "max_acoustic_speed = 380\n",
    "min_acoustic_speed = 300\n",
    "min_travel_time = distkm * 1000 / max_acoustic_speed \n",
    "max_travel_time = distkm * 1000 / min_acoustic_speed                   \n",
    "print(searchRadiusDeg, distkm, max_travel_time, min_travel_time)\n",
    "\n",
    "startt = otime - T*2\n",
    "endt = otime + max_travel_time + T*2 \n",
    "\n",
    "fdsnURL = \"http://service.iris.edu\"\n",
    "chanstring = 'LHZ'\n",
    "st_lhz, inv_lhz = analyze_clientchan(fdsnURL, chanstring, fmin=fmin)"
   ]
  },
  {
   "cell_type": "code",
   "execution_count": null,
   "metadata": {},
   "outputs": [],
   "source": [
    "print(DATA_ROOT)"
   ]
  },
  {
   "cell_type": "code",
   "execution_count": null,
   "metadata": {},
   "outputs": [],
   "source": [
    "st_ldf_recon = obspy.read(os.path.join(DATA_ROOT, 'iris_LDF_within_180_degrees.mseed'))"
   ]
  },
  {
   "cell_type": "code",
   "execution_count": null,
   "metadata": {},
   "outputs": [],
   "source": [
    "len(st_ldf_recon)"
   ]
  },
  {
   "cell_type": "code",
   "execution_count": null,
   "metadata": {},
   "outputs": [],
   "source": [
    "len(st_ldf_recon.merge())"
   ]
  },
  {
   "cell_type": "code",
   "execution_count": null,
   "metadata": {},
   "outputs": [],
   "source": [
    "ids = []\n",
    "for tr in st_ldf_recon:\n",
    "    if not tr.id in ids:\n",
    "        ids.append(tr.id)\n",
    "print(len(ids))"
   ]
  },
  {
   "cell_type": "code",
   "execution_count": null,
   "metadata": {},
   "outputs": [],
   "source": [
    "print(ids)"
   ]
  },
  {
   "cell_type": "code",
   "execution_count": null,
   "metadata": {},
   "outputs": [],
   "source": [
    "st_ldo_recon = obspy.read(os.path.join(DATA_ROOT, 'iris_LDO_within_180_degrees.mseed'))"
   ]
  },
  {
   "cell_type": "code",
   "execution_count": null,
   "metadata": {},
   "outputs": [],
   "source": [
    "ids = []\n",
    "for tr in st_ldo_recon:\n",
    "    if not tr.id in ids:\n",
    "        ids.append(tr.id)\n",
    "print(len(ids))"
   ]
  },
  {
   "cell_type": "code",
   "execution_count": null,
   "metadata": {},
   "outputs": [],
   "source": [
    "757000/340"
   ]
  },
  {
   "cell_type": "code",
   "execution_count": null,
   "metadata": {},
   "outputs": [],
   "source": [
    "2226/60"
   ]
  },
  {
   "cell_type": "code",
   "execution_count": null,
   "metadata": {},
   "outputs": [],
   "source": []
  }
 ],
 "metadata": {
  "kernelspec": {
   "display_name": "Python 3 (ipykernel)",
   "language": "python",
   "name": "python3"
  },
  "language_info": {
   "codemirror_mode": {
    "name": "ipython",
    "version": 3
   },
   "file_extension": ".py",
   "mimetype": "text/x-python",
   "name": "python",
   "nbconvert_exporter": "python",
   "pygments_lexer": "ipython3",
   "version": "3.8.8"
  }
 },
 "nbformat": 4,
 "nbformat_minor": 2
}
