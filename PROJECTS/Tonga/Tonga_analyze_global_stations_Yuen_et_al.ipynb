{
 "cells": [
  {
   "cell_type": "markdown",
   "metadata": {},
   "source": [
    "# Background\n",
    "\n",
    "Inspired by my analysis of Miami Lakes Rboom data to measure the pressure pulse from the Tonga eruption an beamform back to the source, I began drinking in global barometric and infrasound data from IRIS (and Shake.net). Steve then took my measurements and began collating a table of reduced pressure versus other eruptions. This then mainfested an invite from Zhigang Peng to collaborate on a Tonga paper to look at all waves emanating from this eruption.\n",
    "\n",
    "While I am focusing on that paper currently, this notebook has lots of earlier work, and will later be expanded for my own conference and journal papers (and one I am co-authoring with Steve).\n",
    "\n",
    "Glenn Thompson, Jan - Feb 2022\n",
    "\n",
    "# 1. Functions and imports"
   ]
  },
  {
   "cell_type": "code",
   "execution_count": null,
   "metadata": {},
   "outputs": [],
   "source": [
    "import os, sys, obspy\n",
    "import numpy as np\n",
    "import matplotlib\n",
    "matplotlib.use('TkAgg')\n",
    "import matplotlib.pyplot as plt\n",
    "import pickle\n",
    "LIBpath = os.path.join( os.getenv('HOME'),'src','kitchensinkGT', 'LIB')\n",
    "sys.path.append(LIBpath)\n",
    "from libseisGT import inventory2traceid, get_FDSN_inventory, clean_trace, \\\n",
    "    attach_station_coordinates_from_inventory\n",
    "from obspy.clients.fdsn import Client\n",
    "#from obspy.core.util import AttribDict\n",
    "from obspy.geodetics import locations2degrees, degrees2kilometers, kilometers2degrees\n",
    "from scipy.stats import linregress\n",
    "\n",
    "def get_fdsn_identifier(fdsnURL):\n",
    "    prepend=''\n",
    "    if 'iris' in fdsnURL:\n",
    "        prepend='iris_'\n",
    "    if 'shake' in fdsnURL:\n",
    "        prepend='rboom_'\n",
    "    if 'geonet' in fdsnURL:\n",
    "        prepend='nz_'  \n",
    "    return prepend\n",
    "\n",
    "def get_inventory_and_waveforms(fdsnClient, searchRadiusDeg, olat, olon, startt, endt, chanstring, data_root, overwrite=False, network='*', station='*', location='*'):\n",
    "    fdsnClient = Client(fdsnURL)  \n",
    "    if not os.path.isdir(data_root):\n",
    "        print('No such directory %s' % data_root)\n",
    "        return None, None\n",
    "    \n",
    "    # STEP 1 - FIND STATIONS BY REQUESTING AN INVENTORY\n",
    "    prepend = get_fdsn_identifier(fdsnURL)\n",
    "    stationXmlFile = os.path.join(data_root, '%s%s_within_%.0f_degrees.xml' % (prepend, chanstring, searchRadiusDeg))\n",
    "    mseedfile = stationXmlFile.replace('.xml','.mseed')\n",
    "    print(stationXmlFile, mseedfile)\n",
    "    \n",
    "    if os.path.exists(stationXmlFile) and overwrite==False:\n",
    "        inv = obspy.read_inventory(stationXmlFile)\n",
    "    else:\n",
    "        inv = get_FDSN_inventory(fdsnClient, startt, stationXmlFile, network, olat, olon, \\\n",
    "            searchRadiusDeg, 0, endt - startt, station = station, channel = chanstring ) # get all low rate, outside barometers\n",
    "    trace_ids = inventory2traceid(inv)\n",
    "    print(trace_ids)\n",
    "    \n",
    "    # STEP 2 - LOAD CORRESPONDING WAVEFORM DATA\n",
    "    if os.path.exists(mseedfile) and overwrite==False:\n",
    "        st = obspy.core.read(mseedfile)\n",
    "    else:\n",
    "        st = obspy.core.Stream()\n",
    "        for trace_id in trace_ids:\n",
    "            try:\n",
    "                net, sta, loc, cha = trace_id.split('.')\n",
    "            except:\n",
    "                net, sta, cha = trace_id.split('.')\n",
    "                loc = '*'\n",
    "            try:\n",
    "                st0 = fdsnClient.get_waveforms(net, sta, loc, cha, startt, endt)\n",
    "                print('waveform downloaded for ', trace_id)\n",
    "                if len(st0)==1:\n",
    "                    st.append(st0[0])\n",
    "                else:\n",
    "                    print('More than 1 Trace')\n",
    "                    last_id = ''\n",
    "                    for tr0 in st0:\n",
    "                        if tr0.id != last_id:\n",
    "                            st.append(tr0)\n",
    "                        else:\n",
    "                            st.remove(st[-1])\n",
    "            except:\n",
    "                print('failed to download waveform for ', trace_id)\n",
    "            \n",
    "        # save waveform data\n",
    "        if len(st)>0:\n",
    "            st.write(stationXmlFile.replace('.xml','.mseed'))\n",
    "        \n",
    "    return st, inv\n",
    "\n",
    "def reconstitute_stream(st, inv, fmin=0.0001):\n",
    "    T=1.0/fmin\n",
    "    \n",
    "    # deal with multiple traces with same trace ID, by appending and merging one at a time,\n",
    "    # and removing any time there is a fail.\n",
    "    st2 = obspy.core.Stream()\n",
    "    for tr_original in st:\n",
    "        tr = tr_original.copy()\n",
    "        st2 = st2.append(tr)\n",
    "        try:\n",
    "            st2.merge(method=1, fill_value=0)\n",
    "        except:\n",
    "            st2.remove(tr)\n",
    "            pass\n",
    "        \n",
    "    # reconstitute as many traces as possible, and return them\n",
    "    reconstituted = obspy.core.Stream()\n",
    "    failed_ids = []\n",
    "    for tr_original in st2:\n",
    "        tr = tr_original.copy()\n",
    "        \n",
    "        # remove gappy Trace objects, filled with 0 above (threshold 10%)\n",
    "        n = np.count_nonzero(tr.data==0)\n",
    "        if n/len(tr.data) > 0.1:\n",
    "            st2.remove(tr_original)\n",
    "            continue\n",
    "            \n",
    "        # high pass filter    \n",
    "        tr.detrend('linear')\n",
    "        duration = tr.stats.endtime - tr.stats.starttime\n",
    "        tr.taper(T/duration)\n",
    "        tr.stats['maxamp_raw'] = np.max(np.abs(tr.data))\n",
    "        tr.filter(\"highpass\", freq=fmin, corners=2)\n",
    "        \n",
    "        # remove response\n",
    "        try:\n",
    "            tr.remove_response(inventory=inv)\n",
    "            reconstituted.append(tr)\n",
    "            #print(tr.id, ' reconstituted')\n",
    "        except:\n",
    "            #print(tr.id, ' NOT reconstituted')\n",
    "            failed_ids.append(tr.id)\n",
    "            pass\n",
    "        tr.detrend('linear')\n",
    "        tr.stats['maxamp_corrected'] = np.max(np.abs(tr.data))\n",
    "    print('Failed to reconstitute: ', failed_ids)\n",
    "\n",
    "    #reconstituted.plot(equal_scale=True);\n",
    "    \n",
    "    return reconstituted\n",
    "\n",
    "\n",
    "def attach_station_coordinates_from_inventory(inventory, st):\n",
    "    \"\"\" attach_station_coordinates_from_inventory \"\"\"\n",
    "    for tr in st:\n",
    "        for netw in inventory.networks:\n",
    "            for sta in netw.stations:\n",
    "                if tr.stats.station == sta.code and netw.code == tr.stats.network:\n",
    "                    for cha in sta.channels:\n",
    "                        if tr.stats.location == cha.location_code:\n",
    "                            tr.stats.coordinates = obspy.core.util.AttribDict({\n",
    "                                'latitude':cha.latitude,\n",
    "                                'longitude':cha.longitude,\n",
    "                                'elevation':cha.elevation})\n",
    "                            \n",
    "def attach_distance_to_stream(st, olat, olon):\n",
    "    for tr in st:\n",
    "        try:\n",
    "            alat = tr.stats['coordinates']['latitude']\n",
    "            alon = tr.stats['coordinates']['longitude']\n",
    "            distdeg = locations2degrees(olat, olon, alat, alon)\n",
    "            distkm = degrees2kilometers(distdeg)\n",
    "            tr.stats['distance'] =  distkm * 1000\n",
    "        except:\n",
    "            print('cannot compute distance for %s' % tr.id)\n",
    "            \n",
    "def remove_outliers(a, f=30, amax=2000, amin=1):\n",
    "    bad_indices = []\n",
    "    \n",
    "    # subset to range amax to amin\n",
    "    for i, v in enumerate(a):\n",
    "        if v > amax:\n",
    "            bad_indices.append(i)\n",
    "        if v < amin:\n",
    "            bad_indices.append(i)            \n",
    "    #print(bad_indices)\n",
    "    if len(bad_indices)>0:\n",
    "        for i in bad_indices:\n",
    "            a[i]=np.NaN     \n",
    "            \n",
    "    # subset further based on median\n",
    "    m = np.median(a)\n",
    "    bad_indices = []\n",
    "    for i, v in enumerate(a):\n",
    "        if v > m * f:\n",
    "            bad_indices.append(i)\n",
    "        if v * f < m:\n",
    "            bad_indices.append(i)            \n",
    "    #print(bad_indices)\n",
    "    if len(bad_indices)>0:\n",
    "        for i in bad_indices:\n",
    "            a[i]=np.NaN \n",
    "    return a\n",
    "    \n",
    "def plot_amplitude_versus_distance(st, units):\n",
    "    r = []\n",
    "    a = []\n",
    "    for tr in st:\n",
    "        r.append(tr.stats.distance/1000)\n",
    "        #a.append(tr.stats.maxamp_corrected)\n",
    "        Pmax = np.max(np.abs(tr.data))\n",
    "        a.append(Pmax)\n",
    "        tr.stats['Pmax']=Pmax\n",
    "    #r = np.array(r)/1000 # convert to km\n",
    "    remove_outliers(a)     \n",
    "    fig = plt.figure(figsize=(12,12))\n",
    "    ax = fig.add_subplot(1,1,1)\n",
    "    ax.scatter(r, a)\n",
    "    ax.set_ylabel('Maximum amplitude (%s)' % units)\n",
    "    ax.set_xlabel('Distance (km)')\n",
    "    plt.show()\n",
    "    \n",
    "def plot_reduced_pressure(st, units):\n",
    "    r = []\n",
    "    a = []\n",
    "    for tr in st:\n",
    "        r.append(tr.stats.distance/1000)\n",
    "        #a.append(tr.stats.maxamp_corrected * np.sqrt(tr.stats.distance_in_km))\n",
    "        PRmax=np.max(np.abs(tr.data))* np.sqrt(tr.stats.distance/1000)\n",
    "        a.append(PRmax)\n",
    "        tr.stats['PRmax']=PRmax\n",
    "    #r = np.array(r)/1000 # convert to km    \n",
    "    remove_outliers(a, amax=50000, amin=1000)    \n",
    "    fig = plt.figure(figsize=(12,12))\n",
    "    ax = fig.add_subplot(1,1,1)\n",
    "    ax.scatter(r, a)\n",
    "    ax.set_ylabel('Reduced Pressure (%s)' % units)\n",
    "    ax.set_xlabel('Distance (km)')\n",
    "    plt.show()\n",
    "    \n",
    "def yes_or_no(question, default_answer='y', auto=False):\n",
    "    #while \"the answer is invalid\":\n",
    "    if auto==True:\n",
    "        reply = ''\n",
    "    else:\n",
    "        reply = str(input(question+' (y/n): ')).lower().strip()\n",
    "    if len(reply) == 0:\n",
    "        reply = default_answer\n",
    "    if reply[0] == 'y':\n",
    "        return True\n",
    "    if reply[0] == 'n':\n",
    "        return False\n",
    "        \n",
    "def manually_select_good_traces(st2, trim_mins=0, record_section=False, auto=False, wlen=7200):\n",
    "    r = get_distance_vector(st2)\n",
    "    st = order_traces_by_distance(st2, r) # sort traces by distance\n",
    "    last_distance = -9999999\n",
    "    last_max_amp = 999999999999\n",
    "    stkeep = obspy.core.Stream()\n",
    "    for tr in st:\n",
    "        startt = tr.stats.starttime + trim_mins * 60\n",
    "        endt = tr.stats.endtime - trim_mins + 60 \n",
    "        if 'arrival' in tr.stats:\n",
    "            print(tr.stats.arrival)\n",
    "            startt = tr.stats.arrival['arrivaltime'] - wlen/10\n",
    "            endt = tr.stats.arrival['arrivaltime'] + wlen + wlen/10\n",
    "        if endt > startt:\n",
    "            tr.trim(starttime=startt, endtime=endt)\n",
    "            tr.plot()\n",
    "            \n",
    "            # only recommend to keep a trace if amplitude less than twice previous\n",
    "            this_max_amp = np.max(np.abs(tr.data))\n",
    "            print('max amp = ', this_max_amp)\n",
    "            this_distance = tr.stats.distance\n",
    "            print('distance = ', this_distance)\n",
    "            recommend = 'n'\n",
    "            if this_max_amp < 2 * last_max_amp:\n",
    "                if record_section: # if record section, only recommend to keep if at least 100 km from previous kept trace\n",
    "                    if this_distance > last_distance + 200000:\n",
    "                        recommend = 'y'\n",
    "                else:\n",
    "                    recommend = 'y'\n",
    "\n",
    "            if yes_or_no('keep this trace? (%s)' % recommend, default_answer=recommend, auto=auto):\n",
    "                stkeep.append(tr.copy())\n",
    "                last_distance = this_distance\n",
    "                last_max_amp = this_max_amp\n",
    "    return stkeep\n",
    "\n",
    "def select_previously_manually_selected_traces(st, good_ids):\n",
    "    stkeep = obspy.core.Stream()\n",
    "    for tr in st:\n",
    "        if tr.id in good_ids:\n",
    "            stkeep.append(tr.copy())\n",
    "    return stkeep\n",
    "\n",
    "def analyze_clientchan(fdsnClient, chanstring, fmin=0.001, network='*', station='*', location='*'):\n",
    "    T = np.round(1/fmin,0)\n",
    "    \n",
    "    this_stream, this_inventory = get_inventory_and_waveforms(fdsnClient, searchRadiusDeg, olat, olon, startt, endt, chanstring, DATA_ROOT, network=network, station=station, location=location, overwrite=False)\n",
    "    attach_station_coordinates_from_inventory(this_inventory, this_stream)\n",
    "    attach_distance_to_stream(this_stream, olat, olon)\n",
    "    \n",
    "    prepend = get_fdsn_identifier(fdsnClient)\n",
    "    this_reconstituted = reconstitute_stream(this_stream, this_inventory, fmin=fmin)\n",
    "    reconfile = os.path.join(DATA_ROOT, '%s%s_reconstituted_%.0f.mseed' % (prepend, chanstring, T))    \n",
    "    #if chanstring[0]!='L':\n",
    "    #    median_downsample_to_1Hz(this_reconstituted)\n",
    "    #    reconfile = os.path.join(DATA_ROOT, '%s%s_reconstituted_%.0f_downsampled.mseed' % (prepend, chanstring, T))\n",
    "    if not os.path.exists(reconfile):\n",
    "        this_reconstituted.write(reconfile)\n",
    "    \n",
    "    good_ids_pickle = os.path.join(DATA_ROOT, '%sgood_%s_ids_within_%.0f_degrees.pkl' % (prepend, chanstring, searchRadiusDeg))\n",
    "    if os.path.exists(good_ids_pickle):\n",
    "        with open(good_ids_pickle, 'rb') as f:\n",
    "            good_ids = pickle.load(f)        \n",
    "        this_good = select_previously_manually_selected_traces(this_reconstituted, good_ids)\n",
    "    else:\n",
    "        this_good = manually_select_good_traces(this_reconstituted)\n",
    "        good_ids = []\n",
    "        for tr in this_good:\n",
    "            good_ids.append(tr.id)\n",
    "        print(good_ids)\n",
    "        print(len(good_ids))\n",
    "        with open(good_ids_pickle, 'wb') as f:\n",
    "            pickle.dump(good_ids, f)    \n",
    "        this_good.write(os.path.join(DATA_ROOT, '%s%s_good.mseed' % (prepend, chanstring)))   \n",
    "         \n",
    "    plot_amplitude_versus_distance(this_good, 'Pa')\n",
    "    plot_reduced_pressure(this_good, 'Pa')\n",
    "    \n",
    "    good_inv = subset_inv(this_inventory, this_stream, this_good)\n",
    "    plot_inv(good_inv)\n",
    "    \n",
    "    return this_good, good_inv, this_stream, this_inventory\n",
    "\n",
    "def subset_inv(inv, st, st_subset):\n",
    "    # subset an inventory based on a stream object which is a subset of another\n",
    "    try:\n",
    "        inv_new = inv.copy() # got an error here once that Inventory has no copy(), but it does\n",
    "        for tr in st:\n",
    "            if len(st_subset.select(id=tr.id))==0:\n",
    "                inv_new = inv_new.remove(network=tr.stats.network, station=tr.stats.station, location=tr.stats.location, channel=tr.stats.channel)\n",
    "        return inv_new\n",
    "    except:\n",
    "        print('Failed to subset inventory. Returning unchanged')\n",
    "        return inv\n",
    "\n",
    "def plot_inv(inv):\n",
    "    inv.plot(water_fill_color=[0.0, 0.5, 0.8], continent_fill_color=[0.1, 0.6, 0.1], size=30);\n",
    "    \n",
    "def medfilt(x, k):\n",
    "    \"\"\"Apply a length-k median filter to a 1D array x.\n",
    "    Boundaries are extended by repeating endpoints.\n",
    "    \"\"\"\n",
    "    assert k % 2 == 1, \"Median filter length must be odd.\"\n",
    "    assert x.ndim == 1, \"Input must be one-dimensional.\"\n",
    "    k2 = (k - 1) // 2\n",
    "    y = np.zeros ((len (x), k), dtype=x.dtype)\n",
    "    y[:,k2] = x\n",
    "    for i in range (k2):\n",
    "        j = k2 - i\n",
    "        y[j:,i] = x[:-j]\n",
    "        y[:j,i] = x[0]\n",
    "        y[:-j,-(i+1)] = x[j:]\n",
    "        y[-j:,-(i+1)] = x[-1]\n",
    "    return np.median(y, axis=1)\n",
    "\n",
    "\n",
    "def median_downsample_to_1Hz(st, winlec_sec=1.0):\n",
    "    for tr in st:\n",
    "        y = medfilt(tr.data, np.round(winlen_secs / tr.stats.delta,0) )\n",
    "        fs = np.round(tr.stats.sampling_rate,0)\n",
    "        if fs>=2.0:\n",
    "            fs_new = tr.stats.sampling_rate/fs\n",
    "            tr.data = y[0::fs]\n",
    "            tr.stats.sampling_rate=fs_new\n",
    "\n",
    "            \n",
    "def plots(this_good, inv, olat, olon, otime, startt=0, endt=0, minf=0, maxf=0, auto=False):  \n",
    "\n",
    "    st = this_good.copy()\n",
    "    if endt>startt:\n",
    "        st.trim(starttime=startt, endtime=endt)\n",
    "    if minf>0:\n",
    "        st.filter('highpass', freq=minf, corners=2 )\n",
    "    if maxf>0:\n",
    "        st.filter('lowpass', freq=maxf, corners=2 )\n",
    "    plot_amplitude_versus_distance(st, 'Pa')\n",
    "    plot_reduced_pressure(st, 'Pa')   \n",
    "    plot_inv(inv)\n",
    "\n",
    "    ntraces = len(st)\n",
    "    nsamples = len(st[0].data)    \n",
    "    if nsamples * ntraces > 3600 * 30 * 50: # no more than 1 sample per second for 30 hours for 50 traces\n",
    "        st.decimate(8)\n",
    "    print('Select good traces for record section')\n",
    "    st2 = manually_select_good_traces(st, record_section=True, auto=auto)    \n",
    "    st2.plot(type='section', scale=10, norm_method='stream', orientation='horizontal', dist_degree=True, ev_coord=[olat,olon]) #, reftime=otime)\n",
    "\n",
    "def get_distance_vector(st):\n",
    "    r = []\n",
    "    for tr in st:\n",
    "        r.append(tr.stats.distance)\n",
    "    return r\n",
    "        \n",
    "    \n",
    "def order_traces_by_distance(st, r): \n",
    "    st2 = obspy.core.Stream()\n",
    "    indices = np.argsort(r)\n",
    "    #print(indices)\n",
    "    for i in indices:\n",
    "        tr = st[i].copy()\n",
    "        st2.append(tr)\n",
    "        #print(tr)\n",
    "    return st2\n",
    "\n",
    "def pick_pressure_onset(st, otime, cmin, cmax):\n",
    "    print('Pick onset times with left mouse button. Middle button to skip trace.')\n",
    "    for tr in st:\n",
    "        mintime = otime + tr.stats.distance/cmax\n",
    "        maxtime = otime + tr.stats.distance/cmin\n",
    "        winsecs = maxtime - mintime\n",
    "        \n",
    "        good_trace = False\n",
    "        \n",
    "        while winsecs > 180:\n",
    "            tr2 = tr.copy().trim(starttime=mintime, endtime=maxtime)\n",
    "            t = np.arange(0,tr2.stats.delta*len(tr2.data),tr2.stats.delta)\n",
    "            plt.plot(t, tr2.data)\n",
    "            plt.title(tr.id)\n",
    "            plt.show()\n",
    "            pos = plt.ginput(1, timeout=5.0, show_clicks=True )\n",
    "            plt.close()\n",
    "            if len(pos[0])>0:\n",
    "                good_trace = True\n",
    "                x = pos[0][0]\n",
    "                atime = tr2.stats.starttime + x\n",
    "                print(atime)\n",
    "                winsecs = winsecs / 10\n",
    "                mintime = atime - winsecs/2\n",
    "                maxtime = atime + winsecs/2 \n",
    "            else:\n",
    "                break\n",
    "        \n",
    "        \n",
    "        if good_trace:\n",
    "            traveltime = atime - otime\n",
    "            tr.stats['arrival'] = obspy.core.util.AttribDict({\n",
    "                                'arrivaltime':atime,\n",
    "                                'c':tr.stats.distance/traveltime,\n",
    "                                'traveltime':traveltime})\n",
    "            print(tr.stats.arrival)\n",
    "        \n",
    "\n",
    "def regress_arrival_times(st, reftime, outfile=None):\n",
    "    fh = plt.figure(figsize=(16,16))\n",
    "    ah = fh.add_subplot(1,1,1)\n",
    "    atimes=[]\n",
    "    r=[]\n",
    "    for i, tr in enumerate(st):   \n",
    "        r.append(tr.stats.distance)\n",
    "        atimes.append(tr.stats.arrival.arrivaltime - reftime)  \n",
    "    atimes = np.array(atimes)\n",
    "    r = np.array(r)\n",
    "    #m, c = np.polyfit(atimes, r, deg=1)\n",
    "    wavespeed, d_intercept, r_value, p_value, std_err = linregress(atimes, r)\n",
    "    ah.plot(atimes, r, 'bx') # data\n",
    "    t_intercept = -d_intercept/wavespeed\n",
    "    t = np.arange(min([t_intercept,0.0]), np.max(atimes), np.max(atimes)/1000) # 1000 steps\n",
    "    d = wavespeed * t + d_intercept\n",
    "    ah.plot(t, d) # line\n",
    "    new_otime = reftime + t_intercept\n",
    "    #print(wavespeed, d_intercept, t_intercept, r_value, p_value, std_err)\n",
    "    print('infrasonic wave speed = %.1f m/s, origin time = %s' % (wavespeed, new_otime.strftime('%Y-%m-%d %H:%M:%S')))\n",
    "    ah.set_ylabel('Distance (m)')\n",
    "    ah.set_xlabel('Time (seconds) after %s' % reftime.strftime('%Y-%m-%d %H:%M:%S'))\n",
    "    #ah.set_ylim(-1e5, 1e5)\n",
    "    #ah.set_xlim(-1e3, 3e1)\n",
    "    ah.grid()\n",
    "    speed_to_nearest_station = st[0].stats.distance / (st[0].stats.arrival.arrivaltime - new_otime)\n",
    "    print('Average speed to station %s at %.1f km is %.1f m/s' % (st[0].stats.station, st[0].stats.distance/1000, speed_to_nearest_station ))\n",
    "    print('To fit earthquake time, speed is %.1f m/s' % (st[0].stats.distance / (st[0].stats.arrival.arrivaltime - reftime)))\n",
    "\n",
    "    if outfile:\n",
    "        fh.savefig(outfile)\n",
    "    return wavespeed, new_otime, t, d\n",
    "\n",
    "def plot_record_section(st2, reftime, outfile=None, starttime=0, endtime=0, \\\n",
    "                        km_min=0, km_max=40075.0/2, slope_speed = 0, \\\n",
    "                        scale_factor=1.0, plot_arrivals=False ):\n",
    "    r = np.array(get_distance_vector(st2))\n",
    "    st = order_traces_by_distance(st2, r)\n",
    "    if endtime>starttime:\n",
    "        st.trim(starttime=starttime, endtime=endtime)    \n",
    "    \n",
    "    rmax = np.max(r)\n",
    "    l = len(st)\n",
    "    max_trace_height = scale_factor/l *(km_max-km_min)\n",
    "    #st.normalize(global_max=True) \n",
    "    km_per_Pa = 1.0\n",
    "    last_r = -9999999\n",
    "    last_asecs = -99999999\n",
    "    min_spacing_km = 111.0  * 1000\n",
    "    max_pascals = 1500\n",
    "    \n",
    "    \n",
    "    fh = plt.figure(figsize=(16,16))\n",
    "    ah = fh.add_subplot(1,1,1)\n",
    "    for i, tr in enumerate(st):\n",
    "\n",
    "        tr.detrend('linear')\n",
    "        if np.max(np.abs(tr.data))>max_pascals:\n",
    "            continue\n",
    "        \n",
    "        # distance to station and offset in km\n",
    "        this_r = tr.stats.distance\n",
    "        offset_km = this_r/1000\n",
    " \n",
    "        # plot arrival time\n",
    "        if 'arrival' in tr.stats:\n",
    "            asecs = tr.stats.arrival.arrivaltime - reftime\n",
    "            #if asecs < last_asecs:\n",
    "            #    continue\n",
    "            if plot_arrivals:\n",
    "                ahours = asecs/3600\n",
    "                ah.plot(ahours, offset_km, 'b.', zorder=len(st)*2+11-i)        \n",
    "            last_asecs = asecs\n",
    "        \n",
    "        # time\n",
    "        t0 = tr.stats.starttime - reftime\n",
    "        t = t0 + np.arange(0, tr.stats.delta*len(tr.data), tr.stats.delta)     \n",
    "        h = t/3600.0\n",
    "        max_h = np.max(h) \n",
    "        \n",
    "        # color\n",
    "        diff_r = this_r - last_r\n",
    "        col = [0, 0, 0]\n",
    "        if diff_r < min_spacing_km:\n",
    "            brightness = 1.0 - diff_r/min_spacing_km\n",
    "            col = [brightness, brightness, brightness]\n",
    "            \n",
    "        # plot\n",
    "        ah.plot(h, offset_km+(tr.data * km_per_Pa * scale_factor), \\\n",
    "                color=col, linewidth=0.5, zorder=len(st)*2+10-i)\n",
    "\n",
    "        last_r = this_r\n",
    "        \n",
    "    if slope_speed>0:\n",
    "        t_prime = np.array([r[0], rmax/slope_speed])\n",
    "        d_prime = slope_speed * t_prime\n",
    "        ah.plot(t_prime/3600, d_prime/1000, 'r:' )\n",
    "\n",
    "        \n",
    "    ah.set_yticks(np.arange(km_min, km_max, 1000.0))\n",
    "    ah.set_xticks(np.arange(t[0], t[-1], 1.0))\n",
    "    \n",
    "    ah.set_ylabel('Distance (km)')\n",
    "    ah.set_xlabel('Time (hours) after %s' % reftime.strftime('%Y-%m-%d %H:%M:%S'))\n",
    "    ah.xaxis.set_major_formatter(plt.FuncFormatter('{:.0f}'.format))\n",
    "    ah.yaxis.set_major_formatter(plt.FuncFormatter('{:.0f}'.format))\n",
    "    \n",
    "    ah2 = ah.twinx()\n",
    "    y2 = [0, rmax/m_per_deg]\n",
    "    ah2.plot([0, 0],y2,'k-')\n",
    "    ylim_km = ah.get_ylim()\n",
    "    #ah2.set_ylim(ylim_km[0]*1000/m_per_deg, ylim_km[1]*1000/m_per_deg)\n",
    "    ah2.set_ylabel('Distance (degrees)')\n",
    "    ah.autoscale(enable=True, tight=True)\n",
    "    ah.set_ylim(0, circum_earth_km/2)\n",
    "    ah2.set_ylim(0, 180)\n",
    "    ah.grid(axis='x', color = 'green', linestyle = ':', linewidth = 0.5)\n",
    "    if outfile:\n",
    "        fh.savefig(outfile)\n",
    "\n",
    "def plot_combined_versus_distance(st_list, inv_list, units, corrected=False):\n",
    "    fig = plt.figure(figsize=(12,12))\n",
    "    ax = fig.add_subplot(1,1,1)   \n",
    "    cols = ['r','g','b']\n",
    "    labels = ['IRIS LDF', 'IRIS LDO', 'RBOOM']\n",
    "    for i, st_original in enumerate(st_list):\n",
    "        st = st_original.copy()\n",
    "        inv = inv_list[i]\n",
    "        attach_station_coordinates_from_inventory(inv, st)\n",
    "        attach_distance_to_stream(st, olat, olon)\n",
    "        st.trim(starttime=startt+1*60, endtime=startt+18*3600) # just examine first pulse\n",
    "        r = []\n",
    "        a = []\n",
    "        for tr in st:\n",
    "            r.append(tr.stats.distance_in_km)\n",
    "            #a.append(tr.stats.maxamp_corrected)\n",
    "            if corrected:\n",
    "                a.append(np.max(np.abs(tr.data))* np.sqrt(tr.stats.distance_in_km))\n",
    "            else:\n",
    "                a.append(np.max(np.abs(tr.data)))\n",
    "        remove_outliers(a, f=100)     \n",
    "        ax.scatter(r, a, c=cols[i], label=labels[i])\n",
    "    if corrected:\n",
    "        ax.set_ylabel('Reduced Pressure (%s)' % units)\n",
    "    else:\n",
    "        ax.set_ylabel('Maximum amplitude (%s)' % units)\n",
    "    ax.set_xlabel('Distance (km)')\n",
    "    ax.legend()\n",
    "    plt.show()        "
   ]
  },
  {
   "cell_type": "markdown",
   "metadata": {},
   "source": [
    "# 2. Parameters"
   ]
  },
  {
   "cell_type": "code",
   "execution_count": 9,
   "metadata": {},
   "outputs": [],
   "source": [
    "DATA_ROOT = os.path.join(os.getenv('HOME'), 'DATA', 'Tonga_eruption_analysis')\n",
    "if not os.path.isdir(DATA_ROOT):\n",
    "    os.makedirs(DATA_ROOT)\n",
    "searchRadiusDeg = 180\n",
    "fmin = 0.0001\n",
    "T = 1.0/fmin\n",
    "circum_earth_km = 40075\n",
    "circum_earth_m = circum_earth_km*1000\n",
    "m_per_deg = circum_earth_m/360.0\n",
    "\n",
    "# location of Hunga-Tonga Hunga-Ha'apai\n",
    "olat = -(20 + 34/60 + 12 /3600) \n",
    "olon = -(175 + 22/60 + 48/3600)\n",
    "otime = obspy.core.UTCDateTime('2022-01-15T04:14:45.000000Z') # main eruption time - on day 2\n",
    "\n",
    "startt =  obspy.core.UTCDateTime('2022-01-13T00:00:00.000000Z') - T*2\n",
    "endt = obspy.core.UTCDateTime('2022-01-20T00:00:00.000000Z') + T*2 # get 34 hours of data, since this is approximate time for sound waves to circle the earth"
   ]
  },
  {
   "cell_type": "markdown",
   "metadata": {},
   "source": [
    "# 3. Run for barometers outside (LDO)"
   ]
  },
  {
   "cell_type": "code",
   "execution_count": null,
   "metadata": {},
   "outputs": [
    {
     "name": "stdout",
     "output_type": "stream",
     "text": [
      "/home/thompsong/DATA/Tonga_eruption_analysis/iris_LDO_within_180_degrees.xml /home/thompsong/DATA/Tonga_eruption_analysis/iris_LDO_within_180_degrees.mseed\n",
      "['AE.214A.LDO', 'AK.A19K.LDO', 'AK.A21K.LDO', 'AK.A22K.LDO', 'AK.B18K.LDO', 'AK.B20K.LDO', 'AK.B22K.LDO', 'AK.C16K.LDO', 'AK.C18K.LDO', 'AK.C19K.LDO', 'AK.C21K.LDO', 'AK.C23K.LDO', 'AK.C26K.LDO', 'AK.C27K.LDO', 'AK.CAPN.LDO', 'AK.CHUM.LDO', 'AK.COLD.LDO', 'AK.CUT.LDO', 'AK.D17K.LDO', 'AK.D20K.LDO', 'AK.D22K.LDO', 'AK.D24K.LDO', 'AK.D25K.LDO', 'AK.E18K.LDO', 'AK.E19K.LDO', 'AK.E21K.LDO', 'AK.E22K.LDO', 'AK.E24K.LDO', 'AK.E25K.LDO', 'AK.E27K.LDO', 'AK.F15K.LDO', 'AK.F18K.LDO', 'AK.F20K.LDO', 'AK.F21K.LDO', 'AK.G17K.LDO', 'AK.G19K.LDO', 'AK.G23K.LDO', 'AK.G24K.LDO', 'AK.G27K.LDO', 'AK.H16K.LDO', 'AK.H17K.LDO', 'AK.H20K.LDO', 'AK.H21K.LDO', 'AK.H22K.LDO', 'AK.H23K.LDO', 'AK.H24K.LDO', 'AK.HARP.LDO', 'AK.HDA.LDO', 'AK.HOM.LDO', 'AK.I21K.LDO', 'AK.I23K.LDO', 'AK.I26K.LDO', 'AK.I27K.LDO', 'AK.J17K.LDO', 'AK.J19K.LDO', 'AK.J20K.LDO', 'AK.J25K.LDO', 'AK.J26L.LDO', 'AK.K13K.LDO', 'AK.K15K.LDO', 'AK.K20K.LDO', 'AK.K24K.LDO', 'AK.K27K.LDO', 'AK.L14K.LDO', 'AK.L16K.LDO', 'AK.L17K.LDO', 'AK.L18K.LDO', 'AK.L19K.LDO', 'AK.L20K.LDO', 'AK.L22K.LDO', 'AK.L26K.LDO', 'AK.M11K.LDO', 'AK.M14K.LDO', 'AK.M16K.LDO', 'AK.M19K.LDO', 'AK.M20K.LDO', 'AK.M23K.LDO', 'AK.M26K.LDO', 'AK.M27K.LDO', 'AK.MLY.LDO', 'AK.N15K.LDO', 'AK.N18K.LDO', 'AK.N19K.LDO', 'AK.NEA2.LDO', 'AK.O14K.LDO', 'AK.O18K.LDO', 'AK.O19K.LDO', 'AK.O20K.LDO', 'AK.P08K.LDO', 'AK.P16K.LDO', 'AK.P17K.LDO', 'AK.P23K.LDO', 'AK.POKR.LDO', 'AK.Q19K.LDO', 'AK.Q23K.LDO', 'AK.R16K.LDO', 'AK.R18K.LDO', 'AK.R32K.LDO', 'AK.RC01.LDO', 'AK.S15K.LDO', 'AK.S19K.LDO', 'AK.S31K.LDO', 'AK.S32K.LDO', 'AK.SKN.LDO', 'AK.SSN.LDO', 'AK.TOLK.LDO', 'AK.U33K.LDO', 'AK.V35K.LDO', 'AV.N20K.LDO', 'BK.MHDL.LDO', 'BK.MHDL.LDO', 'BK.OHLN.LDO', 'BK.OHLN.LDO', 'BK.OXMT.LDO', 'BK.OXMT.LDO', 'BK.SBRN.LDO', 'BK.SBRN.LDO', 'BK.SVIN.LDO', 'C.GO01.LDO', 'C.GO02.LDO', 'C.GO03.LDO', 'C.GO04.LDO', 'C.GO05.LDO', 'C.GO06.LDO', 'C.GO07.LDO', 'C.GO08.LDO', 'C.GO09.LDO', 'C.GO10.LDO', 'C0.S22A.LDO', 'C0.T25A.LDO', 'CU.ANWB.LDO', 'CU.ANWB.LDO', 'CU.ANWB.LDO', 'CU.BCIP.LDO', 'CU.BCIP.LDO', 'CU.BCIP.LDO', 'CU.GRGR.LDO', 'CU.GRGR.LDO', 'CU.GRGR.LDO', 'G.HDC.LDO', 'G.MPG.LDO', 'G.NOUC.LDO', 'G.TRIS.LDO', 'G.UNM.LDO', 'GS.FSUO.LDO', 'GS.FSUO.LDO', 'II.ASCN.LDO', 'II.ASCN.LDO', 'II.BFO.LDO', 'II.BORG.LDO', 'II.CMLA.LDO', 'II.EFI.LDO', 'II.KDAK.LDO', 'II.KIV.LDO', 'II.KWJN.LDO', 'II.LVZ.LDO', 'II.MBAR.LDO', 'II.MSVF.LDO', 'II.OBN.LDO', 'II.SACV.LDO', 'II.SHEL.LDO', 'II.SHEL.LDO', 'II.XPFO.LDO', 'IU.ADK.LDO', 'IU.ADK.LDO', 'IU.ADK.LDO', 'IU.AFI.LDO', 'IU.AFI.LDO', 'IU.AFI.LDO', 'IU.ANMO.LDO', 'IU.ANMO.LDO', 'IU.ANMO.LDO', 'IU.ANTO.LDO', 'IU.ANTO.LDO', 'IU.BBSR.LDO', 'IU.BBSR.LDO', 'IU.CASY.LDO', 'IU.CASY.LDO', 'IU.CCM.LDO', 'IU.CCM.LDO', 'IU.CHTO.LDO', 'IU.CHTO.LDO', 'IU.COLA.LDO', 'IU.COLA.LDO', 'IU.COLA.LDO', 'IU.COR.LDO', 'IU.COR.LDO', 'IU.CTAO.LDO', 'IU.CTAO.LDO', 'IU.CTAO.LDO', 'IU.DAV.LDO', 'IU.DAV.LDO', 'IU.DWPF.LDO', 'IU.DWPF.LDO', 'IU.DWPF.LDO', 'IU.FUNA.LDO', 'IU.FUNA.LDO', 'IU.FURI.LDO', 'IU.FURI.LDO', 'IU.GNI.LDO', 'IU.GUMO.LDO', 'IU.GUMO.LDO', 'IU.HKT.LDO', 'IU.HKT.LDO', 'IU.HNR.LDO', 'IU.HNR.LDO', 'IU.HRV.LDO', 'IU.HRV.LDO', 'IU.HRV.LDO', 'IU.INCN.LDO', 'IU.INCN.LDO', 'IU.JOHN.LDO', 'IU.JOHN.LDO', 'IU.KBS.LDO', 'IU.KEV.LDO', 'IU.KEV.LDO', 'IU.KIEV.LDO', 'IU.KIEV.LDO', 'IU.KIP.LDO', 'IU.KIP.LDO', 'IU.KMBO.LDO', 'IU.KMBO.LDO', 'IU.KNTN.LDO', 'IU.KNTN.LDO', 'IU.KONO.LDO', 'IU.KONO.LDO', 'IU.KOWA.LDO', 'IU.KOWA.LDO', 'IU.LCO.LDO', 'IU.LCO.LDO', 'IU.LSZ.LDO', 'IU.LSZ.LDO', 'IU.LVC.LDO', 'IU.LVC.LDO', 'IU.MAJO.LDO', 'IU.MAJO.LDO', 'IU.MBWA.LDO', 'IU.MBWA.LDO', 'IU.MIDW.LDO', 'IU.MIDW.LDO', 'IU.NWAO.LDO', 'IU.NWAO.LDO', 'IU.OTAV.LDO', 'IU.OTAV.LDO', 'IU.PAB.LDO', 'IU.PAB.LDO', 'IU.PAYG.LDO', 'IU.PAYG.LDO', 'IU.PAYG.LDO', 'IU.PMG.LDO', 'IU.PMG.LDO', 'IU.PMSA.LDO', 'IU.PMSA.LDO', 'IU.POHA.LDO', 'IU.POHA.LDO', 'IU.POHA.LDO', 'IU.PTCN.LDO', 'IU.PTCN.LDO', 'IU.QSPA.LDO', 'IU.QSPA.LDO', 'IU.RAO.LDO', 'IU.RAO.LDO', 'IU.RAR.LDO', 'IU.RAR.LDO', 'IU.RAR.LDO', 'IU.RCBR.LDO', 'IU.RCBR.LDO', 'IU.RSSD.LDO', 'IU.RSSD.LDO', 'IU.SAML.LDO', 'IU.SAML.LDO', 'IU.SBA.LDO', 'IU.SBA.LDO', 'IU.SFJD.LDO', 'IU.SFJD.LDO', 'IU.SFJD.LDO', 'IU.SJG.LDO', 'IU.SJG.LDO', 'IU.SLBS.LDO', 'IU.SLBS.LDO', 'IU.SLBS.LDO', 'IU.SNZO.LDO', 'IU.SNZO.LDO', 'IU.SSPA.LDO', 'IU.SSPA.LDO', 'IU.SSPA.LDO', 'IU.TARA.LDO', 'IU.TARA.LDO', 'IU.TATO.LDO', 'IU.TATO.LDO', 'IU.TEIG.LDO', 'IU.TEIG.LDO', 'IU.TRIS.LDO', 'IU.TRIS.LDO', 'IU.TRQA.LDO', 'IU.TRQA.LDO', 'IU.TSUM.LDO', 'IU.TSUM.LDO', 'IU.TUC.LDO', 'IU.TUC.LDO', 'IU.TUC.LDO', 'IU.ULN.LDO', 'IU.ULN.LDO', 'IU.ULN.LDO', 'IU.WAKE.LDO', 'IU.WAKE.LDO', 'IU.WAKE.LDO', 'IU.WCI.LDO', 'IU.WCI.LDO', 'IU.WCI.LDO', 'IU.WVT.LDO', 'IU.WVT.LDO', 'IU.XMAS.LDO', 'IU.XMAS.LDO', 'LD.GEDE.LDO', 'LD.WADE.LDO', 'MM.HKA.LDO', 'MM.KTN.LDO', 'MM.MDY.LDO', 'MM.TMU.LDO', 'MM.YGN.LDO', 'MU.P49A.LDO', 'N4.060A.LDO', 'N4.060A.LDO', 'N4.061Z.LDO', 'N4.061Z.LDO', 'N4.143B.LDO', 'N4.143B.LDO', 'N4.146B.LDO', 'N4.146B.LDO', 'N4.152A.LDO', 'N4.152A.LDO', 'N4.154A.LDO', 'N4.154A.LDO', 'N4.250A.LDO', 'N4.250A.LDO', 'N4.257A.LDO', 'N4.257A.LDO', 'N4.346B.LDO', 'N4.346B.LDO', 'N4.352A.LDO', 'N4.352A.LDO', 'N4.441B.LDO', 'N4.441B.LDO', 'N4.451A.LDO', 'N4.451A.LDO', 'N4.456A.LDO', 'N4.456A.LDO', 'N4.545B.LDO', 'N4.545B.LDO', 'N4.553A.LDO', 'N4.553A.LDO', 'N4.656A.LDO', 'N4.656A.LDO', 'N4.735B.LDO', 'N4.735B.LDO', 'N4.ABTX.LDO', 'N4.ABTX.LDO', 'N4.BGNE.LDO', 'N4.BGNE.LDO', 'N4.D62A.LDO', 'N4.D62A.LDO', 'N4.E28B.LDO', 'N4.E28B.LDO', 'N4.E38A.LDO', 'N4.E38A.LDO', 'N4.E46A.LDO', 'N4.E46A.LDO', 'N4.E62A.LDO', 'N4.E62A.LDO', 'N4.F33B.LDO', 'N4.F33B.LDO', 'N4.F42A.LDO', 'N4.F42A.LDO', 'N4.F64A.LDO', 'N4.F64A.LDO', 'N4.G40A.LDO', 'N4.G40A.LDO', 'N4.G62A.LDO', 'N4.G62A.LDO', 'N4.G65A.LDO', 'N4.G65A.LDO', 'N4.H43A.LDO', 'N4.H43A.LDO', 'N4.H62A.LDO', 'N4.H62A.LDO', 'N4.I37B.LDO', 'N4.I37B.LDO', 'N4.I40B.LDO', 'N4.I40B.LDO', 'N4.I42A.LDO', 'N4.I42A.LDO', 'N4.I45A.LDO', 'N4.I45A.LDO', 'N4.I49A.LDO', 'N4.I49A.LDO', 'N4.I62A.LDO', 'N4.I62A.LDO', 'N4.I63A.LDO', 'N4.I63A.LDO', 'N4.J47A.LDO', 'N4.J47A.LDO', 'N4.J55A.LDO', 'N4.J55A.LDO', 'N4.J57A.LDO', 'N4.J57A.LDO', 'N4.J59A.LDO', 'N4.J59A.LDO', 'N4.J61A.LDO', 'N4.J61A.LDO', 'N4.K22A.LDO', 'N4.K22A.LDO', 'N4.K30B.LDO', 'N4.K30B.LDO', 'N4.K43A.LDO', 'N4.K43A.LDO', 'N4.K50A.LDO', 'N4.K50A.LDO', 'N4.K57A.LDO', 'N4.K57A.LDO', 'N4.K62A.LDO', 'N4.K62A.LDO', 'N4.KMSC.LDO', 'N4.KMSC.LDO', 'N4.KMSC.LDO', 'N4.KSCO.LDO', 'N4.KSCO.LDO', 'N4.L34B.LDO', 'N4.L34B.LDO', 'N4.L40A.LDO', 'N4.L40A.LDO', 'N4.L42A.LDO', 'N4.L42A.LDO', 'N4.L56A.LDO', 'N4.L56A.LDO', 'N4.L59A.LDO', 'N4.L59A.LDO', 'N4.L61B.LDO', 'N4.L61B.LDO', 'N4.L64A.LDO', 'N4.L64A.LDO', 'N4.M44A.LDO', 'N4.M44A.LDO', 'N4.M50A.LDO', 'N4.M50A.LDO', 'N4.M52A.LDO', 'N4.M52A.LDO', 'N4.M57A.LDO', 'N4.M57A.LDO', 'N4.M63A.LDO', 'N4.M63A.LDO', 'N4.MDND.LDO', 'N4.MDND.LDO', 'N4.MSTX.LDO', 'N4.MSTX.LDO', 'N4.N35B.LDO', 'N4.N35B.LDO', 'N4.N38B.LDO', 'N4.N38B.LDO', 'N4.N41A.LDO', 'N4.N41A.LDO', 'N4.N47A.LDO', 'N4.N47A.LDO', 'N4.N49A.LDO', 'N4.N49A.LDO', 'N4.N51A.LDO', 'N4.N51A.LDO', 'N4.N53A.LDO', 'N4.N53A.LDO', 'N4.N58A.LDO', 'N4.N58A.LDO', 'N4.N62A.LDO', 'N4.N62A.LDO', 'N4.O20A.LDO', 'N4.O20A.LDO', 'N4.O48B.LDO', 'N4.O48B.LDO', 'N4.O49A.LDO', 'N4.O49A.LDO', 'N4.O52A.LDO', 'N4.O52A.LDO', 'N4.O54A.LDO', 'N4.O54A.LDO', 'N4.P38B.LDO', 'N4.P38B.LDO', 'N4.P40B.LDO', 'N4.P40B.LDO', 'N4.P43A.LDO', 'N4.P43A.LDO', 'N4.P46A.LDO', 'N4.P46A.LDO', 'N4.P48A.LDO', 'N4.P48A.LDO', 'N4.P53A.LDO', 'N4.P53A.LDO', 'N4.P57A.LDO', 'N4.P57A.LDO', 'N4.P61A.LDO', 'N4.P61A.LDO', 'N4.Q44B.LDO', 'N4.Q44B.LDO', 'N4.Q51A.LDO', 'N4.Q51A.LDO', 'N4.Q52A.LDO', 'N4.Q52A.LDO', 'N4.Q54A.LDO', 'N4.Q54A.LDO', 'N4.Q56A.LDO', 'N4.Q56A.LDO', 'N4.R32B.LDO', 'N4.R32B.LDO', 'N4.R40B.LDO', 'N4.R40B.LDO', 'N4.R49A.LDO', 'N4.R49A.LDO', 'N4.R50A.LDO', 'N4.R50A.LDO', 'N4.R55A.LDO', 'N4.R55A.LDO', 'N4.R58B.LDO', 'N4.R58B.LDO', 'N4.R61A.LDO', 'N4.R61A.LDO', 'N4.S39B.LDO', 'N4.S39B.LDO', 'N4.S44A.LDO', 'N4.S44A.LDO', 'N4.S51A.LDO', 'N4.S51A.LDO', 'N4.S54A.LDO', 'N4.S54A.LDO', 'N4.S57A.LDO', 'N4.S57A.LDO', 'N4.S61A.LDO', 'N4.S61A.LDO', 'N4.SFIN.LDO', 'N4.SFIN.LDO', 'N4.SPMN.LDO', 'N4.SPMN.LDO', 'N4.SUSD.LDO', 'N4.SUSD.LDO', 'N4.T35B.LDO', 'N4.T35B.LDO', 'N4.T42B.LDO', 'N4.T42B.LDO', 'N4.T45B.LDO', 'N4.T45B.LDO', 'N4.T47A.LDO', 'N4.T47A.LDO', 'N4.T50A.LDO', 'N4.T50A.LDO', 'N4.T57A.LDO', 'N4.T57A.LDO', 'N4.T59A.LDO', 'N4.T59A.LDO', 'N4.TIGA.LDO', 'N4.TIGA.LDO', 'N4.TUL3.LDO', 'N4.TUL3.LDO', 'N4.U38B.LDO', 'N4.U38B.LDO', 'N4.U49A.LDO', 'N4.U49A.LDO', 'N4.U54A.LDO', 'N4.U54A.LDO', 'N4.U56A.LDO', 'N4.U56A.LDO', 'N4.V48A.LDO', 'N4.V48A.LDO', 'N4.V53A.LDO', 'N4.V53A.LDO', 'N4.V55A.LDO', 'N4.V55A.LDO', 'N4.V58A.LDO', 'N4.V58A.LDO', 'N4.V61A.LDO', 'N4.V61A.LDO', 'N4.W50A.LDO', 'N4.W50A.LDO', 'N4.W52A.LDO', 'N4.W52A.LDO', 'N4.W57A.LDO', 'N4.W57A.LDO', 'N4.W59A.LDO', 'N4.W59A.LDO', 'N4.WHTX.LDO', 'N4.WHTX.LDO', 'N4.X48A.LDO', 'N4.X48A.LDO', 'N4.X51A.LDO', 'N4.X51A.LDO', 'N4.X58A.LDO', 'N4.X58A.LDO', 'N4.Y45B.LDO', 'N4.Y45B.LDO', 'N4.Y49A.LDO', 'N4.Y49A.LDO', 'N4.Y52A.LDO', 'N4.Y52A.LDO', 'N4.Y57A.LDO', 'N4.Y57A.LDO', 'N4.Y58A.LDO', 'N4.Y58A.LDO', 'N4.Y60A.LDO', 'N4.Y60A.LDO', 'N4.Z35B.LDO', 'N4.Z35B.LDO', 'N4.Z38B.LDO', 'N4.Z38B.LDO', 'N4.Z47B.LDO', 'N4.Z47B.LDO', 'NC.CMW1.LDO', 'NC.CSU1.LDO', 'NW.L44A.LDO', 'NW.L44A.LDO', 'OH.M53A.LDO', 'OH.O53A.LDO', 'OH.P51A.LDO', 'OH.P52A.LDO', 'OK.X37A.LDO', 'PB.B001.LDO', 'PB.B003.LDO', 'PB.B004.LDO', 'PB.B005.LDO', 'PB.B006.LDO', 'PB.B007.LDO', 'PB.B009.LDO', 'PB.B012.LDO', 'PB.B014.LDO', 'PB.B017.LDO', 'PB.B018.LDO', 'PB.B019.LDO', 'PB.B020.LDO', 'PB.B022.LDO', 'PB.B023.LDO', 'PB.B024.LDO', 'PB.B026.LDO', 'PB.B027.LDO', 'PB.B028.LDO', 'PB.B030.LDO', 'PB.B031.LDO', 'PB.B032.LDO', 'PB.B033.LDO', 'PB.B035.LDO', 'PB.B036.LDO', 'PB.B039.LDO', 'PB.B040.LDO', 'PB.B045.LDO', 'PB.B046.LDO', 'PB.B047.LDO', 'PB.B049.LDO', 'PB.B054.LDO', 'PB.B057.LDO', 'PB.B058.LDO', 'PB.B065.LDO', 'PB.B066.LDO', 'PB.B067.LDO', 'PB.B072.LDO', 'PB.B075.LDO', 'PB.B076.LDO', 'PB.B078.LDO', 'PB.B079.LDO', 'PB.B093.LDO', 'PB.B201.LDO', 'PB.B202.LDO', 'PB.B203.LDO', 'PB.B204.LDO', 'PB.B206.LDO', 'PB.B207.LDO', 'PB.B208.LDO', 'PB.B900.LDO', 'PB.B901.LDO', 'PB.B916.LDO', 'PB.B917.LDO', 'PB.B918.LDO', 'PB.B921.LDO', 'PB.B926.LDO', 'PB.B927.LDO', 'PB.B928.LDO', 'PB.B933.LDO', 'PB.B934.LDO', 'PB.B935.LDO', 'PB.B941.LDO', 'PB.B943.LDO', 'PB.B944.LDO', 'PB.B946.LDO', 'PB.B950.LDO', 'PB.DHL1.LDO', 'PY.BPH01.LDO', 'PY.BPH03.LDO', 'PY.BPH05.LDO', 'PY.BPH06.LDO', 'PY.BPH07.LDO', 'PY.BPH09.LDO', 'PY.BPH10.LDO', 'PY.BPH11.LDO', 'PY.BPH12.LDO', 'PY.TPFO.LDO', 'SB.WLA03.LDO', 'SC.121A.LDO', 'SC.Y22D.LDO', 'SG.ST.LDO', 'SG.YS.LDO', 'TA.M65A.LDO', 'UO.BEER.LDO', 'UO.CAVE.LDO', 'UO.DFAZ.LDO', 'UO.DRAN.LDO', 'UO.FHAC.LDO', 'UO.JESE.LDO', 'UO.LAIR.LDO', 'UO.MINN.LDO', 'UO.NATH.LDO', 'UO.RAIN.LDO', 'UO.ROGE.LDO', 'UO.TOOM.LDO', 'UO.WLOO.LDO', 'UO.WOOD.LDO', 'US.ECSD.LDO', 'US.EYMN.LDO', 'US.GOGA.LDO', 'US.KSU1.LDO', 'US.NEW.LDO', 'US.WRAK.LDO', 'WY.YDD.LDO', 'XB.ELYSE.LDO', 'XX.S39B.LDO', 'XX.S39B.LDO', 'YN.TFRD.LDO']\n"
     ]
    },
    {
     "name": "stdout",
     "output_type": "stream",
     "text": [
      "Failed to reconstitute:  ['C0.S22A.EP.LDO', 'C0.T25A.EP.LDO', 'G.HDC.00.LDO', 'G.MPG.00.LDO', 'G.NOUC.00.LDO', 'G.UNM.00.LDO', 'GS.FSUO.30.LDO', 'GS.FSUO.31.LDO', 'N4.060A.30.LDO', 'N4.060A.31.LDO', 'N4.143B.30.LDO', 'N4.143B.31.LDO', 'N4.146B.30.LDO', 'N4.146B.31.LDO', 'N4.154A.30.LDO', 'N4.154A.31.LDO', 'N4.250A.30.LDO', 'N4.250A.31.LDO', 'N4.346B.30.LDO', 'N4.346B.31.LDO', 'N4.352A.30.LDO', 'N4.352A.31.LDO', 'N4.441B.30.LDO', 'N4.441B.31.LDO', 'N4.456A.30.LDO', 'N4.456A.31.LDO', 'N4.545B.30.LDO', 'N4.545B.31.LDO', 'N4.553A.30.LDO', 'N4.553A.31.LDO', 'N4.656A.30.LDO', 'N4.656A.31.LDO', 'N4.735B.30.LDO', 'N4.735B.31.LDO', 'N4.BGNE.30.LDO', 'N4.BGNE.31.LDO', 'N4.D62A.30.LDO', 'N4.D62A.31.LDO', 'N4.E28B.30.LDO', 'N4.E28B.31.LDO', 'N4.E38A.30.LDO', 'N4.E38A.31.LDO', 'N4.E46A.30.LDO', 'N4.E46A.31.LDO', 'N4.F33B.30.LDO', 'N4.F33B.31.LDO', 'N4.F42A.30.LDO', 'N4.F42A.31.LDO', 'N4.F64A.30.LDO', 'N4.F64A.31.LDO', 'N4.G40A.30.LDO', 'N4.G40A.31.LDO', 'N4.G62A.30.LDO', 'N4.G62A.31.LDO', 'N4.G65A.30.LDO', 'N4.G65A.31.LDO', 'N4.H43A.30.LDO', 'N4.H43A.31.LDO', 'N4.H62A.30.LDO', 'N4.H62A.31.LDO', 'N4.I37B.30.LDO', 'N4.I37B.31.LDO', 'N4.I40B.30.LDO', 'N4.I40B.31.LDO', 'N4.I42A.30.LDO', 'N4.I42A.31.LDO', 'N4.I45A.30.LDO', 'N4.I45A.31.LDO', 'N4.I49A.30.LDO', 'N4.I49A.31.LDO', 'N4.I62A.30.LDO', 'N4.I62A.31.LDO', 'N4.I63A.30.LDO', 'N4.I63A.31.LDO', 'N4.J47A.30.LDO', 'N4.J47A.31.LDO', 'N4.J55A.30.LDO', 'N4.J55A.31.LDO', 'N4.J57A.30.LDO', 'N4.J57A.31.LDO', 'N4.J59A.30.LDO', 'N4.J59A.31.LDO', 'N4.J61A.30.LDO', 'N4.J61A.31.LDO', 'N4.K22A.30.LDO', 'N4.K22A.31.LDO', 'N4.K30B.30.LDO', 'N4.K30B.31.LDO', 'N4.K43A.30.LDO', 'N4.K43A.31.LDO', 'N4.K50A.30.LDO', 'N4.K50A.31.LDO', 'N4.K57A.30.LDO', 'N4.K57A.31.LDO', 'N4.K62A.30.LDO', 'N4.K62A.31.LDO', 'N4.KMSC.30.LDO', 'N4.KMSC.31.LDO', 'N4.KSCO.30.LDO', 'N4.KSCO.31.LDO', 'N4.L34B.30.LDO', 'N4.L34B.31.LDO', 'N4.L40A.30.LDO', 'N4.L40A.31.LDO', 'N4.L42A.30.LDO', 'N4.L42A.31.LDO', 'N4.L56A.30.LDO', 'N4.L56A.31.LDO', 'N4.L59A.30.LDO', 'N4.L59A.31.LDO', 'N4.L61B.30.LDO', 'N4.L61B.31.LDO', 'N4.L64A.30.LDO', 'N4.L64A.31.LDO', 'N4.M44A.30.LDO', 'N4.M44A.31.LDO', 'N4.M50A.30.LDO', 'N4.M50A.31.LDO', 'N4.M52A.30.LDO', 'N4.M52A.31.LDO', 'N4.M57A.30.LDO', 'N4.M57A.31.LDO', 'N4.M63A.30.LDO', 'N4.M63A.31.LDO', 'N4.MDND.30.LDO', 'N4.MDND.31.LDO', 'N4.MSTX.30.LDO', 'N4.MSTX.31.LDO', 'N4.N35B.30.LDO', 'N4.N35B.31.LDO', 'N4.N38B.30.LDO', 'N4.N38B.31.LDO', 'N4.N41A.30.LDO', 'N4.N41A.31.LDO', 'N4.N47A.30.LDO', 'N4.N47A.31.LDO', 'N4.N49A.30.LDO', 'N4.N49A.31.LDO', 'N4.N51A.30.LDO', 'N4.N51A.31.LDO', 'N4.N53A.30.LDO', 'N4.N53A.31.LDO', 'N4.N58A.30.LDO', 'N4.N58A.31.LDO', 'N4.N62A.30.LDO', 'N4.N62A.31.LDO', 'N4.O20A.30.LDO', 'N4.O20A.31.LDO', 'N4.O48B.30.LDO', 'N4.O48B.31.LDO', 'N4.O49A.30.LDO', 'N4.O49A.31.LDO', 'N4.O52A.30.LDO', 'N4.O52A.31.LDO', 'N4.O54A.30.LDO', 'N4.O54A.31.LDO', 'N4.P38B.30.LDO', 'N4.P38B.31.LDO', 'N4.P40B.30.LDO', 'N4.P40B.31.LDO', 'N4.P43A.30.LDO', 'N4.P43A.31.LDO', 'N4.P46A.30.LDO', 'N4.P46A.31.LDO', 'N4.P48A.30.LDO', 'N4.P48A.31.LDO', 'N4.P53A.30.LDO', 'N4.P53A.31.LDO', 'N4.P57A.30.LDO', 'N4.P57A.31.LDO', 'N4.P61A.30.LDO', 'N4.P61A.31.LDO', 'N4.Q44B.30.LDO', 'N4.Q44B.31.LDO', 'N4.Q52A.30.LDO', 'N4.Q52A.31.LDO', 'N4.Q54A.30.LDO', 'N4.Q54A.31.LDO', 'N4.R32B.30.LDO', 'N4.R32B.31.LDO', 'N4.R49A.30.LDO', 'N4.R49A.31.LDO', 'N4.R50A.30.LDO', 'N4.R50A.31.LDO', 'N4.R55A.30.LDO', 'N4.R55A.31.LDO', 'N4.R58B.30.LDO', 'N4.R58B.31.LDO', 'N4.R61A.30.LDO', 'N4.R61A.31.LDO', 'N4.S39B.30.LDO', 'N4.S39B.31.LDO', 'N4.S44A.30.LDO', 'N4.S44A.31.LDO', 'N4.S51A.30.LDO', 'N4.S51A.31.LDO', 'N4.S54A.30.LDO', 'N4.S54A.31.LDO', 'N4.S57A.30.LDO', 'N4.S57A.31.LDO', 'N4.S61A.30.LDO', 'N4.S61A.31.LDO', 'N4.SFIN.30.LDO', 'N4.SFIN.31.LDO', 'N4.SPMN.30.LDO', 'N4.SPMN.31.LDO', 'N4.SUSD.30.LDO', 'N4.SUSD.31.LDO', 'N4.T35B.30.LDO', 'N4.T35B.31.LDO', 'N4.T45B.30.LDO', 'N4.T45B.31.LDO', 'N4.T47A.30.LDO', 'N4.T47A.31.LDO', 'N4.T50A.30.LDO', 'N4.T50A.31.LDO', 'N4.T57A.30.LDO', 'N4.T57A.31.LDO', 'N4.T59A.30.LDO', 'N4.T59A.31.LDO', 'N4.TIGA.30.LDO', 'N4.TIGA.31.LDO', 'N4.TUL3.30.LDO', 'N4.TUL3.31.LDO', 'N4.U38B.30.LDO', 'N4.U38B.31.LDO', 'N4.U49A.30.LDO', 'N4.U49A.31.LDO', 'N4.U54A.30.LDO', 'N4.U54A.31.LDO', 'N4.U56A.30.LDO', 'N4.U56A.31.LDO', 'N4.V48A.30.LDO', 'N4.V48A.31.LDO', 'N4.V53A.30.LDO', 'N4.V53A.31.LDO', 'N4.V55A.30.LDO', 'N4.V55A.31.LDO', 'N4.V61A.30.LDO', 'N4.V61A.31.LDO', 'N4.W50A.30.LDO', 'N4.W50A.31.LDO', 'N4.W52A.30.LDO', 'N4.W52A.31.LDO', 'N4.W57A.30.LDO', 'N4.W57A.31.LDO', 'N4.W59A.30.LDO', 'N4.W59A.31.LDO', 'N4.WHTX.30.LDO', 'N4.WHTX.31.LDO', 'N4.X48A.30.LDO', 'N4.X48A.31.LDO', 'N4.X51A.30.LDO', 'N4.X51A.31.LDO', 'N4.X58A.30.LDO', 'N4.X58A.31.LDO', 'N4.Y45B.30.LDO', 'N4.Y45B.31.LDO', 'N4.Y52A.30.LDO', 'N4.Y52A.31.LDO', 'N4.Y57A.30.LDO', 'N4.Y57A.31.LDO', 'N4.Y58A.30.LDO', 'N4.Y58A.31.LDO', 'N4.Y60A.30.LDO', 'N4.Y60A.31.LDO', 'N4.Z35B.30.LDO', 'N4.Z35B.31.LDO', 'N4.Z38B.30.LDO', 'N4.Z38B.31.LDO', 'N4.Z47B.30.LDO', 'N4.Z47B.31.LDO', 'SG.ST..LDO']\n"
     ]
    }
   ],
   "source": [
    "fdsnURL = \"http://service.iris.edu\"\n",
    "chanstring = 'LDO'\n",
    "st_ldo, inv_ldo, raw_st_ldo, raw_inv_ldo = analyze_clientchan(fdsnURL, chanstring, fmin=fmin)"
   ]
  },
  {
   "cell_type": "markdown",
   "metadata": {},
   "source": [
    "# to do:\n",
    "- pick good 'raw' traces and save as pickle file\n",
    "- pick good reconstitued traces and save as pickle file\n",
    "- make plot of pressure & reduced pressure versus distance\n",
    "- make LDO record section, size 6 * 12\n",
    "- make LHZ record section, size 6 * 12\n",
    "- make multiday LDO record section to shown multiple passages\n",
    "- write function to measure pressure pulse size versus wraparound distance (up to 3 revolutions?)"
   ]
  },
  {
   "cell_type": "markdown",
   "metadata": {},
   "source": [
    "## 3.1 Pick N-wave onsets"
   ]
  },
  {
   "cell_type": "code",
   "execution_count": null,
   "metadata": {},
   "outputs": [],
   "source": [
    "def process_1(st, otime=otime, cmin=300, cmax=430, decimation_factor=10):\n",
    "    st_downsample = st.copy()\n",
    "    st_downsample.decimate(decimation_factor)\n",
    "    r = get_distance_vector(st_downsample)\n",
    "    st_downsample_pick = order_traces_by_distance(st_downsample, r) \n",
    "    #st_downsample_pick = manually_select_good_traces(st_downsample_pick, trim_mins=0, record_section=False, auto=False, wlen=7200)\n",
    "    pick_pressure_onset(st_downsample_pick, otime, cmin, cmax)\n",
    "    return st_downsample_pick"
   ]
  },
  {
   "cell_type": "markdown",
   "metadata": {},
   "source": [
    "### 3.1.1 Raw traces"
   ]
  },
  {
   "cell_type": "code",
   "execution_count": null,
   "metadata": {
    "scrolled": true
   },
   "outputs": [],
   "source": [
    "st_ldo_raw_downsample_pick = process_1(st_ldo_raw)"
   ]
  },
  {
   "cell_type": "markdown",
   "metadata": {},
   "source": [
    "### 3.1.2 Reconstituted \"good\" traces"
   ]
  },
  {
   "cell_type": "code",
   "execution_count": null,
   "metadata": {
    "scrolled": true
   },
   "outputs": [],
   "source": [
    "def process_1(st, otime=otime, cmin=300, cmax=430, decimation_factor=10):\n",
    "    st_downsample.decimate(decimation_factor)\n",
    "    r = get_distance_vector(st)\n",
    "    st_downsample_pick = order_traces_by_distance(st_downsample, r) \n",
    "    #st_downsample_pick = manually_select_good_traces(st_downsample_pick, trim_mins=0, record_section=False, auto=False, wlen=7200)\n",
    "    pick_pressure_onset(st_downsample_pick, otime, cmin, cmax)\n",
    "    return st_downsample_pick\n",
    "\n",
    "st_ldo_downsample_pick = process_1(st_ldo)"
   ]
  },
  {
   "cell_type": "code",
   "execution_count": null,
   "metadata": {
    "scrolled": true
   },
   "outputs": [],
   "source": [
    "plots(st_ldo_pick, inv_ldo, olat, olon, otime)"
   ]
  },
  {
   "cell_type": "code",
   "execution_count": null,
   "metadata": {
    "scrolled": true
   },
   "outputs": [],
   "source": [
    "signal_duration = 3600.0 * 3.0\n",
    "wavespeed, new_otime, t, d = regress_arrival_times(st2, otime, outfile='Nwave_arrivalfit.eps')\n",
    "etime = new_otime + (circum_earth/2)/wavespeed + signal_duration\n",
    "plot_record_section(st2, new_otime, starttime=new_otime, endtime=etime, \\\n",
    "                    outfile='Nwave_recordsection.eps', slope_speed=wavespeed)"
   ]
  },
  {
   "cell_type": "code",
   "execution_count": null,
   "metadata": {},
   "outputs": [],
   "source": [
    "etime2 = st2[0].stats.endtime\n",
    "plot_record_section(st2, new_otime, starttime=new_otime, endtime=etime2, \\\n",
    "                    outfile='Nwave_recordsection_long.eps', slope_speed=wavespeed)"
   ]
  },
  {
   "cell_type": "code",
   "execution_count": null,
   "metadata": {
    "scrolled": true
   },
   "outputs": [],
   "source": [
    "plots(st, inv_ldo, olat, olon, otime, minf=0, auto=True)"
   ]
  },
  {
   "cell_type": "code",
   "execution_count": null,
   "metadata": {},
   "outputs": [],
   "source": [
    "r = get_distance_vector(st_ldo)\n",
    "st = order_traces_by_distance(st_ldo, r) \n",
    "# sort traces by distance\n",
    "for tr in st:\n",
    "    print(tr.id, tr.stats.distance)"
   ]
  },
  {
   "cell_type": "code",
   "execution_count": null,
   "metadata": {
    "scrolled": true
   },
   "outputs": [],
   "source": [
    "plots(st, inv_ldo, olat, olon, otime, startt=otime-200000, endt=otime, auto=True, minf=0.001)"
   ]
  },
  {
   "cell_type": "code",
   "execution_count": null,
   "metadata": {},
   "outputs": [],
   "source": [
    "fdsnURL = \"http://service.iris.edu\"\n",
    "chanstring = 'LHZ'\n",
    "st_lhz, inv_lhz = analyze_clientchan(fdsnURL, chanstring, fmin=0.005, network='IU')"
   ]
  },
  {
   "cell_type": "code",
   "execution_count": null,
   "metadata": {},
   "outputs": [],
   "source": [
    "r = get_distance_vector(st_lhz)\n",
    "st_lhz_sorted = order_traces_by_distance(st_lhz, r) \n",
    "plots(st_lhz_sorted, inv_ldo, olat, olon, otime, startt=otime, endt=otime+12*3600, auto=True, minf=0.001, maxf=0.1)"
   ]
  },
  {
   "cell_type": "code",
   "execution_count": null,
   "metadata": {},
   "outputs": [],
   "source": [
    "r = get_distance_vector(st_ldo)\n",
    "st_ldo_sorted = order_traces_by_distance(st_ldo, r) \n",
    "plots(st_ldo_sorted, inv_ldo, olat, olon, otime, startt=otime, endt=otime+12*3600, auto=True, minf=0.001, maxf=0.1)"
   ]
  },
  {
   "cell_type": "code",
   "execution_count": null,
   "metadata": {},
   "outputs": [],
   "source": [
    "r = get_distance_vector(st_ldo)\n",
    "st_ldo_sorted = order_traces_by_distance(st_ldo, r) \n",
    "plots(st_ldo_sorted, inv_ldo, olat, olon, otime, startt=otime, endt=st_ldo[0].stats.endtime, auto=True, minf=0.00015, maxf=0.25)"
   ]
  },
  {
   "cell_type": "markdown",
   "metadata": {},
   "source": [
    "# 4. Run for infrasound channels"
   ]
  },
  {
   "cell_type": "markdown",
   "metadata": {},
   "source": [
    "fdsnURL = \"http://service.iris.edu\"\n",
    "chanstring = 'LDF'\n",
    "st_ldf, inv_ldf, raw_st_ldf, raw_inv_ldf  = analyze_clientchan(fdsnURL, chanstring, fmin=fmin)\n",
    "plots(st_ldf, otime, otime+17*3600)"
   ]
  },
  {
   "cell_type": "markdown",
   "metadata": {},
   "source": [
    "# 5. Run for Raspberry Booms"
   ]
  },
  {
   "cell_type": "code",
   "execution_count": null,
   "metadata": {},
   "outputs": [],
   "source": [
    "fdsnURL = \"http://fdsnws.raspberryshakedata.com\"\n",
    "chanstring = 'HDF'\n",
    "st_boom, inv_boom, raw_st_boom, raw_inv_boom  = analyze_clientchan(fdsnURL, chanstring, fmin=fmin)"
   ]
  },
  {
   "cell_type": "markdown",
   "metadata": {},
   "source": [
    "# 6. Combine results in single graph"
   ]
  },
  {
   "cell_type": "code",
   "execution_count": null,
   "metadata": {
    "scrolled": true
   },
   "outputs": [],
   "source": [
    "st_list = [st_ldf, st_ldo, st_boom]\n",
    "inv_list = [inv_ldf, inv_ldo, inv_boom]\n",
    "units = 'Pa'\n",
    "plot_combined_versus_distance(st_list, inv_list, units, corrected=False)\n",
    "plot_combined_versus_distance(st_list, inv_list, units, corrected=True)"
   ]
  },
  {
   "cell_type": "code",
   "execution_count": null,
   "metadata": {},
   "outputs": [],
   "source": [
    "for st in st_list:\n",
    "    print(len(st))"
   ]
  },
  {
   "cell_type": "markdown",
   "metadata": {},
   "source": [
    "To do:\n",
    "- downsample H?? and B?? channels to 1 sample per second\n",
    "- apply data quality metrics to remove bad channels\n",
    "- extra steps to remove spikes?\n",
    "- detect events?\n",
    "- examine as a function of low-cut frequency\n",
    "- make maps with pygmt, e.g. with radius contours, or amplitude contours"
   ]
  },
  {
   "cell_type": "code",
   "execution_count": null,
   "metadata": {},
   "outputs": [],
   "source": [
    "fmin=1/10000\n",
    "\n",
    "fdsnURL = \"http://service.iris.edu\"\n",
    "chanstring = 'LDO'\n",
    "st_ldo2, inv_ldo2 = analyze_clientchan(fdsnURL, chanstring, fmin=fmin)\n",
    "\n",
    "fdsnURL = \"http://service.iris.edu\"\n",
    "chanstring = 'LDF'\n",
    "st_ldf2, inv_ldf2 = analyze_clientchan(fdsnURL, chanstring, fmin=fmin)\n",
    "\n",
    "fdsnURL = \"http://fdsnws.raspberryshakedata.com\"\n",
    "chanstring = 'HDF'\n",
    "st_boom2, inv_boom2 = analyze_clientchan(fdsnURL, chanstring, fmin=fmin)"
   ]
  },
  {
   "cell_type": "code",
   "execution_count": null,
   "metadata": {
    "scrolled": true
   },
   "outputs": [],
   "source": [
    "st_list = [st_ldf2, st_ldo2]\n",
    "inv_list = [inv_ldf2, inv_ldo2]\n",
    "units = 'Pa'\n",
    "plot_combined_versus_distance(st_list, inv_list, units, corrected=False)\n",
    "plot_combined_versus_distance(st_list, inv_list, units, corrected=True)"
   ]
  },
  {
   "cell_type": "code",
   "execution_count": null,
   "metadata": {},
   "outputs": [],
   "source": [
    "# plot traces by distance - record section?\n",
    "st = obspy.core.Stream()\n",
    "for tr in st_ldo2:\n",
    "    tr.stats['distance']=tr.stats.distance_in_km*1000.0\n",
    "    tr.data=tr.data*10\n",
    "    st.append(tr)\n",
    "for tr in st_ldf2:\n",
    "    tr.stats['distance']=tr.stats.distance_in_km*1000.0\n",
    "    tr.data=tr.data*10\n",
    "    st.append(tr)  \n",
    "    "
   ]
  },
  {
   "cell_type": "code",
   "execution_count": null,
   "metadata": {},
   "outputs": [],
   "source": [
    "sectionpng = os.path.join(DATA_ROOT,'section.png')\n",
    "st.plot(type='section',title='',dpi=75,scale=15.0,reftime=otime,norm_method='stream',fillcolors=['r','b'],outfile=sectionpng)"
   ]
  },
  {
   "cell_type": "code",
   "execution_count": null,
   "metadata": {},
   "outputs": [],
   "source": [
    "print(len(st_ldo2),len(st_ldf2),len(st))"
   ]
  },
  {
   "cell_type": "markdown",
   "metadata": {},
   "source": [
    "# 7. Investigate filter bandwidth needed to see signal fully at MSVF"
   ]
  },
  {
   "cell_type": "code",
   "execution_count": null,
   "metadata": {},
   "outputs": [],
   "source": [
    "st = obspy.core.read(os.path.join(DATA_ROOT, 'iris_LDO_within_180_degrees.mseed'))\n",
    "#st.select(station='MSVF').plot()\n",
    "inv = obspy.read_inventory(os.path.join(DATA_ROOT, 'iris_LDO_within_180_degrees.xml'))\n",
    "msvf = st.select(station='MSVF')\n",
    "msvf2=msvf.copy()\n",
    "msvf2.remove_response(inventory=inv)\n",
    "msvf2.plot()\n",
    "tr = msvf2[0]"
   ]
  },
  {
   "cell_type": "code",
   "execution_count": null,
   "metadata": {},
   "outputs": [],
   "source": [
    "f = np.power(1.2,np.arange(-55,-1))\n",
    "f = f[f<0.5]\n",
    "plt.figure()\n",
    "print(f)\n",
    "for ncorners in range(6):\n",
    "    a = []\n",
    "    for fmin in f:\n",
    "        tr2 = tr.copy()\n",
    "        if fmin>0.0:\n",
    "            #print(fmin)\n",
    "            tr2.filter('highpass',freq=fmin,corners=ncorners+1)\n",
    "        a.append(np.max(np.abs(tr2.data)))\n",
    "    labstr = \"%d corners\" % (ncorners+1)\n",
    "    plt.semilogx(f,a,label=labstr)\n",
    "plt.ylabel('Pa')\n",
    "plt.xlabel('Low-pass corner (Hz)')\n",
    "plt.legend()\n",
    "plt.show()"
   ]
  },
  {
   "cell_type": "code",
   "execution_count": null,
   "metadata": {},
   "outputs": [],
   "source": [
    "fmin = np.power(2.0,-14)\n",
    "#f = np.power(2.0,np.arange(-13,-1))\n",
    "f = np.power(1.2,np.arange(-55,-1))\n",
    "f = f[f<=0.5]\n",
    "f = f[f>fmin*2]\n",
    "f = np.append(f,1.0)\n",
    "print(f)\n",
    "print(fmin)\n",
    "\n",
    "plt.figure()\n",
    "for ncorners in range(6):\n",
    "    a = []\n",
    "    for fmax in f:\n",
    "        tr2 = tr.copy()\n",
    "        if fmax<1.0:\n",
    "            #print(fmin)\n",
    "            tr2.filter('bandpass',freqmin=fmin, freqmax=fmax,corners=ncorners+1)\n",
    "            \n",
    "        else:\n",
    "            tr2.filter('highpass',freq=fmin, corners=ncorners+1)\n",
    "        a.append(np.max(np.abs(tr2.data)))\n",
    "    labstr = \"%d corners\" % (ncorners+1)\n",
    "    plt.semilogx(f,a,label=labstr)\n",
    "plt.ylabel('Pa')\n",
    "plt.xlabel('High-pass corner (Hz)')\n",
    "plt.legend()\n",
    "plt.show()"
   ]
  },
  {
   "cell_type": "code",
   "execution_count": null,
   "metadata": {},
   "outputs": [],
   "source": [
    "tr2=msvf[0].copy()\n",
    "pre_filt = [0.0001, 0.0002, 0.5, 0.1]\n",
    "tr2.filter('bandpass', freqmin=0.0001, freqmax=0.5, corners=2)\n",
    "tr2.remove_response(inventory=inv, plot=True, water_level=60)\n",
    "#tr2.plot()"
   ]
  },
  {
   "cell_type": "code",
   "execution_count": null,
   "metadata": {},
   "outputs": [],
   "source": [
    "tr2=msvf[0].copy()\n",
    "tr2.plot()\n",
    "pre_filt = [0.0001, 0.0002, 0.25, 0.5]\n",
    "#tr2.filter('pass', freq=0.0001, corners=2)\n",
    "tr2.remove_response(inventory=inv, pre_filt=pre_filt, plot=True, water_level=60)\n",
    "tr2.plot();"
   ]
  },
  {
   "cell_type": "markdown",
   "metadata": {},
   "source": [
    "# Miscellaneous"
   ]
  },
  {
   "cell_type": "code",
   "execution_count": null,
   "metadata": {},
   "outputs": [],
   "source": [
    "mseedfile = os.path.join(DATA_ROOT, 'rboom_HDF_within_180_degrees.mseed')\n",
    "inv = obspy.read_inventory(os.path.join(DATA_ROOT, 'rboom_HDF_within_180_degrees.xml'))\n",
    "pre_filt = [0.0001, 0.0002, 0.25, 0.5]\n",
    "N = 1000\n",
    "count = 0\n",
    "f = open(os.path.join(DATA_ROOT, 'rboom_good_HDF_ids_within_180_degrees.pkl'), \"rb\")\n",
    "good_ids = pickle.load(f)\n",
    "f.close()\n",
    "good_st = obspy.core.Stream()\n",
    "more_good = ['S89A5', 'R160F', 'RC93C', 'RA8D4', 'R9606', 'R40C1', 'R3A8A', 'R571C', 'R9CDF', 'RB83C', 'R0033']\n",
    "for sta in more_good:\n",
    "    good_ids.append('AM.%s.00.HDF' % sta)\n",
    "import obspy\n",
    "import io\n",
    "\n",
    "reclen = 512\n",
    "chunksize = 100000 * reclen # Around 50 MB\n",
    "\n",
    "with io.open(mseedfile, \"rb\") as fh:\n",
    "    while count<N:\n",
    "        with io.BytesIO() as buf:\n",
    "            c = fh.read(chunksize)\n",
    "            if not c:\n",
    "                break\n",
    "            buf.write(c)\n",
    "            buf.seek(0, 0)\n",
    "            st = obspy.read(buf)\n",
    "            count+=1\n",
    "        # Do something useful!\n",
    "        st.merge()\n",
    "        for tr in st:\n",
    "            if tr.id in good_ids:\n",
    "                good_st.append(tr)\n",
    "        #st.remove_response(inventory=inv, pre_filt=pre_filt, plot=True, water_level=60) "
   ]
  },
  {
   "cell_type": "code",
   "execution_count": null,
   "metadata": {},
   "outputs": [],
   "source": [
    "st_good = good_st.copy()\n",
    "st_good.taper(0.01)\n",
    "for tr in st_good:\n",
    "    try:\n",
    "        tr.filter('highpass', freq=0.0001, corners=2)\n",
    "    except:\n",
    "        pass\n",
    "st_good = manually_select_good_traces(st_good) "
   ]
  },
  {
   "cell_type": "code",
   "execution_count": null,
   "metadata": {},
   "outputs": [],
   "source": [
    "#st.select(station='MSVF').plot()\n",
    "pre_filt = [0.001, 0.002, 0.25, 0.5]\n",
    "inv = obspy.read_inventory(os.path.join(DATA_ROOT, 'rboom_HDF_within_180_degrees.xml'))\n",
    "st_good2 = st_good.copy()\n",
    "for tr in st_good2:\n",
    "    #tr.remove_response(inventory=inv, pre_filt=pre_filt, plot=True, water_level=60)\n",
    "    tr.remove_response(inventory=inv, pre_filt=pre_filt, plot=True, water_level=60)\n",
    "    tr.plot();"
   ]
  },
  {
   "cell_type": "code",
   "execution_count": null,
   "metadata": {},
   "outputs": [],
   "source": [
    "tr = good_st.copy()[0]\n",
    "tr.plot();"
   ]
  },
  {
   "cell_type": "code",
   "execution_count": null,
   "metadata": {},
   "outputs": [],
   "source": [
    "tr.trim(starttime=obspy.UTCDateTime(2022,1,15,18,0,0), endtime=obspy.UTCDateTime(2022,1,15,23,0,0))\n",
    "tr.plot()"
   ]
  },
  {
   "cell_type": "code",
   "execution_count": null,
   "metadata": {},
   "outputs": [],
   "source": [
    "tr.remove_response(inventory=inv, pre_filt=[0.01, 0.02, 10, 20], plot=True, water_level=60)"
   ]
  },
  {
   "cell_type": "code",
   "execution_count": null,
   "metadata": {},
   "outputs": [],
   "source": [
    "inv_ldo3 = inv_ldo2.copy()\n",
    "inv_ldo3.__add__(inv_ldf2)"
   ]
  },
  {
   "cell_type": "code",
   "execution_count": null,
   "metadata": {},
   "outputs": [],
   "source": [
    "plot_inv(inv_ldo3)"
   ]
  },
  {
   "cell_type": "code",
   "execution_count": null,
   "metadata": {},
   "outputs": [],
   "source": [
    "msvf"
   ]
  },
  {
   "cell_type": "code",
   "execution_count": null,
   "metadata": {},
   "outputs": [],
   "source": [
    "st_ldo.select(station='MSVF')[0].stats.distance_in_km"
   ]
  },
  {
   "cell_type": "code",
   "execution_count": null,
   "metadata": {},
   "outputs": [],
   "source": [
    "plot_inv(inv_ldo3)"
   ]
  },
  {
   "cell_type": "code",
   "execution_count": null,
   "metadata": {},
   "outputs": [],
   "source": [
    "searchRadiusDeg = 20\n",
    "fmin = 0.0001\n",
    "T = 1.0/fmin\n",
    "\n",
    "# location of Hunga-Tonga Hunga-Ha'apai\n",
    "olat = -(20 + 34/60 + 12 /3600) \n",
    "olon = -(175 + 22/60 + 48/3600)\n",
    "otime = obspy.core.UTCDateTime('2022-01-15T04:14:45.000000Z') # main eruption time - on day 2\n",
    "\n",
    "startt = otime - T*2\n",
    "endt = otime + 7 * 3600 + T*2 \n",
    "\n",
    "fdsnURL = \"http://service.iris.edu\"\n",
    "chanstring = 'HHZ'\n",
    "st_hhz, inv_hhz = analyze_clientchan(fdsnURL, chanstring, fmin=fmin)"
   ]
  },
  {
   "cell_type": "code",
   "execution_count": null,
   "metadata": {
    "scrolled": true
   },
   "outputs": [],
   "source": [
    "st=st_hhz.copy()\n",
    "st.taper(0.1)\n",
    "st.filter('bandpass', freqmin=0.01, freqmax=1.0, corners=2)\n",
    "st.trim(starttime=obspy.UTCDateTime(2022,1,15,4,14,45),endtime=obspy.UTCDateTime(2022,1,15,7,14,45))\n",
    "st.plot(equal_scale=False);"
   ]
  },
  {
   "cell_type": "code",
   "execution_count": null,
   "metadata": {},
   "outputs": [],
   "source": [
    "for tr in st_hhz:\n",
    "    print(tr.stats.distance_in_km)"
   ]
  },
  {
   "cell_type": "code",
   "execution_count": null,
   "metadata": {},
   "outputs": [],
   "source": [
    "st.trim(starttime=obspy.UTCDateTime(2022,1,15,6,53,0),endtime=obspy.UTCDateTime(2022,1,15,6,57,0))\n",
    "st.plot(equal_scale=False);"
   ]
  },
  {
   "cell_type": "code",
   "execution_count": null,
   "metadata": {},
   "outputs": [],
   "source": [
    "chanstring = 'BHZ'\n",
    "st_bhz, inv_bhz = analyze_clientchan(fdsnURL, chanstring, fmin=fmin)"
   ]
  },
  {
   "cell_type": "code",
   "execution_count": null,
   "metadata": {},
   "outputs": [],
   "source": [
    "st=st_bhz.copy()\n",
    "st.taper(0.1)\n",
    "st.filter('bandpass', freqmin=0.01, freqmax=15.0, corners=2)\n",
    "st.trim(starttime=obspy.UTCDateTime(2022,1,15,4,14,45),endtime=obspy.UTCDateTime(2022,1,15,4,24,45))\n",
    "st.plot(equal_scale=False);"
   ]
  },
  {
   "cell_type": "code",
   "execution_count": null,
   "metadata": {},
   "outputs": [],
   "source": [
    "searchRadiusDeg = 60\n",
    "fmin = 0.001\n",
    "T = 1.0/fmin\n",
    "\n",
    "# location of Hunga-Tonga Hunga-Ha'apai\n",
    "olat = -(20 + 34/60 + 12 /3600) \n",
    "olon = -(175 + 22/60 + 48/3600)\n",
    "otime = obspy.core.UTCDateTime('2022-01-15T04:14:45.000000Z') # main eruption time - on day 2\n",
    "\n",
    "distkm = degrees2kilometers(searchRadiusDeg)\n",
    "max_acoustic_speed = 380\n",
    "min_acoustic_speed = 300\n",
    "min_travel_time = distkm * 1000 / max_acoustic_speed \n",
    "max_travel_time = distkm * 1000 / min_acoustic_speed                   \n",
    "print(searchRadiusDeg, distkm, max_travel_time, min_travel_time)\n",
    "\n",
    "startt = otime - T*2\n",
    "endt = otime + max_travel_time + T*2 \n",
    "\n",
    "fdsnURL = \"http://service.iris.edu\"\n",
    "chanstring = 'LHZ'\n",
    "st_lhz, inv_lhz = analyze_clientchan(fdsnURL, chanstring, fmin=fmin)"
   ]
  },
  {
   "cell_type": "code",
   "execution_count": null,
   "metadata": {},
   "outputs": [],
   "source": [
    "st_lhz"
   ]
  },
  {
   "cell_type": "code",
   "execution_count": null,
   "metadata": {
    "scrolled": true
   },
   "outputs": [],
   "source": [
    "st = st_lhz.copy()\n",
    "st.taper(0.1)\n",
    "st.filter('bandpass', freqmin=0.003, freqmax=0.5, corners=2)\n",
    "st.trim(starttime=obspy.UTCDateTime(2022,1,15,4,0,0),endtime=obspy.UTCDateTime(2022,1,15,5,0,0))\n",
    "for tr in st:\n",
    "    tr.plot()\n"
   ]
  },
  {
   "cell_type": "code",
   "execution_count": null,
   "metadata": {
    "scrolled": true
   },
   "outputs": [],
   "source": [
    "st.select(station='MSVF').plot();"
   ]
  },
  {
   "cell_type": "code",
   "execution_count": null,
   "metadata": {
    "scrolled": true
   },
   "outputs": [],
   "source": [
    "tr = obspy.core.Trace()\n",
    "tr.data = st[0].data + st[1].data\n",
    "tr.stats.starttime = st[0].stats.starttime\n",
    "tr.stats.sampling_rate = st[0].stats.sampling_rate\n",
    "tr.id = 'XX.MSVF.20.LHZ'\n",
    "tr.plot()"
   ]
  },
  {
   "cell_type": "code",
   "execution_count": null,
   "metadata": {
    "scrolled": true
   },
   "outputs": [],
   "source": [
    "tr.trim(starttime=obspy.UTCDateTime(2022,1,15,4,15,0),endtime=obspy.UTCDateTime(2022,1,15,4,35,0))\n",
    "tr.plot()"
   ]
  },
  {
   "cell_type": "code",
   "execution_count": null,
   "metadata": {},
   "outputs": [],
   "source": [
    "fdsnClient = Client(fdsnURL)  \n",
    "startt = otime-10000\n",
    "endt = obspy.UTCDateTime(2022,1,15,7,0,0)+10000\n",
    "\n",
    "msvf = fdsnClient.get_waveforms('II', 'MSVF', '*', '*', startt, endt)"
   ]
  },
  {
   "cell_type": "code",
   "execution_count": null,
   "metadata": {
    "scrolled": true
   },
   "outputs": [],
   "source": [
    "for loc in ['00', '10']:\n",
    "    st = msvf.select(location=loc, channel='[LV][HD]?')\n",
    "    st.plot(equal_scale=False);"
   ]
  },
  {
   "cell_type": "code",
   "execution_count": null,
   "metadata": {
    "scrolled": true
   },
   "outputs": [],
   "source": [
    "for tr in msvf:\n",
    "    print(tr.id, tr.stats.sampling_rate)"
   ]
  },
  {
   "cell_type": "code",
   "execution_count": null,
   "metadata": {},
   "outputs": [],
   "source": [
    "for loc in ['00', '10']:\n",
    "    st = msvf.copy().select(location=loc, channel='[LV][HD]?')\n",
    "    st.detrend('linear')\n",
    "    st.taper(0.02)\n",
    "    st.filter('bandpass',freqmin=0.0002,freqmax=0.01)\n",
    "    st.plot(equal_scale=False);"
   ]
  },
  {
   "cell_type": "code",
   "execution_count": null,
   "metadata": {},
   "outputs": [],
   "source": [
    "print(msvf)"
   ]
  },
  {
   "cell_type": "code",
   "execution_count": null,
   "metadata": {
    "scrolled": true
   },
   "outputs": [],
   "source": [
    "for loc in ['00', '10']:\n",
    "    st = msvf.copy().select(location=loc, channel='B[HD]?')\n",
    "    st.detrend('linear')\n",
    "    st.taper(0.02)\n",
    "    st.filter('highpass',freq=0.5,corners=2)\n",
    "    st.trim(starttime=otime+150,endtime=otime+300)\n",
    "    st.plot(equal_scale=False);"
   ]
  },
  {
   "cell_type": "code",
   "execution_count": null,
   "metadata": {},
   "outputs": [],
   "source": [
    "searchRadiusDeg = 120\n",
    "fmin = 0.001\n",
    "T = 1.0/fmin\n",
    "\n",
    "# location of Hunga-Tonga Hunga-Ha'apai\n",
    "olat = -(20 + 34/60 + 12 /3600) \n",
    "olon = -(175 + 22/60 + 48/3600)\n",
    "otime = obspy.core.UTCDateTime('2022-01-15T04:14:45.000000Z') # main eruption time - on day 2\n",
    "\n",
    "distkm = degrees2kilometers(searchRadiusDeg)\n",
    "max_acoustic_speed = 380\n",
    "min_acoustic_speed = 300\n",
    "min_travel_time = distkm * 1000 / max_acoustic_speed \n",
    "max_travel_time = distkm * 1000 / min_acoustic_speed                   \n",
    "print(searchRadiusDeg, distkm, max_travel_time, min_travel_time)\n",
    "\n",
    "startt = otime - T*2\n",
    "endt = otime + max_travel_time + T*2 \n",
    "\n",
    "fdsnURL = \"http://service.iris.edu\"\n",
    "chanstring = 'LHZ'\n",
    "st_lhz, inv_lhz = analyze_clientchan(fdsnURL, chanstring, fmin=fmin)"
   ]
  },
  {
   "cell_type": "code",
   "execution_count": null,
   "metadata": {},
   "outputs": [],
   "source": [
    "print(DATA_ROOT)"
   ]
  },
  {
   "cell_type": "code",
   "execution_count": null,
   "metadata": {},
   "outputs": [],
   "source": [
    "st_ldf_recon = obspy.read(os.path.join(DATA_ROOT, 'iris_LDF_within_180_degrees.mseed'))"
   ]
  },
  {
   "cell_type": "code",
   "execution_count": null,
   "metadata": {},
   "outputs": [],
   "source": [
    "len(st_ldf_recon)"
   ]
  },
  {
   "cell_type": "code",
   "execution_count": null,
   "metadata": {},
   "outputs": [],
   "source": [
    "len(st_ldf_recon.merge())"
   ]
  },
  {
   "cell_type": "code",
   "execution_count": null,
   "metadata": {},
   "outputs": [],
   "source": [
    "ids = []\n",
    "for tr in st_ldf_recon:\n",
    "    if not tr.id in ids:\n",
    "        ids.append(tr.id)\n",
    "print(len(ids))"
   ]
  },
  {
   "cell_type": "code",
   "execution_count": null,
   "metadata": {},
   "outputs": [],
   "source": [
    "print(ids)"
   ]
  },
  {
   "cell_type": "code",
   "execution_count": null,
   "metadata": {},
   "outputs": [],
   "source": [
    "st_ldo_recon = obspy.read(os.path.join(DATA_ROOT, 'iris_LDO_within_180_degrees.mseed'))"
   ]
  },
  {
   "cell_type": "code",
   "execution_count": null,
   "metadata": {},
   "outputs": [],
   "source": [
    "ids = []\n",
    "for tr in st_ldo_recon:\n",
    "    if not tr.id in ids:\n",
    "        ids.append(tr.id)\n",
    "print(len(ids))"
   ]
  },
  {
   "cell_type": "code",
   "execution_count": null,
   "metadata": {},
   "outputs": [],
   "source": [
    "757000/340"
   ]
  },
  {
   "cell_type": "code",
   "execution_count": null,
   "metadata": {},
   "outputs": [],
   "source": [
    "2226/60"
   ]
  },
  {
   "cell_type": "code",
   "execution_count": null,
   "metadata": {},
   "outputs": [],
   "source": []
  }
 ],
 "metadata": {
  "kernelspec": {
   "display_name": "Python 3",
   "language": "python",
   "name": "python3"
  },
  "language_info": {
   "codemirror_mode": {
    "name": "ipython",
    "version": 3
   },
   "file_extension": ".py",
   "mimetype": "text/x-python",
   "name": "python",
   "nbconvert_exporter": "python",
   "pygments_lexer": "ipython3",
   "version": "3.6.7"
  }
 },
 "nbformat": 4,
 "nbformat_minor": 2
}
