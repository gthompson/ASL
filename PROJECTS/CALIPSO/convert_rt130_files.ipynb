{
 "cells": [
  {
   "cell_type": "markdown",
   "metadata": {},
   "source": [
    "# Test convert a day of RT130 files to BUD format"
   ]
  },
  {
   "cell_type": "code",
   "execution_count": 3,
   "metadata": {},
   "outputs": [
    {
     "ename": "ImportError",
     "evalue": "attempted relative import with no known parent package",
     "output_type": "error",
     "traceback": [
      "\u001b[0;31m---------------------------------------------------------------------------\u001b[0m",
      "\u001b[0;31mImportError\u001b[0m                               Traceback (most recent call last)",
      "\u001b[0;32m<ipython-input-3-4d5ad1233b7d>\u001b[0m in \u001b[0;36m<module>\u001b[0;34m\u001b[0m\n\u001b[0;32m----> 1\u001b[0;31m \u001b[0;32mfrom\u001b[0m \u001b[0;34m.\u001b[0m\u001b[0;34m.\u001b[0m \u001b[0;32mimport\u001b[0m \u001b[0mlibseisGT\u001b[0m\u001b[0;34m\u001b[0m\u001b[0;34m\u001b[0m\u001b[0m\n\u001b[0m\u001b[1;32m      2\u001b[0m \u001b[0mTOPDIR\u001b[0m \u001b[0;34m=\u001b[0m \u001b[0;34m'/Users/calipso_data/new/RAW'\u001b[0m\u001b[0;34m\u001b[0m\u001b[0;34m\u001b[0m\u001b[0m\n\u001b[1;32m      3\u001b[0m \u001b[0mYYYYJJJ\u001b[0m \u001b[0;34m=\u001b[0m \u001b[0;34m'2020346'\u001b[0m\u001b[0;34m\u001b[0m\u001b[0;34m\u001b[0m\u001b[0m\n\u001b[1;32m      4\u001b[0m \u001b[0mNETWORK\u001b[0m \u001b[0;34m=\u001b[0m \u001b[0;34m'1R'\u001b[0m\u001b[0;34m\u001b[0m\u001b[0;34m\u001b[0m\u001b[0m\n\u001b[1;32m      5\u001b[0m \u001b[0mchans\u001b[0m \u001b[0;34m=\u001b[0m \u001b[0;34m[\u001b[0m\u001b[0;34m'EHZ'\u001b[0m\u001b[0;34m,\u001b[0m\u001b[0;34m'EH1'\u001b[0m\u001b[0;34m,\u001b[0m\u001b[0;34m'EH2'\u001b[0m\u001b[0;34m]\u001b[0m\u001b[0;34m\u001b[0m\u001b[0;34m\u001b[0m\u001b[0m\n",
      "\u001b[0;31mImportError\u001b[0m: attempted relative import with no known parent package"
     ]
    }
   ],
   "source": [
    "import libseisGT\n",
    "TOPDIR = '/Users/thompsong/calipso_data'\n",
    "NEWDIR = os.path.join(TOPDIR, 'new')    \n",
    "YYYYJJJ = '2020346'\n",
    "NETWORK = '1R'\n",
    "chans = ['EHZ','EH1','EH2']\n",
    "digitizerStationPairs = {'9338':'BHP4'}\n",
    "YYYYJJJdirs = glob.glob(os.path.join(NEWDIR, 'RAW', YYYYJJJ) )\n",
    "for thisYYYYJJJdir in YYYYJJJdirs:\n",
    "    all_traces = libseisGT.rt130YYYYJJJdirectory_to_StreamDay(TOPDIR, YYYYJJJ, NETWORK, chans, digitizerStationPairs)\n",
    "    libseisGT.Stream_to_BUD(TOPDIR, all_traces)\n",
    "    libseisGT.Stream_to_dayplot(TOPDIR, all_traces)"
   ]
  },
  {
   "cell_type": "code",
   "execution_count": null,
   "metadata": {},
   "outputs": [],
   "source": []
  }
 ],
 "metadata": {
  "kernelspec": {
   "display_name": "Python 3",
   "language": "python",
   "name": "python3"
  },
  "language_info": {
   "codemirror_mode": {
    "name": "ipython",
    "version": 3
   },
   "file_extension": ".py",
   "mimetype": "text/x-python",
   "name": "python",
   "nbconvert_exporter": "python",
   "pygments_lexer": "ipython3",
   "version": "3.8.3"
  }
 },
 "nbformat": 4,
 "nbformat_minor": 5
}
