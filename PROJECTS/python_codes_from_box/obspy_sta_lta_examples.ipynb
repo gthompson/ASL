{
 "cells": [
  {
   "cell_type": "code",
   "execution_count": 1,
   "metadata": {
    "collapsed": true
   },
   "outputs": [],
   "source": [
    "# 1. Load trace (waveform) which has sampling_rate = 200 Hz\n",
    "from obspy.core import read\n",
    "st = read(\"https://examples.obspy.org/ev0_6.a01.gse2\")\n",
    "st = st.select(component=\"Z\")\n",
    "tr = st[0]"
   ]
  },
  {
   "cell_type": "code",
   "execution_count": 2,
   "metadata": {
    "collapsed": false
   },
   "outputs": [
    {
     "data": {
      "text/plain": [
       "         network: \n",
       "         station: EV0_6\n",
       "        location: \n",
       "         channel: EHZ\n",
       "       starttime: 1970-01-01T01:00:00.000000Z\n",
       "         endtime: 1970-01-01T01:00:59.995000Z\n",
       "   sampling_rate: 200.0\n",
       "           delta: 0.005\n",
       "            npts: 12000\n",
       "           calib: 1.0\n",
       "         _format: GSE2\n",
       "            gse2: AttribDict({u'instype': u'', u'datatype': u'CM6', u'hang': 0.0, u'auxid': u'', u'vang': -1.0, u'calper': 1.0})"
      ]
     },
     "execution_count": 2,
     "metadata": {},
     "output_type": "execute_result"
    }
   ],
   "source": [
    "# 2. Show information about this trace\n",
    "df = tr.stats.sampling_rate\n",
    "tr.stats"
   ]
  },
  {
   "cell_type": "code",
   "execution_count": 3,
   "metadata": {
    "collapsed": true
   },
   "outputs": [],
   "source": [
    "# 3. Plot the time series!\n",
    "tr.plot(type=\"relative\")"
   ]
  },
  {
   "cell_type": "code",
   "execution_count": 4,
   "metadata": {
    "collapsed": true
   },
   "outputs": [],
   "source": [
    "# 4. Compute classic_sta_lta with STA=1000 samples (5s) and LTA=2000 samples (10s)\n",
    "from obspy.signal.trigger import classic_sta_lta\n",
    "cft = classic_sta_lta(tr.data, int(5*df), int(10*df))"
   ]
  },
  {
   "cell_type": "code",
   "execution_count": null,
   "metadata": {
    "collapsed": false
   },
   "outputs": [],
   "source": [
    "# 5. Plot the trace with corresponding STA/LTA ratio\n",
    "from obspy.signal.trigger import plot_trigger\n",
    "plot_trigger(tr, cft, 1.5, 0.5)"
   ]
  },
  {
   "cell_type": "code",
   "execution_count": null,
   "metadata": {
    "collapsed": false
   },
   "outputs": [],
   "source": [
    "# 6. Repeat 4 & 5, but with Z-detect\n",
    "from obspy.signal.trigger import z_detect\n",
    "help(z_detect)\n",
    "cft = z_detect(tr.data, int(df*10))\n",
    "plot_trigger(tr, cft, -0.4, -0.3)"
   ]
  },
  {
   "cell_type": "code",
   "execution_count": null,
   "metadata": {
    "collapsed": false
   },
   "outputs": [],
   "source": [
    "# 7. Repeat 4 & 5, but with recursive_sta_lta\n",
    "from obspy.signal.trigger import recursive_sta_lta\n",
    "cft = recursive_sta_lta(tr.data, int(5 * df), int(10 * df))\n",
    "help('recursive_sta_lta')\n",
    "plot_trigger(tr, cft, 1.2, 0.5)"
   ]
  },
  {
   "cell_type": "code",
   "execution_count": null,
   "metadata": {
    "collapsed": false
   },
   "outputs": [],
   "source": [
    "# 8. Repeat 4 & 5, but with carl_sta_trig (Earthworm)\n",
    "from obspy.signal.trigger import carl_sta_trig\n",
    "help('carl_sta_trig')\n",
    "cft = carl_sta_trig(tr.data, int(df * 5), int(10 * df), 0.8, 0.8)\n",
    "plot_trigger(tr, cft, 20.0, -20.0)"
   ]
  },
  {
   "cell_type": "code",
   "execution_count": null,
   "metadata": {
    "collapsed": true
   },
   "outputs": [],
   "source": [
    "# 9. Repeat 4 & 5, but with delayed_sta_lta\n",
    "from obspy.signal.trigger import delayed_sta_lta\n",
    "cft = delayed_sta_lta(tr.data, int(5*df), int(10*df))\n",
    "plot_trigger(tr, cft, 5, 10)"
   ]
  },
  {
   "cell_type": "code",
   "execution_count": null,
   "metadata": {
    "collapsed": false
   },
   "outputs": [],
   "source": [
    "# 10. Let's try to optimize the STA & LTA settings for this data using the delayed STA:LTA\n",
    "from obspy.signal.trigger import plot_trigger\n",
    "from obspy.signal.trigger import classic_sta_lta\n",
    "import random\n",
    "m = -9990.0\n",
    "MAX_SECONDS = int(tr.stats.npts / df) / 10\n",
    "TSTART = 30.0\n",
    "TEND = 40.0\n",
    "for count in range(1,1000):\n",
    "    # draw STA window length from uniform distribution of 0.1 to 10s\n",
    "    sta_seconds = round(random.random()*10, 1) \n",
    "    # draw LTA window length uniform distribution of 2-10 times STA\n",
    "    lta_seconds = sta_seconds * round(2+random.random()*8,0)\n",
    "    #print sta_seconds, lta_seconds\n",
    "    if lta_seconds < MAX_SECONDS:\n",
    "        cft = classic_sta_lta(tr.data, int(sta_seconds * df), int(lta_seconds * df))\n",
    "        if max(cft) > m:\n",
    "            m = max(cft[int(df*TSTART):int(df*TEND)])\n",
    "            sta_best = sta_seconds\n",
    "            lta_best = lta_seconds\n",
    "            print (\"sta_seconds=%.1f lta_seconds=%.1f max(cft)=%.1f\") % (sta_best, lta_best, m)\n",
    "cft = classic_sta_lta(tr.data, int(sta_best * df), int(lta_best * df) )\n",
    "plot_trigger(tr, cft, 3.5, 1.5)"
   ]
  },
  {
   "cell_type": "code",
   "execution_count": null,
   "metadata": {
    "collapsed": false
   },
   "outputs": [],
   "source": [
    "# 11. Tune / Optimize those setttings\n",
    "from obspy.core import read\n",
    "st = read(\"https://examples.obspy.org/ev0_6.a01.gse2\")\n",
    "st = st.select(component=\"Z\")\n",
    "tr = st[0]\n",
    "import sys\n",
    "\n",
    "sys.path.append('/Users/glennthompson')\n",
    "import tune_sta_lta as tsl\n",
    "tsl.tune_sta_lta(tr, 30.0, 40.0, 20.0, 30.0, 100)\n",
    "\n",
    "tr.spectrogram()"
   ]
  },
  {
   "cell_type": "code",
   "execution_count": null,
   "metadata": {
    "collapsed": true
   },
   "outputs": [],
   "source": [
    "# 12. Try with more interesting data\n",
    "# Pavlof explosions 2007 infrasound sensor at PN7A\n",
    "import sys\n",
    "sys.path.append('/Users/glennthompson')\n",
    "import tune_sta_lta as tsl\n",
    "from obspy.core import read\n",
    "from obspy.core.utcdatetime import UTCDateTime\n",
    "tstart = UTCDateTime(2007, 8, 28, 3, 55, 0)\n",
    "tend = UTCDateTime(2007, 8, 28, 4, 0, 0)\n",
    "st = read(\"/Users/glennthompson/PN7A.BDF.2007.240\", starttime=tstart, endtime=tend)\n",
    "tr = st[0]\n",
    "tr.plot()\n",
    "\n",
    "# Filter from 2-10 Hz\n",
    "tr.filter('bandpass', freqmin=2.0, freqmax=10.0, corners=2, zerophase=True)\n",
    "tr.plot(type='relative')\n",
    "\n",
    "# Downsample from 100 Hz to 50 Hz (anti-aliasing filter applied)\n",
    "tr.decimate(factor=2, strict_length=False)\n",
    "\n",
    "# Run the tuning function\n",
    "tsl.tune_sta_lta(tr, 130.0, 150.0, 20.0, 30.0, 100 )\n",
    "\n",
    "tr.spectrogram()\n",
    "\n",
    "# Create trigger events\n",
    "from obspy.core.stream import Stream\n",
    "st = Stream(traces=[tr])\n",
    "from obspy.signal import coincidence_trigger\n",
    "trig = coincidence_trigger('classicstalta', 2.5, 1, st, 1, sta=0.6, lta=6.0) \n",
    "from pprint import pprint\n",
    "pprint(trig)\n",
    "\n",
    "# Plot each trigger\n",
    "pretrig = 5;\n",
    "posttrig = 5;\n",
    "for thistrig in trig:\n",
    "    tr2 = tr.copy()\n",
    "    tr2.trim(starttime = thistrig['time'] - pretrig, endtime = thistrig['time'] + thistrig['duration'] + posttrig) \n",
    "    tr2.plot()\n",
    "\n",
    "infrasoundtr = tr.copy()"
   ]
  },
  {
   "cell_type": "code",
   "execution_count": null,
   "metadata": {
    "collapsed": true
   },
   "outputs": [],
   "source": [
    "# 13. Pavlof explosions 2007 Seismic sensor at PN7A\n",
    "import sys\n",
    "sys.path.append('/Users/glennthompson')\n",
    "import tune_sta_lta as tsl\n",
    "from obspy.core import read\n",
    "from obspy.core.utcdatetime import UTCDateTime\n",
    "tstart = UTCDateTime(2007, 8, 28, 3, 55, 0)\n",
    "tend = UTCDateTime(2007, 8, 28, 4, 0, 0)\n",
    "st = read(\"/Users/glennthompson/PN7A.EHZ.2007.240\", starttime=tstart, endtime=tend)\n",
    "seismictr = st[0]\n",
    "seismictr.plot()\n",
    "\n",
    "# Filter from 2-10 Hz\n",
    "seismictr.filter('bandpass', freqmin=2.0, freqmax=10.0, corners=2, zerophase=True)\n",
    "seismictr.plot(type='relative')\n",
    "\n",
    "# Downsample from 100 Hz to 50 Hz (anti-aliasing filter applied)\n",
    "seismictr.decimate(factor=2, strict_length=False)\n",
    "\n",
    "# Run the tuning function\n",
    "tsl.tune_sta_lta(seismictr, 130.0, 150.0, 20.0, 30.0, 100 )\n",
    "\n",
    "seismictr.spectrogram()\n",
    "\n",
    "## Now let's trigger on both channels\n",
    "# Create trigger events\n",
    "from obspy.core.stream import Stream\n",
    "st = Stream(traces=[infrasoundtr, seismictr])\n",
    "from obspy.signal import coincidence_trigger\n",
    "trig = coincidence_trigger('classicstalta', 5.0, 1.5, st, 2, sta=0.6, lta=6.0) \n",
    "from pprint import pprint\n",
    "pprint(trig)\n",
    "\n",
    "# Plot each trigger\n",
    "pretrig = 3;\n",
    "posttrig = 3;\n",
    "for thistrig in trig:\n",
    "    st2 = st.copy()\n",
    "    st2.trim(starttime = thistrig['time'] - pretrig, endtime = thistrig['time'] + thistrig['duration'] + posttrig) \n",
    "    st2.plot(equal_scale=False)"
   ]
  },
  {
   "cell_type": "code",
   "execution_count": null,
   "metadata": {
    "collapsed": true
   },
   "outputs": [],
   "source": [
    "# 14. Redoubt swarm March 22, 2009\n",
    "import sys\n",
    "sys.path.append('/Users/glennthompson')\n",
    "import tune_sta_lta as tsl\n",
    "from obspy.core import read\n",
    "from obspy.core.utcdatetime import UTCDateTime\n",
    "tstart = UTCDateTime(2009, 3, 22, 3, 55, 0)\n",
    "tend = UTCDateTime(2009, 3, 22, 4, 0, 0)\n",
    "st = read(\"/Users/glennthompson/R*2009:081:00:00:00\", starttime=tstart, endtime=tend)\n",
    "st.plot()\n",
    "\n",
    "# Spectrogram\n",
    "st.spectrogram()\n",
    "\n",
    "# Filter from 0.8-12 Hz & downsample by factor 2\n",
    "st.filter('bandpass', freqmin=0.8, freqmax=12.0, corners=2, zerophase=False)\n",
    "st.decimate(factor=2, strict_length=False)\n",
    "st.plot(type='relative')\n",
    "\n",
    "# Run the tuning function\n",
    "for tr in st:\n",
    "    tsl.tune_sta_lta(tr, 270.0, 300.0, 20.0, 30.0, 30 )\n",
    "\n",
    "# Create trigger events\n",
    "from obspy.core.stream import Stream\n",
    "st = Stream(traces=[tr])\n",
    "from obspy.signal import coincidence_trigger\n",
    "trig = coincidence_trigger('classicstalta', 2.5, 1, st, 1, sta=0.6, lta=6.0) \n",
    "from pprint import pprint\n",
    "pprint(trig)\n",
    "\n",
    "# Plot each trigger\n",
    "pretrig = 5;\n",
    "posttrig = 5;\n",
    "for thistrig in trig:\n",
    "    tr2 = tr.copy()\n",
    "    tr2.trim(starttime = thistrig['time'] - pretrig, endtime = thistrig['time'] + thistrig['duration'] + posttrig) \n",
    "    tr2.plot()"
   ]
  }
 ],
 "metadata": {
  "kernelspec": {
   "display_name": "Python 2",
   "language": "python",
   "name": "python2"
  },
  "language_info": {
   "codemirror_mode": {
    "name": "ipython",
    "version": 2
   },
   "file_extension": ".py",
   "mimetype": "text/x-python",
   "name": "python",
   "nbconvert_exporter": "python",
   "pygments_lexer": "ipython2",
   "version": "2.7.11"
  }
 },
 "nbformat": 4,
 "nbformat_minor": 0
}
