{
 "cells": [
  {
   "cell_type": "code",
   "execution_count": 1,
   "id": "young-number",
   "metadata": {},
   "outputs": [
    {
     "name": "stdout",
     "output_type": "stream",
     "text": [
      " 1,  730075,  508261,  221813\n",
      " 2, 1641230,  508261, 1132969\n",
      " 3, 3873288,  508261, 3365027\n",
      " 4, 9624201,  508261, 9115939\n",
      " 5, 25256116,  508261, 24747854\n",
      " 6, 70227719,  508261, 69719457\n",
      " 7, 207634289,  508261, 207126027\n",
      " 8, 655144382,  508261, 654636120\n",
      " 9, 2214711916,  508261, 2214203655\n",
      "10, 8054457180,  508261, 8053948919\n",
      "11, 31651802975,  508261, 31651294713\n",
      "12, 135027541670,  508261, 135027033408\n",
      "13, 628416677980,  508261, 628416169718\n",
      "14, 3207322010917,  508261, 3207321502656\n",
      "15, 18051409508795,  508261, 18051409000534\n",
      "16, 112694257294856,  508261, 112694256786594\n",
      "17, 785264370558585,  508261, 785264370050323\n",
      "18, 6147759172164799,  508261, 6147759171656537\n",
      "19, 54455262665965528,  508261, 54455262665457264\n",
      "20, 549796851735855424,  508261, 549796851735347136\n",
      "21, 6376970142102639616,  508261, 6376970142102131712\n",
      "22, 85682325781354479616,  508261, 85682325781353971712\n",
      "23, 1345441196552186494976,  508261, 1345441196552185970688\n",
      "24, 24922786931534087585792,  508261, 24922786931534087585792\n",
      "25, 550037628499797825552384,  508261, 550037628499797825552384\n",
      "26, 14615576316590969675841536,  508261, 14615576316590969675841536\n",
      "27, 472829867100654917931499520,  508261, 472829867100654917931499520\n",
      "28, 18844611817361420112126541824,  508261, 18844611817361420112126541824\n",
      "29, 936911193361882206537368207360,  508261, 936911193361882206537368207360\n",
      "30, 58884410711299773508245667184640,  508261, 58884410711299773508245667184640\n"
     ]
    }
   ],
   "source": [
    "''' \n",
    "Is it better to buy a house, even in a rising market, or is it better to cross fingers and hope prices fall?\n",
    "And if buying now is a good idea, is it better to go for something in the region of $150,000 and pay cash, \n",
    "or is it better to borrow a lot?\"\"\n",
    "\n",
    "'''\n",
    "\n",
    "# Assumptions:\n",
    "home={}\n",
    "home['value']=340000.0\n",
    "home['askingPrice']=home['value']*1.03\n",
    "home['houseIndex']=6.0\n",
    "home['buyingFees']=0.07 * home['askingPrice']\n",
    "home['sellingFees']=0.07 * home['value']\n",
    "mortgage = {}\n",
    "mortgage['interestRate']=4.0\n",
    "mortgage['loanAmount']=0.0\n",
    "mortgage['principle']=mortgage['loanAmount']\n",
    "mortgage['interestThisMonth']=0\n",
    "mortgage['total']=0\n",
    "mortgage['duration']=30\n",
    "cashAvailable=120000.0\n",
    "mortgage['payment']=2000.0\n",
    "home['equity']=0.0\n",
    "mortgage['downpayment']=0.0\n",
    "\n",
    "buyHouse = True\n",
    "\n",
    "import numpy as np\n",
    "\n",
    "if buyHouse:\n",
    "    mortgage['downpayment']=cashAvailable-home['buyingFees']\n",
    "    mortgage['loanAmount']=home['askingPrice']-mortgage['downpayment']\n",
    "    cashAvailable = 0\n",
    "    home['equity']=home['value']\n",
    "    mortgage['principle']=mortgage['loanAmount']\n",
    "    \n",
    "\n",
    "for y in range(1,mortgage['duration']+1):\n",
    "    for m in range(1,13):\n",
    "        mortgage['interestThisMonth']=mortgage['total']*np.power(1.0+mortgage['interestRate']/100.0,1/12)\n",
    "        mortgage['total'] = mortgage['interestThisMonth'] + mortgage['total'] - mortgage['payment']\n",
    "        home['value'] = home['value']**np.power(1.0+home['houseIndex']/100.0,1/12)\n",
    "    print('%2d, %7d, %7d, %7d' % (y, home['value'], mortgage['total'], home['value']-mortgage['total']))\n",
    "    "
   ]
  },
  {
   "cell_type": "code",
   "execution_count": null,
   "id": "supported-permit",
   "metadata": {},
   "outputs": [],
   "source": []
  }
 ],
 "metadata": {
  "kernelspec": {
   "display_name": "Python 3",
   "language": "python",
   "name": "python3"
  },
  "language_info": {
   "codemirror_mode": {
    "name": "ipython",
    "version": 3
   },
   "file_extension": ".py",
   "mimetype": "text/x-python",
   "name": "python",
   "nbconvert_exporter": "python",
   "pygments_lexer": "ipython3",
   "version": "3.8.8"
  }
 },
 "nbformat": 4,
 "nbformat_minor": 5
}
