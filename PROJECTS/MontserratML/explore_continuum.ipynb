{
 "cells": [
  {
   "cell_type": "markdown",
   "metadata": {},
   "source": [
    "# Explore continuum\n",
    "Explore continuum between LPE, HYB and VTE using frequency metrics, and how this varies from station to station"
   ]
  },
  {
   "cell_type": "markdown",
   "metadata": {},
   "source": [
    "# 1. Read in an all_traces file for a YYYY MM\n"
   ]
  },
  {
   "cell_type": "code",
   "execution_count": 1,
   "metadata": {},
   "outputs": [],
   "source": [
    "import os\n",
    "import sys\n",
    "import pandas as pd\n",
    "from glob import glob\n",
    "YYYY = '2001'\n",
    "MM = '03'\n",
    "\n",
    "SEISAN_DATA = os.path.join( os.getenv('HOME'),'DATA','MVO') # e.g. /home/user/seismo\n",
    "pandaSeisDir = os.path.join(SEISAN_DATA, 'miniseed_c') # e.g. /home/user/seismo/pandaSeis\n",
    "SEISAN_DB = 'MVOE_' # e.g. the seisan database name (e.g. MVOE_) under /home/user/seismo/WAV and /home/user/seismo/REA\n",
    "pandaSeisDBDir = os.path.join(pandaSeisDir, SEISAN_DB) # e.g. /home/user/seismo/pandaSeis/MVOE_\n",
    "AAA_DATA_DIR = os.path.join(SEISAN_DATA, 'MachineLearning', SEISAN_DB) # e.g. /home/user/seismo/MachineLearning/MVOE_\n",
    "alltracescsv = os.path.join(pandaSeisDBDir, 'alltraces_%s%s.csv' % (YYYY,MM))\n",
    "subclasses_for_ML = ['D', 'R', 'r', 'e', 'l', 'h', 't'] # subclasses allowed for Machine Learning # add g here?\n",
    "\n",
    "if os.path.exists(alltracescsv):\n",
    "    dfall = pd.read_csv(alltracescsv)\n"
   ]
  },
  {
   "cell_type": "code",
   "execution_count": 2,
   "metadata": {},
   "outputs": [
    {
     "name": "stdout",
     "output_type": "stream",
     "text": [
      "                 id                    starttime    Fs         calib units  \\\n",
      "0      MV.MBBY..BHE  2001-03-01T00:00:06.040000Z  75.0  8.088801e+08   m/s   \n",
      "1      MV.MBBY..BHE  2001-03-01T00:03:14.040000Z  75.0  8.088801e+08   m/s   \n",
      "2      MV.MBBY..BHE  2001-03-01T00:04:14.040000Z  75.0  8.088801e+08   m/s   \n",
      "3      MV.MBBY..BHE  2001-03-01T00:05:37.040000Z  75.0  8.088801e+08   m/s   \n",
      "4      MV.MBBY..BHE  2001-03-01T00:06:04.040000Z  75.0  8.088801e+08   m/s   \n",
      "...             ...                          ...   ...           ...   ...   \n",
      "24181  MV.MBWH..SHZ  2001-03-31T14:40:23.040000Z  75.0  4.619976e+08   m/s   \n",
      "24182  MV.MBWH..SHZ  2001-03-31T14:41:47.040000Z  75.0  4.619976e+08   m/s   \n",
      "24183  MV.MBWH..SHZ  2001-03-31T14:43:52.040000Z  75.0  4.619976e+08   m/s   \n",
      "24184  MV.MBWH..SHZ  2001-03-31T15:08:30.040000Z  75.0  4.619976e+08   m/s   \n",
      "24185  MV.MBWH..SHZ  2001-03-31T17:02:55.040000Z  75.0  4.619976e+08   m/s   \n",
      "\n",
      "       quality  medianF  peakF         peakA  bw_min  ...  kurtosis  \\\n",
      "0         5.66      5.4    4.0  5.037040e-07     1.9  ...      1.89   \n",
      "1         5.22      3.9    2.3  3.809922e-07     1.2  ...      1.11   \n",
      "2         5.25      3.9    2.6  4.358851e-07     1.4  ...      1.44   \n",
      "3         5.13      4.4    2.6  3.468918e-07     1.4  ...      0.27   \n",
      "4         5.26      3.5    2.3  5.027198e-07     1.3  ...      2.17   \n",
      "...        ...      ...    ...           ...     ...  ...       ...   \n",
      "24181     4.91      6.7    1.5  1.895613e-07     0.0  ...      3.02   \n",
      "24182     4.81      7.8    1.3  1.304744e-07     0.0  ...      4.32   \n",
      "24183     5.18      5.7    1.8  4.095797e-07     0.7  ...     12.72   \n",
      "24184     5.00      6.7    1.9  1.472864e-07     0.0  ...      1.51   \n",
      "24185     4.72      7.4    0.7  1.050281e-07     0.0  ...      0.20   \n",
      "\n",
      "       bandratio_[1.0_6.0_11.0]  bandratio_[0.8_4.0_16.0]        lon  \\\n",
      "0                     -2.200155                 -0.170335 -62.214722   \n",
      "1                     -2.689069                 -1.602390 -62.214722   \n",
      "2                     -2.828482                 -1.635015 -62.214722   \n",
      "3                     -2.521125                 -1.182035 -62.214722   \n",
      "4                     -3.363202                 -2.098788 -62.214722   \n",
      "...                         ...                       ...        ...   \n",
      "24181                 -1.142891                 -0.116519 -62.198889   \n",
      "24182                 -0.983042                  0.232615 -62.198889   \n",
      "24183                 -1.909857                 -0.683227 -62.198889   \n",
      "24184                 -1.735155                 -0.179934 -62.198889   \n",
      "24185                 -1.367093                  0.196336 -62.198889   \n",
      "\n",
      "             lat   elev            R      magA       Eseismic      magE  \n",
      "0      16.700278  161.0  3807.297074  0.825459  180088.193070 -0.196343  \n",
      "1      16.700278  161.0  3807.297074  0.366133    9235.175521 -1.056370  \n",
      "2      16.700278  161.0  3807.297074  0.428922   13290.272825 -0.950977  \n",
      "3      16.700278  161.0  3807.297074  0.294625    6310.392551 -1.166629  \n",
      "4      16.700278  161.0  3807.297074  0.561186   17845.228640 -0.865652  \n",
      "...          ...    ...          ...       ...            ...       ...  \n",
      "24181  16.741944  407.0  3262.879916  0.151880    3122.418939 -1.370339  \n",
      "24182  16.741944  407.0  3262.879916  0.146875    1829.127493 -1.525171  \n",
      "24183  16.741944  407.0  3262.879916  0.828420   43427.696276 -0.608155  \n",
      "24184  16.741944  407.0  3262.879916  0.067765    5680.526387 -1.197074  \n",
      "24185  16.741944  407.0  3262.879916 -0.111652    1332.483217 -1.616892  \n",
      "\n",
      "[24186 rows x 38 columns]\n"
     ]
    }
   ],
   "source": [
    "print(dfall)"
   ]
  },
  {
   "cell_type": "markdown",
   "metadata": {},
   "source": [
    "# 2. Remove any events without a miniseed file"
   ]
  },
  {
   "cell_type": "markdown",
   "metadata": {},
   "source": [
    "# 3. Examine the catalog processed in July"
   ]
  },
  {
   "cell_type": "markdown",
   "metadata": {},
   "source": [
    "# 4. Merge the catalogs - had to write my own code"
   ]
  },
  {
   "cell_type": "code",
   "execution_count": null,
   "metadata": {},
   "outputs": [],
   "source": []
  }
 ],
 "metadata": {
  "kernelspec": {
   "display_name": "Python 3 (ipykernel)",
   "language": "python",
   "name": "python3"
  },
  "language_info": {
   "codemirror_mode": {
    "name": "ipython",
    "version": 3
   },
   "file_extension": ".py",
   "mimetype": "text/x-python",
   "name": "python",
   "nbconvert_exporter": "python",
   "pygments_lexer": "ipython3",
   "version": "3.8.12"
  }
 },
 "nbformat": 4,
 "nbformat_minor": 2
}
