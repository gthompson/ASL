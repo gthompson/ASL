{
 "cells": [
  {
   "cell_type": "markdown",
   "metadata": {},
   "source": [
    "Through some bugs in 00_convert_seisandb_to_csvfiles.py, I ended up with many duplicate lines in the files like reawav_MVOE_YYYYMM.csv. \n",
    "\n",
    "This code sorts that out, and the new files are like REA_WAV_MVOE_YYYY_MM.csv\n",
    "\n",
    "Glenn Thompson, 2021/10/27 on hal"
   ]
  },
  {
   "cell_type": "code",
   "execution_count": 6,
   "metadata": {},
   "outputs": [
    {
     "name": "stdout",
     "output_type": "stream",
     "text": [
      "['/home/thompsong/DATA/MVO/reawav_MVOE_199610.csv', '/home/thompsong/DATA/MVO/reawav_MVOE_199611.csv', '/home/thompsong/DATA/MVO/reawav_MVOE_199612.csv', '/home/thompsong/DATA/MVO/reawav_MVOE_199701.csv', '/home/thompsong/DATA/MVO/reawav_MVOE_199702.csv', '/home/thompsong/DATA/MVO/reawav_MVOE_199703.csv', '/home/thompsong/DATA/MVO/reawav_MVOE_199704.csv', '/home/thompsong/DATA/MVO/reawav_MVOE_199705.csv', '/home/thompsong/DATA/MVO/reawav_MVOE_199706.csv', '/home/thompsong/DATA/MVO/reawav_MVOE_199707.csv', '/home/thompsong/DATA/MVO/reawav_MVOE_199708.csv', '/home/thompsong/DATA/MVO/reawav_MVOE_199709.csv', '/home/thompsong/DATA/MVO/reawav_MVOE_199710.csv', '/home/thompsong/DATA/MVO/reawav_MVOE_199711.csv', '/home/thompsong/DATA/MVO/reawav_MVOE_199712.csv', '/home/thompsong/DATA/MVO/reawav_MVOE_199801.csv', '/home/thompsong/DATA/MVO/reawav_MVOE_199802.csv', '/home/thompsong/DATA/MVO/reawav_MVOE_199803.csv', '/home/thompsong/DATA/MVO/reawav_MVOE_199804.csv', '/home/thompsong/DATA/MVO/reawav_MVOE_199805.csv', '/home/thompsong/DATA/MVO/reawav_MVOE_199806.csv', '/home/thompsong/DATA/MVO/reawav_MVOE_199807.csv', '/home/thompsong/DATA/MVO/reawav_MVOE_199808.csv', '/home/thompsong/DATA/MVO/reawav_MVOE_199809.csv', '/home/thompsong/DATA/MVO/reawav_MVOE_199810.csv', '/home/thompsong/DATA/MVO/reawav_MVOE_199811.csv', '/home/thompsong/DATA/MVO/reawav_MVOE_199812.csv', '/home/thompsong/DATA/MVO/reawav_MVOE_199901.csv', '/home/thompsong/DATA/MVO/reawav_MVOE_199902.csv', '/home/thompsong/DATA/MVO/reawav_MVOE_199903.csv', '/home/thompsong/DATA/MVO/reawav_MVOE_199904.csv', '/home/thompsong/DATA/MVO/reawav_MVOE_199905.csv', '/home/thompsong/DATA/MVO/reawav_MVOE_199906.csv', '/home/thompsong/DATA/MVO/reawav_MVOE_199907.csv', '/home/thompsong/DATA/MVO/reawav_MVOE_199908.csv', '/home/thompsong/DATA/MVO/reawav_MVOE_199909.csv', '/home/thompsong/DATA/MVO/reawav_MVOE_199910.csv', '/home/thompsong/DATA/MVO/reawav_MVOE_199911.csv', '/home/thompsong/DATA/MVO/reawav_MVOE_199912.csv', '/home/thompsong/DATA/MVO/reawav_MVOE_200001.csv', '/home/thompsong/DATA/MVO/reawav_MVOE_200002.csv', '/home/thompsong/DATA/MVO/reawav_MVOE_200003.csv', '/home/thompsong/DATA/MVO/reawav_MVOE_200004.csv', '/home/thompsong/DATA/MVO/reawav_MVOE_200005.csv', '/home/thompsong/DATA/MVO/reawav_MVOE_200006.csv', '/home/thompsong/DATA/MVO/reawav_MVOE_200007.csv', '/home/thompsong/DATA/MVO/reawav_MVOE_200008.csv', '/home/thompsong/DATA/MVO/reawav_MVOE_200009.csv', '/home/thompsong/DATA/MVO/reawav_MVOE_200010.csv', '/home/thompsong/DATA/MVO/reawav_MVOE_200011.csv', '/home/thompsong/DATA/MVO/reawav_MVOE_200012.csv', '/home/thompsong/DATA/MVO/reawav_MVOE_200101.csv', '/home/thompsong/DATA/MVO/reawav_MVOE_200102.csv', '/home/thompsong/DATA/MVO/reawav_MVOE_200103.csv', '/home/thompsong/DATA/MVO/reawav_MVOE_200104.csv', '/home/thompsong/DATA/MVO/reawav_MVOE_200105.csv', '/home/thompsong/DATA/MVO/reawav_MVOE_200106.csv', '/home/thompsong/DATA/MVO/reawav_MVOE_200107.csv', '/home/thompsong/DATA/MVO/reawav_MVOE_200108.csv', '/home/thompsong/DATA/MVO/reawav_MVOE_200109.csv', '/home/thompsong/DATA/MVO/reawav_MVOE_200110.csv', '/home/thompsong/DATA/MVO/reawav_MVOE_200111.csv', '/home/thompsong/DATA/MVO/reawav_MVOE_200112.csv', '/home/thompsong/DATA/MVO/reawav_MVOE_200201.csv', '/home/thompsong/DATA/MVO/reawav_MVOE_200202.csv', '/home/thompsong/DATA/MVO/reawav_MVOE_200203.csv', '/home/thompsong/DATA/MVO/reawav_MVOE_200204.csv', '/home/thompsong/DATA/MVO/reawav_MVOE_200205.csv', '/home/thompsong/DATA/MVO/reawav_MVOE_200206.csv', '/home/thompsong/DATA/MVO/reawav_MVOE_200207.csv', '/home/thompsong/DATA/MVO/reawav_MVOE_200208.csv', '/home/thompsong/DATA/MVO/reawav_MVOE_200209.csv', '/home/thompsong/DATA/MVO/reawav_MVOE_200210.csv', '/home/thompsong/DATA/MVO/reawav_MVOE_200211.csv', '/home/thompsong/DATA/MVO/reawav_MVOE_200212.csv', '/home/thompsong/DATA/MVO/reawav_MVOE_200301.csv', '/home/thompsong/DATA/MVO/reawav_MVOE_200302.csv', '/home/thompsong/DATA/MVO/reawav_MVOE_200303.csv', '/home/thompsong/DATA/MVO/reawav_MVOE_200304.csv', '/home/thompsong/DATA/MVO/reawav_MVOE_200305.csv', '/home/thompsong/DATA/MVO/reawav_MVOE_200306.csv', '/home/thompsong/DATA/MVO/reawav_MVOE_200307.csv', '/home/thompsong/DATA/MVO/reawav_MVOE_200308.csv', '/home/thompsong/DATA/MVO/reawav_MVOE_200309.csv', '/home/thompsong/DATA/MVO/reawav_MVOE_200310.csv', '/home/thompsong/DATA/MVO/reawav_MVOE_200311.csv', '/home/thompsong/DATA/MVO/reawav_MVOE_200312.csv', '/home/thompsong/DATA/MVO/reawav_MVOE_200401.csv', '/home/thompsong/DATA/MVO/reawav_MVOE_200402.csv', '/home/thompsong/DATA/MVO/reawav_MVOE_200403.csv', '/home/thompsong/DATA/MVO/reawav_MVOE_200404.csv', '/home/thompsong/DATA/MVO/reawav_MVOE_200405.csv', '/home/thompsong/DATA/MVO/reawav_MVOE_200406.csv', '/home/thompsong/DATA/MVO/reawav_MVOE_200407.csv', '/home/thompsong/DATA/MVO/reawav_MVOE_200408.csv', '/home/thompsong/DATA/MVO/reawav_MVOE_200409.csv', '/home/thompsong/DATA/MVO/reawav_MVOE_200410.csv', '/home/thompsong/DATA/MVO/reawav_MVOE_200411.csv', '/home/thompsong/DATA/MVO/reawav_MVOE_200412.csv', '/home/thompsong/DATA/MVO/reawav_MVOE_200501.csv', '/home/thompsong/DATA/MVO/reawav_MVOE_200502.csv', '/home/thompsong/DATA/MVO/reawav_MVOE_200503.csv', '/home/thompsong/DATA/MVO/reawav_MVOE_200504.csv', '/home/thompsong/DATA/MVO/reawav_MVOE_200505.csv', '/home/thompsong/DATA/MVO/reawav_MVOE_200506.csv', '/home/thompsong/DATA/MVO/reawav_MVOE_200507.csv', '/home/thompsong/DATA/MVO/reawav_MVOE_200508.csv', '/home/thompsong/DATA/MVO/reawav_MVOE_200509.csv', '/home/thompsong/DATA/MVO/reawav_MVOE_200510.csv', '/home/thompsong/DATA/MVO/reawav_MVOE_200511.csv', '/home/thompsong/DATA/MVO/reawav_MVOE_200512.csv', '/home/thompsong/DATA/MVO/reawav_MVOE_200601.csv', '/home/thompsong/DATA/MVO/reawav_MVOE_200602.csv', '/home/thompsong/DATA/MVO/reawav_MVOE_200603.csv', '/home/thompsong/DATA/MVO/reawav_MVOE_200604.csv', '/home/thompsong/DATA/MVO/reawav_MVOE_200605.csv', '/home/thompsong/DATA/MVO/reawav_MVOE_200606.csv', '/home/thompsong/DATA/MVO/reawav_MVOE_200607.csv', '/home/thompsong/DATA/MVO/reawav_MVOE_200608.csv', '/home/thompsong/DATA/MVO/reawav_MVOE_200609.csv', '/home/thompsong/DATA/MVO/reawav_MVOE_200610.csv', '/home/thompsong/DATA/MVO/reawav_MVOE_200611.csv', '/home/thompsong/DATA/MVO/reawav_MVOE_200612.csv', '/home/thompsong/DATA/MVO/reawav_MVOE_200701.csv', '/home/thompsong/DATA/MVO/reawav_MVOE_200702.csv', '/home/thompsong/DATA/MVO/reawav_MVOE_200703.csv', '/home/thompsong/DATA/MVO/reawav_MVOE_200704.csv', '/home/thompsong/DATA/MVO/reawav_MVOE_200705.csv', '/home/thompsong/DATA/MVO/reawav_MVOE_200706.csv', '/home/thompsong/DATA/MVO/reawav_MVOE_200707.csv', '/home/thompsong/DATA/MVO/reawav_MVOE_200708.csv', '/home/thompsong/DATA/MVO/reawav_MVOE_200709.csv', '/home/thompsong/DATA/MVO/reawav_MVOE_200710.csv', '/home/thompsong/DATA/MVO/reawav_MVOE_200711.csv', '/home/thompsong/DATA/MVO/reawav_MVOE_200712.csv', '/home/thompsong/DATA/MVO/reawav_MVOE_200801.csv', '/home/thompsong/DATA/MVO/reawav_MVOE_200802.csv', '/home/thompsong/DATA/MVO/reawav_MVOE_200803.csv', '/home/thompsong/DATA/MVO/reawav_MVOE_200804.csv', '/home/thompsong/DATA/MVO/reawav_MVOE_200805.csv', '/home/thompsong/DATA/MVO/reawav_MVOE_200806.csv', '/home/thompsong/DATA/MVO/reawav_MVOE_200807.csv', '/home/thompsong/DATA/MVO/reawav_MVOE_200808.csv', '/home/thompsong/DATA/MVO/reawav_MVOE_200809.csv', '/home/thompsong/DATA/MVO/reawav_MVOE_200810.csv']\n"
     ]
    }
   ],
   "source": [
    "# Remove duplicates from reawav_MVOE_YYYYMM.csv files\n",
    "import pandas as pd\n",
    "import os, glob\n",
    "SEISAN_DATA = os.path.join( os.getenv('HOME'),'DATA','MVO')\n",
    "SEISAN_DB = 'MVOE_'\n",
    "csvfiles = sorted(glob.glob(os.path.join(SEISAN_DATA,'reawav_' + SEISAN_DB + '*.csv')))\n",
    "\n",
    "frames = []\n",
    "for csvfile in csvfiles:\n",
    "    df = pd.read_csv(csvfile)\n",
    "    frames.append(df) \n",
    "dfall = pd.concat(frames, sort=True)\n",
    "dfall.drop_duplicates(inplace=True)\n",
    "#dfall.set_index('filetime', inplace=True) # we will need this later to remerge\n",
    "#dfall.sort_index(inplace=True)\n",
    "allcsv = os.path.join(SEISAN_DATA, 'reawav_%sall.csv' % SEISAN_DB)\n",
    "dfall.to_csv(allcsv)\n"
   ]
  },
  {
   "cell_type": "code",
   "execution_count": 21,
   "metadata": {},
   "outputs": [
    {
     "name": "stdout",
     "output_type": "stream",
     "text": [
      "1996 [10, 11, 12]\n",
      "1997 [1, 2, 3, 4, 5, 6, 7, 8, 9, 10, 11, 12]\n",
      "1901 [3]\n",
      "1998 [1, 2, 3, 4, 5, 6, 7, 8, 9, 10, 11, 12]\n",
      "1999 [1, 2, 3, 4, 5, 6, 7, 8, 9, 10, 11, 12]\n",
      "2000 [1, 2, 3, 4, 5, 6, 7, 8, 9, 10, 11, 12]\n",
      "2001 [1, 2, 3, 4, 5, 6, 7, 8, 9, 10, 11, 12]\n",
      "2002 [1, 2, 3, 4, 5, 6, 7, 8, 9, 10, 11, 12]\n",
      "2003 [1, 2, 3, 4, 5, 6, 7, 8, 9, 10, 11, 12]\n",
      "2004 [1, 2, 3, 4, 5, 6, 7, 8, 9, 10, 11, 12]\n",
      "2005 [1, 2, 3, 4, 5, 6, 7, 8, 9, 10, 11, 12]\n",
      "2006 [1, 2, 3, 4, 5, 6, 7, 8, 9, 10, 11, 12]\n",
      "2007 [1, 2, 3, 4, 5, 6, 7, 8, 9, 10, 11, 12]\n",
      "2008 [1, 2, 3, 4, 5, 6, 7, 8]\n"
     ]
    }
   ],
   "source": [
    "years = list(set(sorted(dfall.year)))\n",
    "for thisyear in years:\n",
    "    dfyear = dfall[dfall.year == thisyear]\n",
    "    months = list(set(sorted(dfyear.month)))\n",
    "    print(thisyear, months)\n",
    "    for thismonth in months:\n",
    "        dfyearmonth = dfyear[dfyear.month == thismonth]\n",
    "        yearmonthcsv = os.path.join(SEISAN_DATA, 'REA_WAV_%s_%4d_%02d.csv' % (SEISAN_DB, thisyear, thismonth))\n",
    "        dfyearmonth.to_csv(yearmonthcsv)        "
   ]
  }
 ],
 "metadata": {
  "kernelspec": {
   "display_name": "Python 3",
   "language": "python",
   "name": "python3"
  },
  "language_info": {
   "codemirror_mode": {
    "name": "ipython",
    "version": 3
   },
   "file_extension": ".py",
   "mimetype": "text/x-python",
   "name": "python",
   "nbconvert_exporter": "python",
   "pygments_lexer": "ipython3",
   "version": "3.6.7"
  }
 },
 "nbformat": 4,
 "nbformat_minor": 2
}
