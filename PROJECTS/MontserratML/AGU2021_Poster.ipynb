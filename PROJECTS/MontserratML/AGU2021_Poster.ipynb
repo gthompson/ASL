{
 "cells": [
  {
   "cell_type": "code",
   "execution_count": 1,
   "id": "later-environment",
   "metadata": {},
   "outputs": [],
   "source": [
    "import pandas as pd\n",
    "df = pd.read_pickle('MVOE_catalog.pkl')\n"
   ]
  },
  {
   "cell_type": "code",
   "execution_count": 2,
   "id": "backed-raise",
   "metadata": {},
   "outputs": [
    {
     "name": "stdout",
     "output_type": "stream",
     "text": [
      "Index(['path', 'filetime', 'sfile', 'num_traces', 'Fs', 'calib', 'subclass',\n",
      "       'new_subclass', 'quality', 'weight', 'checked', 'split', 'delete',\n",
      "       'ignore', 'D', 'R', 'r', 'e', 'l', 'h', 't', 'year', 'month', 'day',\n",
      "       'hour', 'minute', 'second', 'peaktime', 'peakA', 'peakamp', 'energy',\n",
      "       'signal_level', 'noise_level', 'snr', 'peakF', 'medianF',\n",
      "       'bandratio_[0.8_4.0_16.0]', 'bandratio_[1.0_6.0_11.0]', 'bw_max',\n",
      "       'bw_min', 'sample_min', 'sample_max', 'sample_mean', 'sample_rms',\n",
      "       'sample_stdev', 'sample_lower_quartile', 'sample_median',\n",
      "       'sample_upper_quartile', 'kurtosis', 'skewness', 'num_gaps',\n",
      "       'percent_availability', 'trigger_duration', 'ontime', 'offtime',\n",
      "       'cft_peak_wmean', 'cft_std_wmean', 'coincidence_sum',\n",
      "       'detection_quality'],\n",
      "      dtype='object')\n"
     ]
    }
   ],
   "source": [
    "print(df.columns)"
   ]
  },
  {
   "cell_type": "code",
   "execution_count": 19,
   "id": "appreciated-difficulty",
   "metadata": {},
   "outputs": [],
   "source": [
    "from obspy.core import UTCDateTime\n",
    "df['utcdatetime'] = [UTCDateTime(row['filetime']) for i,row in df.iterrows()]\n",
    "df['datetime'] = [row['utcdatetime'].datetime for i,row in df.iterrows()]\n"
   ]
  },
  {
   "cell_type": "code",
   "execution_count": 23,
   "id": "czech-stockholm",
   "metadata": {},
   "outputs": [
    {
     "data": {
      "text/plain": [
       "<AxesSubplot:>"
      ]
     },
     "execution_count": 23,
     "metadata": {},
     "output_type": "execute_result"
    },
    {
     "data": {
      "image/png": "[encoded data removed]",
      "text/plain": [
       "<Figure size 432x288 with 1 Axes>"
      ]
     },
     "metadata": {
      "needs_background": "light"
     },
     "output_type": "display_data"
    }
   ],
   "source": [
    "df.set_index('datetime')\n",
    "df['snr'].plot(x='datetime')"
   ]
  },
  {
   "cell_type": "code",
   "execution_count": 21,
   "id": "sunrise-officer",
   "metadata": {},
   "outputs": [
    {
     "data": {
      "text/plain": [
       "(array([ 9801.,  9815.,  9831.,  9845.,  9862.,  9876.,  9893.,  9907.,\n",
       "         9921.]),\n",
       " [Text(0, 0, ''),\n",
       "  Text(0, 0, ''),\n",
       "  Text(0, 0, ''),\n",
       "  Text(0, 0, ''),\n",
       "  Text(0, 0, ''),\n",
       "  Text(0, 0, ''),\n",
       "  Text(0, 0, ''),\n",
       "  Text(0, 0, ''),\n",
       "  Text(0, 0, '')])"
      ]
     },
     "execution_count": 21,
     "metadata": {},
     "output_type": "execute_result"
    },
    {
     "data": {
      "image/png": "[encoded data removed]",
      "text/plain": [
       "<Figure size 432x288 with 1 Axes>"
      ]
     },
     "metadata": {
      "needs_background": "light"
     },
     "output_type": "display_data"
    }
   ],
   "source": [
    "import matplotlib.pyplot as plt\n",
    "time_series = pd.DataFrame(df['datetime'].value_counts().reset_index())\n",
    "time_series.columns = ['date', 'count']\n",
    "time_series = time_series.sort_values('date', ascending=True)\n",
    "plt.plot(time_series['date'], time_series['count'])\n",
    "plt.xticks(rotation='vertical')"
   ]
  },
  {
   "cell_type": "code",
   "execution_count": 5,
   "id": "recorded-appointment",
   "metadata": {},
   "outputs": [
    {
     "data": {
      "text/plain": [
       "True"
      ]
     },
     "execution_count": 5,
     "metadata": {},
     "output_type": "execute_result"
    }
   ],
   "source": [
    "isinstance(df.iloc[0].filetime, str)"
   ]
  },
  {
   "cell_type": "code",
   "execution_count": 7,
   "id": "relative-indonesia",
   "metadata": {},
   "outputs": [
    {
     "data": {
      "text/plain": [
       "'1996-10-23T16:08:00.040000Z'"
      ]
     },
     "execution_count": 7,
     "metadata": {},
     "output_type": "execute_result"
    }
   ],
   "source": [
    "df.iloc[0].filetime"
   ]
  },
  {
   "cell_type": "code",
   "execution_count": null,
   "id": "artificial-kelly",
   "metadata": {},
   "outputs": [],
   "source": []
  }
 ],
 "metadata": {
  "kernelspec": {
   "display_name": "Python 3",
   "language": "python",
   "name": "python3"
  },
  "language_info": {
   "codemirror_mode": {
    "name": "ipython",
    "version": 3
   },
   "file_extension": ".py",
   "mimetype": "text/x-python",
   "name": "python",
   "nbconvert_exporter": "python",
   "pygments_lexer": "ipython3",
   "version": "3.7.9"
  }
 },
 "nbformat": 4,
 "nbformat_minor": 5
}
