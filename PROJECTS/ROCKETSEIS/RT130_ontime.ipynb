{
 "cells": [
  {
   "cell_type": "code",
   "execution_count": null,
   "metadata": {},
   "outputs": [],
   "source": [
    "import pandas as pd\n",
    "import matplotlib.pyplot as plt\n",
    "import numpy as np"
   ]
  },
  {
   "cell_type": "code",
   "execution_count": null,
   "metadata": {},
   "outputs": [],
   "source": [
    "def get_yticks(thisdf):\n",
    "    yticklabels = []\n",
    "    yticks=[]\n",
    "    i = 0\n",
    "    for index, row in thisdf.iterrows():\n",
    "        date = str(index)\n",
    "        if date[-2:]=='01':\n",
    "            yticklabels.append(date)\n",
    "            yticks.append(i)\n",
    "        i+=1\n",
    "    ystep = 1\n",
    "    if len(yticks)>15:\n",
    "        ystep=2  \n",
    "    if len(yticks)>25:\n",
    "        ystep=3\n",
    "    if len(yticks)>40:\n",
    "        ystep=4\n",
    "    if len(yticks)>60:\n",
    "        ystep=6\n",
    "    if len(yticks)>120:\n",
    "        ystep=12    \n",
    "    yticks = yticks[0::ystep]\n",
    "    yticklabels = yticklabels[0::ystep]\n",
    "    return (yticks, yticklabels)"
   ]
  },
  {
   "cell_type": "code",
   "execution_count": null,
   "metadata": {},
   "outputs": [],
   "source": [
    "def ontime_plot(data,xticklabels): \n",
    "    # make ontime plot\n",
    "    fig = plt.figure()\n",
    "    ax = fig.add_subplot(111)\n",
    "    ax.imshow(np.transpose(data), aspect='auto', cmap=plt.cm.gray, interpolation='nearest')   \n",
    "    plt.yticks(np.arange(len(xticklabels)), xticklabels)\n",
    "    ax.set_yticklabels(xticklabels, rotation = 0)\n",
    "    plt.tight_layout()\n",
    "    return (fig, ax)"
   ]
  },
  {
   "cell_type": "code",
   "execution_count": null,
   "metadata": {},
   "outputs": [],
   "source": [
    "digitizer_bool_df = pd.read_csv('rocketseis_data/daily_digitizer_record.csv')\n",
    "digitizer_bool_df = digitizer_bool_df.drop(\"Unnamed: 9\",axis=1)\n",
    "print(digitizer_bool_df)"
   ]
  },
  {
   "cell_type": "code",
   "execution_count": null,
   "metadata": {},
   "outputs": [],
   "source": [
    "digitizer_bool_data = np.array(digitizer_bool_df, dtype=float)[:,1:] # convert dataframe to numpy array\n",
    "xticklabels = digitizer_bool_df.columns[1:]\n",
    "yticks = np.arange(0,960,60)\n",
    "yticklabels = digitizer_bool_df['yyyyjjj'][yticks]\n",
    "print(yticklabels)"
   ]
  },
  {
   "cell_type": "code",
   "execution_count": null,
   "metadata": {},
   "outputs": [],
   "source": [
    "(fig, ax) = ontime_plot(1-digitizer_bool_data,xticklabels) #,yticks,yticklabels)\n",
    "plt.xticks(yticks, yticklabels, rotation = 90)\n",
    "ax.tick_params(axis='both', which='major', labelsize=4)\n",
    "fig.tight_layout()\n",
    "plt.savefig('/Users/gt/Desktop/RT130_ontime.pdf',dpi=300)\n",
    "plt.xlabel('Date')\n",
    "plt.ylabel('RT130 Digitizer')"
   ]
  },
  {
   "cell_type": "code",
   "execution_count": null,
   "metadata": {},
   "outputs": [],
   "source": []
  }
 ],
 "metadata": {
  "kernelspec": {
   "display_name": "Python 3",
   "language": "python",
   "name": "python3"
  },
  "language_info": {
   "codemirror_mode": {
    "name": "ipython",
    "version": 3
   },
   "file_extension": ".py",
   "mimetype": "text/x-python",
   "name": "python",
   "nbconvert_exporter": "python",
   "pygments_lexer": "ipython3",
   "version": "3.8.3"
  }
 },
 "nbformat": 4,
 "nbformat_minor": 5
}
