{
 "cells": [
  {
   "cell_type": "code",
   "execution_count": null,
   "id": "bottom-atlas",
   "metadata": {},
   "outputs": [],
   "source": [
    "# Quick look at SDS archive\n",
    "import os\n",
    "import obspy\n",
    "TOPDIR = '/Volumes/CENTAUR'\n",
    "MSEEDDIR = os.path.join(TOPDIR, '2021/FL/RB383/all')\n",
    "RESPONSEDIR = os.path.join(TOPDIR, 'responses')\n",
    "SOHDIR = os.path.join(TOPDIR, 'DAYS/RB383/soh')\n",
    "stime = obspy.core.utcdatetime.UTCDateTime(2021, 10, 16, 5, 25, 0)\n",
    "etime = obspy.core.utcdatetime.UTCDateTime(2021, 10, 16, 5, 40, 0)\n",
    "components = ['HHZ', 'HHN', 'HHE', 'HD1', 'HD2', 'HD3']\n",
    "YYYY = '2021'\n",
    "JJJ= '289'\n",
    "net = 'FL'\n",
    "station = 'RB383'\n",
    "location = '00'\n",
    "st = Stream()\n",
    "for component in components:\n",
    "    mseedfile = os.path.join(MSEEDDIR, join('.', net, station, location, component, 'D', YYYY, JJJ))\n",
    "    print('Trying to load %s' % mseedfile)\n",
    "    if os.path.exists(mseedfile):\n",
    "        st0 = obspy.core.read(mseedfile)\n",
    "        for tr in st0:\n",
    "            st.append(tr)\n",
    "st.plot()"
   ]
  }
 ],
 "metadata": {
  "kernelspec": {
   "display_name": "Python 3",
   "language": "python",
   "name": "python3"
  },
  "language_info": {
   "codemirror_mode": {
    "name": "ipython",
    "version": 3
   },
   "file_extension": ".py",
   "mimetype": "text/x-python",
   "name": "python",
   "nbconvert_exporter": "python",
   "pygments_lexer": "ipython3",
   "version": "3.8.8"
  }
 },
 "nbformat": 4,
 "nbformat_minor": 5
}
