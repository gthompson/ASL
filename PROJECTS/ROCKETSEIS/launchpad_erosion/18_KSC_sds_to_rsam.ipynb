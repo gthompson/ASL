{
 "cells": [
  {
   "cell_type": "code",
   "execution_count": 1,
   "id": "e7e6fda9-e4c7-4a7b-b2f5-2947840f088a",
   "metadata": {},
   "outputs": [
    {
     "name": "stdout",
     "output_type": "stream",
     "text": [
      "{'HOME': 'C:\\\\Users\\\\thompsong', 'githubdir': 'C:\\\\Users\\\\thompsong\\\\Documents\\\\GitHub', 'tremor_explorer_lib': 'C:\\\\Users\\\\thompsong\\\\Documents\\\\GitHub\\\\tremorExplorer\\\\lib', 'src': 'C:\\\\Users\\\\thompsong\\\\Documents\\\\GitHub\\\\kitchensinkGT\\\\PROJECTS\\\\ROCKETSEIS\\\\launchpad_erosion', 'outdir': 'D:/ROCKETSEIS', 'DROPBOX_TOP': 'D:/Dropbox', 'WELLDATA_TOP': 'D:/Dropbox\\\\DATA\\\\KSC\\\\KSC_Well_Seismoacoustic_Data\\\\WellData', 'TOB3_DIR': 'D:/Dropbox\\\\DATA\\\\KSC\\\\KSC_Well_Seismoacoustic_Data\\\\WellData\\\\Uploads', 'CORRECTED': 'D:/ROCKETSEIS\\\\corrected', 'lookuptable': 'D:/ROCKETSEIS\\\\corrected\\\\lookuptable.csv', 'transducersCSVfile': 'D:/Dropbox\\\\DATA\\\\KSC\\\\KSC_Well_Seismoacoustic_Data\\\\WellData\\\\transducer_metadata.csv', 'CONFIGDIR': 'C:\\\\Users\\\\thompsong\\\\Documents\\\\GitHub\\\\kitchensinkGT\\\\PROJECTS\\\\ROCKETSEIS\\\\launchpad_erosion\\\\iceweb_config', 'SDS_TOP': 'D:/ROCKETSEIS/SDS', 'RSAM_DIR': 'D:/ROCKETSEIS/ICEWEB_PRODUCTS\\\\RSAM'}\n"
     ]
    }
   ],
   "source": [
    "%run header.ipynb\n",
    "print(paths)\n",
    "\n",
    "preconfigured = True\n",
    "\n",
    "if not preconfigured:\n",
    "    # PRE-CONFIGURE CONFIGURATION\n",
    "    startt = UTCDateTime(2022,8,1)\n",
    "    endt = UTCDateTime(2022,12,5)\n",
    "    SDS_TOP=os.path.join(os.getenv('HOME'), 'Dropbox', 'DATA', 'SDS')\n",
    "\n",
    "    # get list of trace_ids from SDS archive\n",
    "    thisSDSobj = SDS.SDSobj(paths['SDS_TOP'])\n",
    "    trace_ids = thisSDSobj._sds_get_nonempty_traceids(startt, endt)\n",
    "    print(trace_ids)\n",
    "\n",
    "    for id in trace_ids:\n",
    "        keepRaw = True\n",
    "        sgram = False\n",
    "        if id[-1] in 'ZNEF123456789' and id[-2] in 'HD':\n",
    "            keepRaw = False\n",
    "            if id[-1] in 'ZF4' and id[-2] in 'HD':\n",
    "                sgram = True\n",
    "        print(f\"{id},{subnet},None,{keepRaw},{sgram}\")\n",
    "        # These have been appended to trace_ids config csv\n",
    "\n",
    "\n",
    "# how do we create an inventory for the KSC network?\n",
    "    # there is nothing to do for the well stations. they are already calibrated.\n",
    "    # for the seismic and infrasound stations, we need appropriate responses for:\n",
    "        # Trillum + Centaur\n",
    "        # InfraBSU + Centaur\n",
    "        # Chaparral M25 + Centaur\n",
    "    # The shortcut is if there is no inv, just to supply calibration information from counts 2 Pa, and counts to m/s.\n",
    "        # calibration info should be in the trace_ids config. would be 1 for well channels.\n",
    "        # no Drs calculation if no inv.\n",
    "        # but can still do CSAM and spectrograms.\n",
    "        # could potentially do reduced velocity, and reduced pressure.\n",
    "        # maybe the whole idea of reduced displacement is silly, and just do reduced velocity instead? or as well as?\n",
    "    # TO DO:\n",
    "        # add other parameters, from metrics.py. but get traditional iceweb stuff working first."
   ]
  },
  {
   "cell_type": "code",
   "execution_count": 2,
   "id": "68ef07f7-b92f-4a92-8ec9-e4e6959c1243",
   "metadata": {},
   "outputs": [
    {
     "name": "stdout",
     "output_type": "stream",
     "text": [
      "Done. Update iceweb_jobs.csv accordingly.\n"
     ]
    }
   ],
   "source": [
    "# RUN JOB\n",
    "# call the wrapper\n",
    "#os.system('rm /Users/thompsong/IceWeb/*.db')\n",
    "#importlib.reload(wrappers)\n",
    "print(os.name)\n",
    "if os.name=='nt':\n",
    "    wrappers.run_iceweb_job(subnet, configdir=paths['CONFIGDIR'], configname=subnet )\n",
    "elif os.name=='darwin':\n",
    "    wrappers.run_iceweb_job(subnet, configdir='config', configname='laptop' )"
   ]
  },
  {
   "cell_type": "code",
   "execution_count": null,
   "id": "79f01b40-c359-4f50-9acf-d78ff3293480",
   "metadata": {},
   "outputs": [],
   "source": []
  }
 ],
 "metadata": {
  "kernelspec": {
   "display_name": "Python 3 (ipykernel)",
   "language": "python",
   "name": "python3"
  },
  "language_info": {
   "codemirror_mode": {
    "name": "ipython",
    "version": 3
   },
   "file_extension": ".py",
   "mimetype": "text/x-python",
   "name": "python",
   "nbconvert_exporter": "python",
   "pygments_lexer": "ipython3",
   "version": "3.10.12"
  }
 },
 "nbformat": 4,
 "nbformat_minor": 5
}
