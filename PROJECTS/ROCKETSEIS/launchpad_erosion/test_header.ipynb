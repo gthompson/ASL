{
 "cells": [
  {
   "cell_type": "code",
   "execution_count": 1,
   "metadata": {},
   "outputs": [],
   "source": [
    "%run header.ipynb"
   ]
  },
  {
   "cell_type": "code",
   "execution_count": 2,
   "metadata": {},
   "outputs": [
    {
     "name": "stdout",
     "output_type": "stream",
     "text": [
      "{'HOME': '/home/thompsong', 'Developer': '/home/thompsong/Developer', 'tremor_explorer_lib': '/home/thompsong/Developer/tremorExplorer/lib', 'src': '/home/thompsong/Developer/kitchensinkGT/PROJECTS/ROCKETSEIS/launchpad_erosion', 'work': '/home/thompsong/work', 'outdir': '/home/thompsong/work/PROJECTS/KSC_EROSION', 'DROPBOX_TOP': '/home/thompsong/Dropbox', 'CORRECTED': '/home/thompsong/work/PROJECTS/KSC_EROSION/corrected', 'lookuptable': '/home/thompsong/work/PROJECTS/KSC_EROSION/corrected/lookuptable.csv', 'transducersCSVfile': '/home/thompsong/work/PROJECTS/KSC_EROSION/transducer_metadata.csv', 'CONFIGDIR': '/home/thompsong/Developer/tremorExplorer/config', 'SDS_TOP': '/shares/hal9000/RAIDZ/iceweb_products/SDS', 'RSAM_DIR': '/shares/hal9000/RAIDZ/iceweb_products/RSAM'}\n"
     ]
    }
   ],
   "source": [
    "print(paths)"
   ]
  },
  {
   "cell_type": "code",
   "execution_count": 3,
   "metadata": {},
   "outputs": [
    {
     "name": "stdout",
     "output_type": "stream",
     "text": [
      "client=<obspy.clients.filesystem.sds.Client object at 0x7f5258a73850>, stream=0 Trace(s) in Stream:\n",
      "\n"
     ]
    },
    {
     "ename": "TypeError",
     "evalue": "__str__ returned non-string (type NoneType)",
     "output_type": "error",
     "traceback": [
      "\u001b[0;31m---------------------------------------------------------------------------\u001b[0m",
      "\u001b[0;31mTypeError\u001b[0m                                 Traceback (most recent call last)",
      "Cell \u001b[0;32mIn[3], line 3\u001b[0m\n\u001b[1;32m      1\u001b[0m \u001b[38;5;28;01mfrom\u001b[39;00m \u001b[38;5;21;01mIPython\u001b[39;00m\u001b[38;5;21;01m.\u001b[39;00m\u001b[38;5;21;01mdisplay\u001b[39;00m \u001b[38;5;28;01mimport\u001b[39;00m clear_output\n\u001b[1;32m      2\u001b[0m sdsobj \u001b[38;5;241m=\u001b[39m SDS\u001b[38;5;241m.\u001b[39mSDSobj(paths[\u001b[38;5;124m'\u001b[39m\u001b[38;5;124mSDS_TOP\u001b[39m\u001b[38;5;124m'\u001b[39m], sds_type\u001b[38;5;241m=\u001b[39m\u001b[38;5;124m'\u001b[39m\u001b[38;5;124mD\u001b[39m\u001b[38;5;124m'\u001b[39m, \u001b[38;5;28mformat\u001b[39m\u001b[38;5;241m=\u001b[39m\u001b[38;5;124m'\u001b[39m\u001b[38;5;124mMSEED\u001b[39m\u001b[38;5;124m'\u001b[39m)\n\u001b[0;32m----> 3\u001b[0m \u001b[38;5;28;43mprint\u001b[39;49m\u001b[43m(\u001b[49m\u001b[43msdsobj\u001b[49m\u001b[43m)\u001b[49m\n",
      "\u001b[0;31mTypeError\u001b[0m: __str__ returned non-string (type NoneType)"
     ]
    }
   ],
   "source": [
    "from IPython.display import clear_output\n",
    "sdsobj = SDS.SDSobj(paths['SDS_TOP'], sds_type='D', format='MSEED')\n",
    "print(sdsobj)\n",
    "\n"
   ]
  }
 ],
 "metadata": {
  "kernelspec": {
   "display_name": "Python 3 (ipykernel)",
   "language": "python",
   "name": "python3"
  },
  "language_info": {
   "codemirror_mode": {
    "name": "ipython",
    "version": 3
   },
   "file_extension": ".py",
   "mimetype": "text/x-python",
   "name": "python",
   "nbconvert_exporter": "python",
   "pygments_lexer": "ipython3",
   "version": "3.10.13"
  }
 },
 "nbformat": 4,
 "nbformat_minor": 4
}
