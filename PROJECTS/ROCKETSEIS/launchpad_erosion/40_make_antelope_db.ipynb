{
 "cells": [
  {
   "cell_type": "code",
   "execution_count": 1,
   "id": "dress-rendering",
   "metadata": {},
   "outputs": [
    {
     "name": "stdout",
     "output_type": "stream",
     "text": [
      "Processing ['SDS/2022/6I/21498/HDD.D/6I.21498.82.HDD.D.2022.336']\n"
     ]
    },
    {
     "name": "stderr",
     "output_type": "stream",
     "text": [
      "\n",
      "miniseed2db: miniseed2db    Antelope Release 5.13 Linux 5.19.0-41-generic 2023-04-29  <#>\n",
      "miniseed2db:    9719a997bc0ea3007a869c186bec9254c5c19f51  <#>\n",
      "miniseed2db:     Sat Apr 29 19:42:22 2023 <#>\n",
      "\n",
      "--> miniseed2db SDS/2022/6I/21498/HDD.D/6I.21498.82.HDD.D.2022.336 db/dberosion <#>\n",
      "\n"
     ]
    },
    {
     "name": "stdout",
     "output_type": "stream",
     "text": [
      "SDS/2022/6I/21498/HDD.D/6I.21498.82.HDD.D.2022.336     18.100 Mbytes\n",
      "1 new wfdisc records\n",
      "Processing ['SDS/2022/6I/21516/BDD.D/6I.21516.92.BDD.D.2022.336']\n",
      "SDS/2022/6I/21516/BDD.D/6I.21516.92.BDD.D.2022.336      3.621 Mbytes\n",
      "1 new wfdisc records\n"
     ]
    },
    {
     "name": "stderr",
     "output_type": "stream",
     "text": [
      "\n",
      "miniseed2db: miniseed2db    Antelope Release 5.13 Linux 5.19.0-41-generic 2023-04-29  <#>\n",
      "miniseed2db:    9719a997bc0ea3007a869c186bec9254c5c19f51  <#>\n",
      "miniseed2db:     Sat Apr 29 19:42:22 2023 <#>\n",
      "\n",
      "--> miniseed2db SDS/2022/6I/21516/BDD.D/6I.21516.92.BDD.D.2022.336 db/dberosion <#>\n",
      "\n",
      "\n",
      "miniseed2db: miniseed2db    Antelope Release 5.13 Linux 5.19.0-41-generic 2023-04-29  <#>\n",
      "miniseed2db:    9719a997bc0ea3007a869c186bec9254c5c19f51  <#>\n",
      "miniseed2db:     Sat Apr 29 19:42:22 2023 <#>\n",
      "\n",
      "--> miniseed2db SDS/2022/6I/21516/HDD.D/6I.21516.91.HDD.D.2022.336 db/dberosion <#>\n",
      "\n"
     ]
    },
    {
     "name": "stdout",
     "output_type": "stream",
     "text": [
      "Processing ['SDS/2022/6I/21516/HDD.D/6I.21516.91.HDD.D.2022.336']\n",
      "SDS/2022/6I/21516/HDD.D/6I.21516.91.HDD.D.2022.336     18.100 Mbytes\n",
      "1 new wfdisc records\n",
      "Processing ['SDS/2022/6I/0XXXX/HDH.D/6I.0XXXX.XX.HDH.D.2022.336']\n"
     ]
    },
    {
     "name": "stderr",
     "output_type": "stream",
     "text": [
      "\n",
      "miniseed2db: miniseed2db    Antelope Release 5.13 Linux 5.19.0-41-generic 2023-04-29  <#>\n",
      "miniseed2db:    9719a997bc0ea3007a869c186bec9254c5c19f51  <#>\n",
      "miniseed2db:     Sat Apr 29 19:42:22 2023 <#>\n",
      "\n",
      "--> miniseed2db SDS/2022/6I/0XXXX/HDH.D/6I.0XXXX.XX.HDH.D.2022.336 db/dberosion <#>\n",
      "\n"
     ]
    },
    {
     "name": "stdout",
     "output_type": "stream",
     "text": [
      "SDS/2022/6I/0XXXX/HDH.D/6I.0XXXX.XX.HDH.D.2022.336     18.100 Mbytes\n",
      "1 new wfdisc records\n",
      "Processing ['SDS/2022/6I/12264/HDD.D/6I.12264.29.HDD.D.2022.336']\n"
     ]
    },
    {
     "name": "stderr",
     "output_type": "stream",
     "text": [
      "\n",
      "miniseed2db: miniseed2db    Antelope Release 5.13 Linux 5.19.0-41-generic 2023-04-29  <#>\n",
      "miniseed2db:    9719a997bc0ea3007a869c186bec9254c5c19f51  <#>\n",
      "miniseed2db:     Sat Apr 29 19:42:22 2023 <#>\n",
      "\n",
      "--> miniseed2db SDS/2022/6I/12264/HDD.D/6I.12264.29.HDD.D.2022.336 db/dberosion <#>\n",
      "\n"
     ]
    },
    {
     "name": "stdout",
     "output_type": "stream",
     "text": [
      "SDS/2022/6I/12264/HDD.D/6I.12264.29.HDD.D.2022.336     18.100 Mbytes\n",
      "1 new wfdisc records\n",
      "Processing ['SDS/2022/6S/12264/BDD.D/6S.12264.23.BDD.D.2022.336']\n",
      "SDS/2022/6S/12264/BDD.D/6S.12264.23.BDD.D.2022.336      3.621 Mbytes\n",
      "1 new wfdisc records\n",
      "Processing ['SDS/2022/6S/12264/HDD.D/6S.12264.21.HDD.D.2022.336', 'SDS/2022/6S/12264/HDD.D/6S.12264.20.HDD.D.2022.336', 'SDS/2022/6S/12264/HDD.D/6S.12264.19.HDD.D.2022.336']\n"
     ]
    },
    {
     "name": "stderr",
     "output_type": "stream",
     "text": [
      "\n",
      "miniseed2db: miniseed2db    Antelope Release 5.13 Linux 5.19.0-41-generic 2023-04-29  <#>\n",
      "miniseed2db:    9719a997bc0ea3007a869c186bec9254c5c19f51  <#>\n",
      "miniseed2db:     Sat Apr 29 19:42:22 2023 <#>\n",
      "\n",
      "--> miniseed2db SDS/2022/6S/12264/BDD.D/6S.12264.23.BDD.D.2022.336 db/dberosion <#>\n",
      "\n",
      "\n",
      "miniseed2db: miniseed2db    Antelope Release 5.13 Linux 5.19.0-41-generic 2023-04-29  <#>\n",
      "miniseed2db:    9719a997bc0ea3007a869c186bec9254c5c19f51  <#>\n",
      "miniseed2db:     Sat Apr 29 19:42:22 2023 <#>\n",
      "\n",
      "--> miniseed2db SDS/2022/6S/12264/HDD.D/6S.12264.21.HDD.D.2022.336 SDS/2022/6S/12264/HDD.D/6S.12264.20.HDD.D.2022.336 SDS/2022/6S/12264/HDD.D/6S.12264.19.HDD.D.2022.336 db/dberosion <#>\n",
      "\n"
     ]
    },
    {
     "name": "stdout",
     "output_type": "stream",
     "text": [
      "SDS/2022/6S/12264/HDD.D/6S.12264.21.HDD.D.2022.336     18.100 Mbytes\n",
      "SDS/2022/6S/12264/HDD.D/6S.12264.20.HDD.D.2022.336     18.100 Mbytes\n",
      "SDS/2022/6S/12264/HDD.D/6S.12264.19.HDD.D.2022.336     18.100 Mbytes\n",
      "3 new wfdisc records\n",
      "Processing ['SDS/2022/6S/02374/HDH.D/6S.02374.88.HDH.D.2022.336']\n"
     ]
    },
    {
     "name": "stderr",
     "output_type": "stream",
     "text": [
      "\n",
      "miniseed2db: miniseed2db    Antelope Release 5.13 Linux 5.19.0-41-generic 2023-04-29  <#>\n",
      "miniseed2db:    9719a997bc0ea3007a869c186bec9254c5c19f51  <#>\n",
      "miniseed2db:     Sat Apr 29 19:42:22 2023 <#>\n",
      "\n",
      "--> miniseed2db SDS/2022/6S/02374/HDH.D/6S.02374.88.HDH.D.2022.336 db/dberosion <#>\n",
      "\n"
     ]
    },
    {
     "name": "stdout",
     "output_type": "stream",
     "text": [
      "SDS/2022/6S/02374/HDH.D/6S.02374.88.HDH.D.2022.336     18.100 Mbytes\n",
      "1 new wfdisc records\n"
     ]
    }
   ],
   "source": [
    "#%run header.ipynb\n",
    "#os.chdir(paths['SDS_TOP'])\n",
    "import os, glob\n",
    "from IPython.display import clear_output\n",
    "os.chdir('/shares/hal9000/share/data')\n",
    "DB = os.path.join('db', 'dberosion')\n",
    "ANTELOPE = os.getenv('ANTELOPE')\n",
    "years = ['2022']\n",
    "nets = ['6I', '6S', 'FL', 'AM', 'XA']\n",
    "YYYY = '2022'\n",
    "\n",
    "for YYYY in years:\n",
    "    for jday in range(367):\n",
    "        for net in nets:\n",
    "            mseed_dirs = glob.glob(os.path.join('SDS', YYYY, net, '???*', '???.D'))\n",
    "            for mseed_dir in mseed_dirs:\n",
    "                mseedfiles = glob.glob(os.path.join(mseed_dir, '%s.*.D.*.%03d' % (net, jday) ) )\n",
    "                if len(mseedfiles)>0:\n",
    "                    space_string=\" \"\n",
    "                    mseedfiles_string = space_string.join(mseedfiles)\n",
    "                    command = '%s/bin/miniseed2db %s %s' % (ANTELOPE, mseedfiles_string, DB)\n",
    "                    print(f'Processing {mseedfiles}')\n",
    "                    res = os.system(command)\n",
    "        clear_output(wait=True)\n",
    "\n"
   ]
  },
  {
   "cell_type": "code",
   "execution_count": null,
   "id": "tough-pixel",
   "metadata": {},
   "outputs": [],
   "source": [
    "# Well data\n",
    "mseedfiles = glob.glob(os.path.join('welldata', '2?????????????.%s.???*.??.H??' % net))\n",
    "space_string=\" \"\n",
    "mseedfiles_string = space_string.join(mseedfiles)\n",
    "command = '%s/bin/miniseed2db %s %s' % (ANTELOPE, mseedfiles_string, DB)\n",
    "print(command)\n",
    "res = os.system(command)"
   ]
  }
 ],
 "metadata": {
  "kernelspec": {
   "display_name": "Python 3 (ipykernel)",
   "language": "python",
   "name": "python3"
  },
  "language_info": {
   "codemirror_mode": {
    "name": "ipython",
    "version": 3
   },
   "file_extension": ".py",
   "mimetype": "text/x-python",
   "name": "python",
   "nbconvert_exporter": "python",
   "pygments_lexer": "ipython3",
   "version": "3.10.13"
  }
 },
 "nbformat": 4,
 "nbformat_minor": 5
}
