{
 "cells": [
  {
   "cell_type": "code",
   "execution_count": 1,
   "id": "687041c8",
   "metadata": {},
   "outputs": [
    {
     "name": "stdout",
     "output_type": "stream",
     "text": [
      "Windows\n",
      "['6I.0XXXX.XX.HDH', '6I.12264.29.HDD', '6I.21498.82.HDD', '6I.21516.91.HDD', '6I.21516.92.BDD', '6S.02374.88.HDH', '6S.12264.19.HDD', '6S.12264.20.HDD', '6S.12264.21.HDD', '6S.12264.23.BDD']\n",
      "2022-11-01\n",
      "2022-11-02\n",
      "2022-11-03\n",
      "2022-11-04\n",
      "2022-11-05\n",
      "         date  6I.0XXXX.XX.HDH  6I.12264.29.HDD  6I.21498.82.HDD  \\\n",
      "0  2022-11-01        16.666667        16.666667        16.666667   \n",
      "1  2022-11-02        16.666667        16.666667        16.666667   \n",
      "2  2022-11-03        16.666667        16.666667        16.666667   \n",
      "3  2022-11-04        16.666667         2.850069         2.850069   \n",
      "4  2022-11-05        16.666667        16.666667        16.666667   \n",
      "\n",
      "   6I.21516.91.HDD  6I.21516.92.BDD  6S.02374.88.HDH  6S.12264.19.HDD  \\\n",
      "0        16.666667        16.666667        16.666667        16.666667   \n",
      "1        16.666667        16.666667        16.666667        16.666667   \n",
      "2        16.666667        16.666667        16.666667        16.666667   \n",
      "3         2.850069         2.848148        16.666667         2.850069   \n",
      "4        16.666667        16.666667        16.666667        16.666667   \n",
      "\n",
      "   6S.12264.20.HDD  6S.12264.21.HDD  6S.12264.23.BDD  \n",
      "0        16.666667        16.666667        16.666667  \n",
      "1        16.666667        16.666667        16.666667  \n",
      "2        16.666667        16.666667        16.666667  \n",
      "3         2.850069         2.850069         2.848148  \n",
      "4        16.666667        16.666667        16.666667  \n",
      "         date  6I.0XXXX.XX.HDH  6I.12264.29.HDD  6I.21498.82.HDD  \\\n",
      "0  2022-11-01        16.666667        16.666667        16.666667   \n",
      "1  2022-11-02        16.666667        16.666667        16.666667   \n",
      "2  2022-11-03        16.666667        16.666667        16.666667   \n",
      "3  2022-11-04        16.666667         2.850069         2.850069   \n",
      "4  2022-11-05        16.666667        16.666667        16.666667   \n",
      "\n",
      "   6I.21516.91.HDD  6I.21516.92.BDD  6S.02374.88.HDH  6S.12264.19.HDD  \\\n",
      "0        16.666667        16.666667        16.666667        16.666667   \n",
      "1        16.666667        16.666667        16.666667        16.666667   \n",
      "2        16.666667        16.666667        16.666667        16.666667   \n",
      "3         2.850069         2.848148        16.666667         2.850069   \n",
      "4        16.666667        16.666667        16.666667        16.666667   \n",
      "\n",
      "   6S.12264.20.HDD  6S.12264.21.HDD  6S.12264.23.BDD  \n",
      "0        16.666667        16.666667        16.666667  \n",
      "1        16.666667        16.666667        16.666667  \n",
      "2        16.666667        16.666667        16.666667  \n",
      "3         2.850069         2.850069         2.848148  \n",
      "4        16.666667        16.666667        16.666667  \n"
     ]
    }
   ],
   "source": [
    "import os\n",
    "import sys\n",
    "import obspy\n",
    "import platform\n",
    "osname = platform.system()\n",
    "print(osname)\n",
    "if osname=='Darwin':\n",
    "    HOME = os.getenv('HOME')\n",
    "    DROPBOX_TOP = os.path.join(HOME, 'Dropbox')\n",
    "    SDS_TOP = os.path.join(DROPBOX_TOP, 'DATA', 'SDS')\n",
    "    WELLDATA_TOP = os.path.join(DROPBOX_TOP, 'DATA', 'KSC', 'KSC_Well_Seismoacoustic_Data/WellData')\n",
    "    TOB3_DIR = os.path.join(WELLDATA_TOP, 'Uploads')\n",
    "    PKL_DIR = os.path.join(WELLDATA_TOP, 'Converted')\n",
    "elif osname=='Linux':\n",
    "    HOME = os.getenv('HOME')\n",
    "    DROPBOX_TOP = '/raid/newhome/thompsong/Dropbox'\n",
    "    SDS_TOP = os.path.join(HOME, 'SDS')\n",
    "    if not os.path.isdir(SDS_TOP):\n",
    "        os.mkdir(SDS_TOP)\n",
    "    WELLDATA_TOP = os.path.join(DROPBOX_TOP, 'DATA', 'KSC', 'KSC_Well_Seismoacoustic_Data/WellData')\n",
    "    TOB3_DIR = os.path.join(WELLDATA_TOP, 'Uploads')\n",
    "    PKL_DIR = os.path.join(HOME, 'Converted') \n",
    "elif osname=='Windows':\n",
    "    HOME = 'C:\\\\Users\\\\thompsong'\n",
    "    DROPBOX_TOP = 'D:\\\\Dropbox'\n",
    "    SDS_TOP = \"D:\\\\SDS\"\n",
    "    if not os.path.isdir(SDS_TOP):\n",
    "        os.mkdir(SDS_TOP)\n",
    "    WELLDATA_TOP = os.path.join(DROPBOX_TOP, 'DATA', 'KSC', 'KSC_Well_Seismoacoustic_Data', 'WellData')\n",
    "    TOB3_DIR = os.path.join(WELLDATA_TOP, 'Uploads')\n",
    "    PKL_DIR = 'D:\\\\Converted' \n",
    "sys.path.append(os.path.join(HOME, 'Documents', 'GitHub', 'kitchensinkGT', 'LIB'))    \n",
    "from libseisGT import read_sds, open_sds, sds_get_nonempty_traceids, sds_percent_available_per_day\n",
    "SDS_TOP='D:\\\\SDS'\n",
    "sdsclient = open_sds(SDS_TOP)\n",
    "#availabilityDF, trace_ids = sds_percent_available_per_day(sdsclient, startday, endday, speed=1)\n",
    "startdate = obspy.UTCDateTime(2022,7,21)\n",
    "startdate = obspy.UTCDateTime(2022,11,1)\n",
    "enddate = obspy.UTCDateTime(2022,11,6)\n",
    "sdsclient = open_sds(SDS_TOP)\n",
    "trace_ids = sds_get_nonempty_traceids(sdsclient, startdate, enddate)\n",
    "availabilityDF, trace_ids = sds_percent_available_per_day(sdsclient, startdate, enddate, speed=1, trace_ids=trace_ids)\n",
    "del sdsclient\n",
    "print(availabilityDF)"
   ]
  },
  {
   "cell_type": "markdown",
   "id": "e761ed4d",
   "metadata": {},
   "source": [
    "It seems the write2sds function must be having problems as it never seems to write more than 16.667% per day, which is just 4 hours. Need to investigate."
   ]
  },
  {
   "cell_type": "code",
   "execution_count": null,
   "id": "8da4e732",
   "metadata": {},
   "outputs": [],
   "source": []
  }
 ],
 "metadata": {
  "kernelspec": {
   "display_name": "Python 3 (ipykernel)",
   "language": "python",
   "name": "python3"
  },
  "language_info": {
   "codemirror_mode": {
    "name": "ipython",
    "version": 3
   },
   "file_extension": ".py",
   "mimetype": "text/x-python",
   "name": "python",
   "nbconvert_exporter": "python",
   "pygments_lexer": "ipython3",
   "version": "3.9.7"
  }
 },
 "nbformat": 4,
 "nbformat_minor": 5
}
