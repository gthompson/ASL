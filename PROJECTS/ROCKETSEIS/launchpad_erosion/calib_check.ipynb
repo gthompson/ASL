{
 "cells": [
  {
   "cell_type": "code",
   "execution_count": 8,
   "id": "e7fb6d31-d738-447b-9f09-e3002b8e5406",
   "metadata": {},
   "outputs": [
    {
     "name": "stdin",
     "output_type": "stream",
     "text": [
      "PSI:  8.74\n"
     ]
    },
    {
     "name": "stdout",
     "output_type": "stream",
     "text": [
      "8.74 PSI converts to 60260.17618 Pa, 6.14497120577932 m Hg, 20.160667330769023 ft Hg\n"
     ]
    }
   ],
   "source": [
    "from libWellData import compute_psi, psi2pascals, psi2depthmetres\n",
    "psi = float(input('PSI: '))\n",
    "Pa = psi2pascals(psi)\n",
    "mHg = psi2depthmetres(psi)\n",
    "ftHg = mHg * 3.28084\n",
    "print(f\"{psi} PSI converts to {Pa} Pa, {mHg} m Hg, {ftHg} ft Hg\")"
   ]
  },
  {
   "cell_type": "code",
   "execution_count": 5,
   "id": "a1d736ef-57ec-4be8-b532-d79282639438",
   "metadata": {},
   "outputs": [
    {
     "data": {
      "text/plain": [
       "1103.16112"
      ]
     },
     "execution_count": 5,
     "metadata": {},
     "output_type": "execute_result"
    }
   ],
   "source": [
    "psi2pascals(.16)"
   ]
  },
  {
   "cell_type": "code",
   "execution_count": 9,
   "id": "4e3c2c5a-b043-4c1f-bc35-b71bd1217072",
   "metadata": {},
   "outputs": [
    {
     "name": "stdout",
     "output_type": "stream",
     "text": [
      "[UTCDateTime(2023, 6, 19, 17, 33, 12), UTCDateTime(2023, 6, 19, 17, 33, 13), UTCDateTime(2023, 6, 19, 17, 33, 14), UTCDateTime(2023, 6, 19, 17, 33, 15), UTCDateTime(2023, 6, 19, 17, 33, 16), UTCDateTime(2023, 6, 19, 17, 33, 17), UTCDateTime(2023, 6, 19, 17, 33, 18), UTCDateTime(2023, 6, 19, 17, 33, 19), UTCDateTime(2023, 6, 19, 17, 33, 20), UTCDateTime(2023, 6, 19, 17, 33, 21), UTCDateTime(2023, 6, 19, 17, 33, 22), UTCDateTime(2023, 6, 19, 17, 33, 23), UTCDateTime(2023, 6, 19, 17, 33, 24), UTCDateTime(2023, 6, 19, 17, 33, 25), UTCDateTime(2023, 6, 19, 17, 33, 26), UTCDateTime(2023, 6, 19, 17, 33, 27), UTCDateTime(2023, 6, 19, 17, 33, 28), UTCDateTime(2023, 6, 19, 17, 33, 29), UTCDateTime(2023, 6, 19, 17, 33, 30), UTCDateTime(2023, 6, 19, 17, 33, 31), UTCDateTime(2023, 6, 19, 17, 33, 32), UTCDateTime(2023, 6, 19, 17, 33, 33), UTCDateTime(2023, 6, 19, 17, 33, 34), UTCDateTime(2023, 6, 19, 17, 33, 35), UTCDateTime(2023, 6, 19, 17, 33, 36), UTCDateTime(2023, 6, 19, 17, 33, 37), UTCDateTime(2023, 6, 19, 17, 33, 38), UTCDateTime(2023, 6, 19, 17, 33, 39), UTCDateTime(2023, 6, 19, 17, 33, 40), UTCDateTime(2023, 6, 19, 17, 33, 41), UTCDateTime(2023, 6, 19, 17, 33, 42), UTCDateTime(2023, 6, 19, 17, 33, 43), UTCDateTime(2023, 6, 19, 17, 33, 44), UTCDateTime(2023, 6, 19, 17, 33, 45), UTCDateTime(2023, 6, 19, 17, 33, 46), UTCDateTime(2023, 6, 19, 17, 33, 47), UTCDateTime(2023, 6, 19, 17, 33, 48), UTCDateTime(2023, 6, 19, 17, 33, 49), UTCDateTime(2023, 6, 19, 17, 33, 50), UTCDateTime(2023, 6, 19, 17, 33, 51), UTCDateTime(2023, 6, 19, 17, 33, 52), UTCDateTime(2023, 6, 19, 17, 33, 53), UTCDateTime(2023, 6, 19, 17, 33, 54), UTCDateTime(2023, 6, 19, 17, 33, 55), UTCDateTime(2023, 6, 19, 17, 33, 56), UTCDateTime(2023, 6, 19, 17, 33, 57), UTCDateTime(2023, 6, 19, 17, 33, 58), UTCDateTime(2023, 6, 19, 17, 33, 59), UTCDateTime(2023, 6, 19, 17, 34), UTCDateTime(2023, 6, 19, 17, 34, 1), UTCDateTime(2023, 6, 19, 17, 34, 2), UTCDateTime(2023, 6, 19, 17, 34, 3), UTCDateTime(2023, 6, 19, 17, 34, 4), UTCDateTime(2023, 6, 19, 17, 34, 5), UTCDateTime(2023, 6, 19, 17, 34, 6), UTCDateTime(2023, 6, 19, 17, 34, 7), UTCDateTime(2023, 6, 19, 17, 34, 8), UTCDateTime(2023, 6, 19, 17, 34, 9), UTCDateTime(2023, 6, 19, 17, 34, 10), UTCDateTime(2023, 6, 19, 17, 34, 11), UTCDateTime(2023, 6, 19, 17, 34, 12), UTCDateTime(2023, 6, 19, 17, 34, 13), UTCDateTime(2023, 6, 19, 17, 34, 14), UTCDateTime(2023, 6, 19, 17, 34, 15), UTCDateTime(2023, 6, 19, 17, 34, 16), UTCDateTime(2023, 6, 19, 17, 34, 17), UTCDateTime(2023, 6, 19, 17, 34, 18), UTCDateTime(2023, 6, 19, 17, 34, 19), UTCDateTime(2023, 6, 19, 17, 34, 20), UTCDateTime(2023, 6, 19, 17, 34, 21), UTCDateTime(2023, 6, 19, 17, 34, 22), UTCDateTime(2023, 6, 19, 17, 34, 23), UTCDateTime(2023, 6, 19, 17, 34, 24), UTCDateTime(2023, 6, 19, 17, 34, 25), UTCDateTime(2023, 6, 19, 17, 34, 26), UTCDateTime(2023, 6, 19, 17, 34, 27), UTCDateTime(2023, 6, 19, 17, 34, 28), UTCDateTime(2023, 6, 19, 17, 34, 29), UTCDateTime(2023, 6, 19, 17, 34, 30), UTCDateTime(2023, 6, 19, 17, 34, 31), UTCDateTime(2023, 6, 19, 17, 34, 32), UTCDateTime(2023, 6, 19, 17, 34, 33), UTCDateTime(2023, 6, 19, 17, 34, 34), UTCDateTime(2023, 6, 19, 17, 34, 35), UTCDateTime(2023, 6, 19, 17, 34, 36), UTCDateTime(2023, 6, 19, 17, 34, 37), UTCDateTime(2023, 6, 19, 17, 34, 38), UTCDateTime(2023, 6, 19, 17, 34, 39), UTCDateTime(2023, 6, 19, 17, 34, 40), UTCDateTime(2023, 6, 19, 17, 34, 41), UTCDateTime(2023, 6, 19, 17, 34, 42), UTCDateTime(2023, 6, 19, 17, 34, 43), UTCDateTime(2023, 6, 19, 17, 34, 44), UTCDateTime(2023, 6, 19, 17, 34, 45), UTCDateTime(2023, 6, 19, 17, 34, 46), UTCDateTime(2023, 6, 19, 17, 34, 47), UTCDateTime(2023, 6, 19, 17, 34, 48), UTCDateTime(2023, 6, 19, 17, 34, 49), UTCDateTime(2023, 6, 19, 17, 34, 50), UTCDateTime(2023, 6, 19, 17, 34, 51)]\n"
     ]
    }
   ],
   "source": [
    "import obspy\n",
    "t = [obspy.UTCDateTime('2023-06-19 17:33:12') + i for i in range(100)]\n",
    "print(t)"
   ]
  },
  {
   "cell_type": "code",
   "execution_count": null,
   "id": "f4eb235c-7115-4c08-a78b-0aa4bf545467",
   "metadata": {},
   "outputs": [],
   "source": [
    "dt_list = [t[i] - t[i-1] for i in range(1, len(t)-1)]\n",
    "dt = pd.Series(dt_list).mode()[0]"
   ]
  },
  {
   "cell_type": "code",
   "execution_count": null,
   "id": "d49129ab-2ac5-4e58-8224-5c671be98f99",
   "metadata": {},
   "outputs": [],
   "source": []
  }
 ],
 "metadata": {
  "kernelspec": {
   "display_name": "Python 3 (ipykernel)",
   "language": "python",
   "name": "python3"
  },
  "language_info": {
   "codemirror_mode": {
    "name": "ipython",
    "version": 3
   },
   "file_extension": ".py",
   "mimetype": "text/x-python",
   "name": "python",
   "nbconvert_exporter": "python",
   "pygments_lexer": "ipython3",
   "version": "3.10.12"
  }
 },
 "nbformat": 4,
 "nbformat_minor": 5
}
