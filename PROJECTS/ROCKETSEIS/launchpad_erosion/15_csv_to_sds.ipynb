{
 "cells": [
  {
   "cell_type": "code",
   "execution_count": 1,
   "metadata": {},
   "outputs": [
    {
     "name": "stdout",
     "output_type": "stream",
     "text": [
      "{'HOME': '/home/thompsong', 'Developer': '/home/thompsong/Developer', 'tremor_explorer_lib': '/home/thompsong/Developer/tremorExplorer/lib', 'src': '/home/thompsong/Developer/kitchensinkGT/PROJECTS/ROCKETSEIS/launchpad_erosion', 'work': '/home/thompsong/work', 'outdir': '/home/thompsong/work/PROJECTS/KSC_EROSION', 'DROPBOX_TOP': '/home/thompsong/Dropbox', 'CORRECTED': '/home/thompsong/work/PROJECTS/KSC_EROSION/corrected', 'lookuptable': '/home/thompsong/work/PROJECTS/KSC_EROSION/corrected/lookuptable.csv', 'transducersCSVfile': '/home/thompsong/work/PROJECTS/KSC_EROSION/transducer_metadata.csv', 'CONFIGDIR': '/home/thompsong/Developer/tremorExplorer/config', 'SDS_TOP': '/shares/hal9000/RAIDZ/iceweb_products/SDS', 'RSAM_DIR': '/shares/hal9000/RAIDZ/iceweb_products/RSAM'}\n",
      "lookuptableDF = \n",
      " Index(['sourcefile', 'outputfile', 'starttime', 'endtime', 'hours', 'npts',\n",
      "       'nRECS', 'Fs', 'numValidTimes', 'numTimeSkips', 'passed', 'SDS'],\n",
      "      dtype='object')\n",
      "                                     sourcefile  \\\n",
      "0          20220826\\20hz\\20hz_Sensors_20Hz0.csv   \n",
      "1          20220826\\20hz\\20hz_Sensors_1Sec0.csv   \n",
      "2         20220826\\Baro\\100hz_Baro_Sensors0.csv   \n",
      "3       20220826\\100hz\\100hz_Sensors_100Hz1.csv   \n",
      "4          20220826\\20hz\\20hz_Sensors_20Hz1.csv   \n",
      "...                                         ...   \n",
      "2188     20221202\\20hz\\20hz_Sensors_20Hz122.csv   \n",
      "2190    20221202\\Baro\\100hz_Baro_Sensors122.csv   \n",
      "2192  20221202\\100hz\\100hz_Sensors_100Hz123.csv   \n",
      "2191     20221202\\20hz\\20hz_Sensors_20Hz123.csv   \n",
      "2193    20221202\\Baro\\100hz_Baro_Sensors123.csv   \n",
      "\n",
      "                                     outputfile            starttime  \\\n",
      "0          20220826.20hz.20hz_Sensors_20Hz0.csv  2022/07/21 13:47:50   \n",
      "1          20220826.20hz.20hz_Sensors_1Sec0.csv  2022/07/21 13:47:50   \n",
      "2         20220826.Baro.100hz_Baro_Sensors0.csv  2022/07/21 13:54:21   \n",
      "3       20220826.100hz.100hz_Sensors_100Hz1.csv  2022/07/21 16:00:00   \n",
      "4          20220826.20hz.20hz_Sensors_20Hz1.csv  2022/07/21 16:00:00   \n",
      "...                                         ...                  ...   \n",
      "2188     20221202.20hz.20hz_Sensors_20Hz122.csv  2022/12/02 00:00:00   \n",
      "2190    20221202.Baro.100hz_Baro_Sensors122.csv  2022/12/02 00:00:00   \n",
      "2192  20221202.100hz.100hz_Sensors_100Hz123.csv  2022/12/02 02:11:52   \n",
      "2191     20221202.20hz.20hz_Sensors_20Hz123.csv  2022/12/02 02:11:52   \n",
      "2193    20221202.Baro.100hz_Baro_Sensors123.csv  2022/12/02 02:11:53   \n",
      "\n",
      "                  endtime  hours     npts      nRECS          Fs  \\\n",
      "0     2022/07/21 16:00:00   2.20   158601   158601.0   20.000019   \n",
      "1     2022/07/21 16:00:00   2.20     7931     7931.0    1.000000   \n",
      "2     2022/07/21 16:00:00   2.09   753819   753819.0  100.000095   \n",
      "3     2022/07/21 20:00:00   4.00  1440000  1440000.0  100.000095   \n",
      "4     2022/07/21 20:00:00   4.00   288000   288000.0   20.000019   \n",
      "...                   ...    ...      ...        ...         ...   \n",
      "2188  2022/12/02 02:11:52   2.20   158250   158250.0   20.000019   \n",
      "2190  2022/12/02 02:11:53   2.20   791317   791317.0  100.000095   \n",
      "2192  2022/12/02 08:24:42   6.21     2903     2900.0  100.000095   \n",
      "2191  2022/12/02 08:24:45   6.21      639      630.0   20.000019   \n",
      "2193  2022/12/02 08:24:47   6.22     3665     3650.0  100.000095   \n",
      "\n",
      "      numValidTimes  numTimeSkips  passed    SDS  \n",
      "0            158601           0.0    True   True  \n",
      "1              7931           0.0    True   True  \n",
      "2            753819           2.0    True   True  \n",
      "3           1440000           0.0    True   True  \n",
      "4            288000           0.0    True   True  \n",
      "...             ...           ...     ...    ...  \n",
      "2188         158250           0.0    True   True  \n",
      "2190         791317           0.0    True   True  \n",
      "2192           2900           0.0   False  False  \n",
      "2191            630           0.0   False  False  \n",
      "2193           3650           0.0   False  False  \n",
      "\n",
      "[2194 rows x 12 columns]\n"
     ]
    }
   ],
   "source": [
    "%run header.ipynb\n",
    "print(paths)\n",
    "\n",
    "dryrun = True\n",
    "\n",
    "from IPython.display import clear_output\n",
    "sdsobj = SDS.SDSobj(paths['SDS_TOP'], sds_type='D', format='MSEED')\n",
    "\n",
    "# Parse lookuptable and convert good CSV files to SDS\n",
    "lookuptableDF = LLE.removed_unnamed_columns(pd.read_csv(paths['lookuptable']))\n",
    "lookuptableDF = lookuptableDF.sort_values(by=['starttime'])\n",
    "print(\"lookuptableDF = \\n\", lookuptableDF.columns)\n",
    "print(lookuptableDF)"
   ]
  },
  {
   "cell_type": "code",
   "execution_count": null,
   "metadata": {},
   "outputs": [
    {
     "name": "stdout",
     "output_type": "stream",
     "text": [
      "sourcefile       20220923\\100hz\\100hz_Sensors_100Hz102.csv\n",
      "outputfile       20220923.100hz.100hz_Sensors_100Hz102.csv\n",
      "starttime                              2022/08/30 12:00:00\n",
      "endtime                                2022/08/30 16:00:00\n",
      "hours                                                  4.0\n",
      "npts                                               1439604\n",
      "nRECS                                            1439604.0\n",
      "Fs                                              100.000095\n",
      "numValidTimes                                      1439604\n",
      "numTimeSkips                                           4.0\n",
      "passed                                                True\n",
      "SDS                                                  False\n",
      "Name: 794, dtype: object\n"
     ]
    }
   ],
   "source": [
    "transducersDF = LLE.removed_unnamed_columns(pd.read_csv(paths['transducersCSVfile']))\n",
    "print(\"transducersDF = \\n\",transducersDF.columns)\n",
    "\n",
    "lookuptableDF['SDS'] = False\n",
    "\n",
    "sds_column_exists = False\n",
    "if 'SDS' in lookuptableDF.columns:\n",
    "    sds_column_exists = True\n",
    "\n",
    "for index, row in lookuptableDF.iterrows():\n",
    "    print(row)\n",
    "    row_to_sds_done = False\n",
    "    if row['passed']: \n",
    "        successful = False\n",
    "        if sds_column_exists:\n",
    "            row_to_sds_done = row['SDS']\n",
    "        if not row_to_sds_done:\n",
    "            df2 = pd.read_csv(os.path.join(paths['CORRECTED'],row['outputfile']))\n",
    "            print(f\"- writing {row['outputfile']} to SDS\")\n",
    "            print(\"row = \\n \",row)\n",
    "            #print(\"sdsobj = \\n\", sdsobj)\n",
    "            if row['passed']:\n",
    "                successful = LLE.convert2sds(df2, sdsobj, transducersDF, dryrun=dryrun)\n",
    "            else:\n",
    "                try:\n",
    "                    successful = LLE.convert2sds_badfile(df2, sdsobj, transducersDF, dryrun=dryrun)\n",
    "                except:\n",
    "                    print('Failed to convert bad CSV file')\n",
    "            lookuptableDF.at[index,'SDS'] = successful\n",
    "            if successful and not dryrun:\n",
    "                lookuptableDF.to_csv(lookuptable)     \n",
    "    clear_output(wait=True)\n",
    "del sdsobj"
   ]
  },
  {
   "cell_type": "code",
   "execution_count": null,
   "metadata": {},
   "outputs": [],
   "source": []
  }
 ],
 "metadata": {
  "kernelspec": {
   "display_name": "Python 3 (ipykernel)",
   "language": "python",
   "name": "python3"
  },
  "language_info": {
   "codemirror_mode": {
    "name": "ipython",
    "version": 3
   },
   "file_extension": ".py",
   "mimetype": "text/x-python",
   "name": "python",
   "nbconvert_exporter": "python",
   "pygments_lexer": "ipython3",
   "version": "3.10.13"
  }
 },
 "nbformat": 4,
 "nbformat_minor": 4
}
