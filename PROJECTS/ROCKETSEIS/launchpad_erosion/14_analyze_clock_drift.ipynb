{
 "cells": [
  {
   "cell_type": "code",
   "execution_count": null,
   "id": "80187bbf",
   "metadata": {},
   "outputs": [],
   "source": [
    "%run header.ipynb\n",
    "\n",
    "def merge_gps_dfs(CORRECTED_DIR, pattern='Baro'):\n",
    "    gpsfiles = sorted(glob.glob(os.path.join(CORRECTED_DIR,'*%s*_gps.pkl' % pattern)))\n",
    "    masterdf = pd.DataFrame()\n",
    "    for gpsfile in gpspklfiles:\n",
    "        thisdf = pd.read_pickle(gpsfile)\n",
    "        if len(masterdf.index)==0:\n",
    "            masterdf = thisdf\n",
    "        else:\n",
    "            masterdf = pd.concat([masterdf, thisdf])\n",
    "    return masterdf\n",
    "\n",
    "baro_gps_df = merge_gps_dfs(paths['CORRECTED'], pattern='Baro')\n",
    "hundred_gps_df = merge_gps_dfs(paths['CORRECTED'], pattern='100hz_Sensors')\n",
    "twenty_gps_df = merge_gps_dfs(paths['CORRECTED'], pattern='20hz')\n",
    "\n",
    "display(baro_gps_df['TIMESTAMP'].to_string())\n",
    "\n",
    "# should also examine the lookuptable"
   ]
  }
 ],
 "metadata": {
  "kernelspec": {
   "display_name": "Python 3 (ipykernel)",
   "language": "python",
   "name": "python3"
  },
  "language_info": {
   "codemirror_mode": {
    "name": "ipython",
    "version": 3
   },
   "file_extension": ".py",
   "mimetype": "text/x-python",
   "name": "python",
   "nbconvert_exporter": "python",
   "pygments_lexer": "ipython3",
   "version": "3.9.7"
  }
 },
 "nbformat": 4,
 "nbformat_minor": 5
}
