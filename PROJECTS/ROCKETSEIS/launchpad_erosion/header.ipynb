{
 "cells": [
  {
   "cell_type": "code",
   "execution_count": 2,
   "id": "77e80890-bf7f-4d10-ad81-7247a07a4e5e",
   "metadata": {},
   "outputs": [],
   "source": [
    "import os, sys, glob\n",
    "import numpy as np\n",
    "import pandas as pd\n",
    "from obspy.core import read, Stream, UTCDateTime\n",
    "paths = dict()\n",
    "paths['HOME'] = os.path.expanduser('~')\n",
    "paths['githubdir'] = os.path.join(paths['HOME'], 'Documents', 'GitHub')\n",
    "paths['tremor_explorer_lib'] = os.path.join(paths['githubdir'], 'tremorExplorer', 'lib')\n",
    "paths['src'] = os.path.join(paths['githubdir'], 'kitchensinkGT', 'PROJECTS', 'ROCKETSEIS', 'launchpad_erosion')\n",
    "sys.path.append(paths['tremor_explorer_lib'])\n",
    "paths['outdir'] = 'D:/ROCKETSEIS'\n",
    "import FDSNtools\n",
    "import wrappers\n",
    "import SDS\n",
    "paths['DROPBOX_TOP'] = 'D:/Dropbox' \n",
    "\n",
    "# For Well data conversion from Campbell Scientific datalogger format to Pickle Files, and eventually SDS\n",
    "paths['WELLDATA_TOP'] = os.path.join(paths['DROPBOX_TOP'], 'DATA', 'KSC', 'KSC_Well_Seismoacoustic_Data', 'WellData')\n",
    "paths['TOB3_DIR'] = os.path.join(paths['WELLDATA_TOP'], 'Uploads')\n",
    "sys.path.append(os.path.join(paths['src'], 'campbell'))\n",
    "#import read_cs_files as campbell\n",
    "paths['CORRECTED'] = os.path.join(paths['outdir'], 'corrected')\n",
    "paths['lookuptable'] = os.path.join(paths['CORRECTED'],'lookuptable.csv') \n",
    "if not os.path.isdir(paths['CORRECTED']):\n",
    "    os.mkdir(paths['CORRECTED'])\n",
    "sys.path.append(os.path.join(paths['src'], 'lib'))\n",
    "import libWellData as LLE\n",
    "paths['transducersCSVfile'] = os.path.join(paths['WELLDATA_TOP'], 'transducer_metadata.csv')\n",
    "\n",
    "# For IceWeb\n",
    "subnet = 'KSC'\n",
    "paths['CONFIGDIR'] = os.path.join(paths['src'], 'iceweb_config')\n",
    "configDict = wrappers.read_config(configdir=paths['CONFIGDIR'], leader=subnet)\n",
    "paths['SDS_TOP'] = configDict['general']['SDS_TOP']\n",
    "paths['RSAM_DIR'] = os.path.join(configDict['general']['PRODUCTS_TOP'], 'RSAM')"
   ]
  },
  {
   "cell_type": "code",
   "execution_count": null,
   "id": "9f669071",
   "metadata": {},
   "outputs": [],
   "source": []
  }
 ],
 "metadata": {
  "kernelspec": {
   "display_name": "Python 3 (ipykernel)",
   "language": "python",
   "name": "python3"
  },
  "language_info": {
   "codemirror_mode": {
    "name": "ipython",
    "version": 3
   },
   "file_extension": ".py",
   "mimetype": "text/x-python",
   "name": "python",
   "nbconvert_exporter": "python",
   "pygments_lexer": "ipython3",
   "version": "3.10.12"
  }
 },
 "nbformat": 4,
 "nbformat_minor": 5
}
