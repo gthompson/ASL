{
 "cells": [
  {
   "cell_type": "code",
   "execution_count": 1,
   "id": "prompt-completion",
   "metadata": {},
   "outputs": [
    {
     "data": {
      "text/plain": [
       "2211840000"
      ]
     },
     "execution_count": 1,
     "metadata": {},
     "output_type": "execute_result"
    }
   ],
   "source": [
    "25600 * 86400"
   ]
  },
  {
   "cell_type": "code",
   "execution_count": 2,
   "id": "hairy-ratio",
   "metadata": {},
   "outputs": [
    {
     "data": {
      "text/plain": [
       "276480000.0"
      ]
     },
     "execution_count": 2,
     "metadata": {},
     "output_type": "execute_result"
    }
   ],
   "source": [
    "2211840000/8"
   ]
  },
  {
   "cell_type": "code",
   "execution_count": 3,
   "id": "hawaiian-cambridge",
   "metadata": {},
   "outputs": [
    {
     "data": {
      "text/plain": [
       "518400000.0"
      ]
     },
     "execution_count": 3,
     "metadata": {},
     "output_type": "execute_result"
    }
   ],
   "source": [
    "32 * 20 * 75 * 86400 / 8"
   ]
  },
  {
   "cell_type": "code",
   "execution_count": null,
   "id": "fundamental-effect",
   "metadata": {},
   "outputs": [],
   "source": []
  }
 ],
 "metadata": {
  "kernelspec": {
   "display_name": "Python 3",
   "language": "python",
   "name": "python3"
  },
  "language_info": {
   "codemirror_mode": {
    "name": "ipython",
    "version": 3
   },
   "file_extension": ".py",
   "mimetype": "text/x-python",
   "name": "python",
   "nbconvert_exporter": "python",
   "pygments_lexer": "ipython3",
   "version": "3.7.9"
  }
 },
 "nbformat": 4,
 "nbformat_minor": 5
}
