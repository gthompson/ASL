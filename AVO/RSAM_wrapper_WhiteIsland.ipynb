{
 "cells": [
  {
   "cell_type": "markdown",
   "id": "cc05d14d",
   "metadata": {},
   "source": [
    "# White Island eruption Dec 9, 2019"
   ]
  },
  {
   "cell_type": "code",
   "execution_count": null,
   "id": "98d8e56b",
   "metadata": {},
   "outputs": [],
   "source": [
    "import os\n",
    "import sys\n",
    "from obspy.core import UTCDateTime\n",
    "LIBpath = os.path.join( os.getenv('HOME'),'Documents','GitHub','kitchensinkGT', 'LIB')\n",
    "sys.path.append(LIBpath)\n",
    "import obspyGT.RSAM\n",
    "\n",
    "searchRadiusDeg = 0.25\n",
    "centerlatWI=-37.52\n",
    "centerlonWI=177.1825\n",
    "starttWI = UTCDateTime(\"2019-12-01T00:00:00.000\")\n",
    "endtWI = UTCDateTime(\"2019-12-11T00:00:00.000\")\n",
    "SDS_TOP='SDS'"
   ]
  },
  {
   "cell_type": "code",
   "execution_count": null,
   "id": "b022a1ed",
   "metadata": {},
   "outputs": [],
   "source": [
    "obspyGT.RSAM.fdsn_daily_wrapper(starttWI, endtWI, SDS_TOP, centerlatWI, centerlonWI, searchRadiusDeg, fdsnURL=\"GEONET\", channel='HHZ')"
   ]
  },
  {
   "cell_type": "code",
   "execution_count": null,
   "id": "fd351587",
   "metadata": {},
   "outputs": [],
   "source": [
    "import importlib\n",
    "importlib.reload(obspyGT.RSAM)"
   ]
  },
  {
   "cell_type": "code",
   "execution_count": null,
   "id": "f1083a4a",
   "metadata": {},
   "outputs": [],
   "source": [
    "rsamWI = obspyGT.RSAM.RSAMobj()\n",
    "rsamWI.read(starttWI, endtWI, SDS_TOP, metric='mean', speed=1, corrected=True)"
   ]
  },
  {
   "cell_type": "code",
   "execution_count": null,
   "id": "a3a3e058",
   "metadata": {},
   "outputs": [],
   "source": [
    "from obspy.core import read\n",
    "st1 = read(\"SDS/CSAM/mean/2019/NZ/WIZ/HHZ.D/NZ.WIZ.10.HHZ.D.2019.344\")\n",
    "st1.plot()"
   ]
  },
  {
   "cell_type": "code",
   "execution_count": null,
   "id": "d1ce20b4",
   "metadata": {},
   "outputs": [],
   "source": [
    "rsamWI.stream[0].plot()"
   ]
  },
  {
   "cell_type": "code",
   "execution_count": null,
   "id": "ff19a30d",
   "metadata": {},
   "outputs": [],
   "source": [
    "rsamWI.plot()"
   ]
  },
  {
   "cell_type": "code",
   "execution_count": null,
   "id": "d6c0db95",
   "metadata": {},
   "outputs": [],
   "source": [
    "drsWI = obspyGT.RSAM.ReducedDisplacementObj()\n",
    "drsWI.read(starttWI, endtWI, SDS_TOP, metric='median', speed=2)\n",
    "drsWI.plot(type='log')"
   ]
  },
  {
   "cell_type": "code",
   "execution_count": null,
   "id": "14f4a98e",
   "metadata": {},
   "outputs": [],
   "source": [
    "drsWI.plot(type='linear', percentile=99)"
   ]
  },
  {
   "cell_type": "code",
   "execution_count": null,
   "id": "c6e3b4ed",
   "metadata": {},
   "outputs": [],
   "source": []
  }
 ],
 "metadata": {
  "kernelspec": {
   "display_name": "Python 3 (ipykernel)",
   "language": "python",
   "name": "python3"
  },
  "language_info": {
   "codemirror_mode": {
    "name": "ipython",
    "version": 3
   },
   "file_extension": ".py",
   "mimetype": "text/x-python",
   "name": "python",
   "nbconvert_exporter": "python",
   "pygments_lexer": "ipython3",
   "version": "3.8.8"
  }
 },
 "nbformat": 4,
 "nbformat_minor": 5
}
