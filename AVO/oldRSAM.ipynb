{
 "cells": [
  {
   "cell_type": "markdown",
   "metadata": {},
   "source": [
    "# Computing RSAM data\n",
    "Real-time Seismic Amplitude Measurement (RSAM) was a real-time computer hardware & software system developed by Tom Murray to monitor the St. Helens eruption c. 1985. Since then, any downsampled seismic amplitude data generally gets called \"RSAM data\" in volcano-seismology circles. It is simple to calculate. Just take the average amplitude of seismic data at regular time intervals. The original RSAM system did it at 2.56-second, 1-minute and 10-minute intervals. So we want to write a function that we can use to do this at any interval."
   ]
  },
  {
   "cell_type": "markdown",
   "metadata": {},
   "source": [
    "### Read seismic data\n",
    "In this case, we read 26 hours of seismic data leading up to the 2019/12/09 01:11 UTC eruption at White Island volcano, New Zealand"
   ]
  },
  {
   "cell_type": "code",
   "execution_count": 1,
   "metadata": {},
   "outputs": [
    {
     "ename": "AttributeError",
     "evalue": "module 'obspy' has no attribute 'clients'",
     "output_type": "error",
     "traceback": [
      "\u001b[0;31m---------------------------------------------------------------------------\u001b[0m",
      "\u001b[0;31mAttributeError\u001b[0m                            Traceback (most recent call last)",
      "\u001b[0;32m<ipython-input-1-43686c2d853e>\u001b[0m in \u001b[0;36m<module>\u001b[0;34m\u001b[0m\n\u001b[1;32m      7\u001b[0m \u001b[0;31m# These 2 lines give us access to the GeoNET (New Zealand) digital seismic network data\u001b[0m\u001b[0;34m\u001b[0m\u001b[0;34m\u001b[0m\u001b[0;34m\u001b[0m\u001b[0m\n\u001b[1;32m      8\u001b[0m \u001b[0;31m#from obspy.clients.fdsn import Client as FDSN_Client\u001b[0m\u001b[0;34m\u001b[0m\u001b[0;34m\u001b[0m\u001b[0;34m\u001b[0m\u001b[0m\n\u001b[0;32m----> 9\u001b[0;31m \u001b[0mclient_geonet\u001b[0m \u001b[0;34m=\u001b[0m \u001b[0mobspy\u001b[0m\u001b[0;34m.\u001b[0m\u001b[0mclients\u001b[0m\u001b[0;34m.\u001b[0m\u001b[0mfdsn\u001b[0m\u001b[0;34m.\u001b[0m\u001b[0mClient\u001b[0m\u001b[0;34m(\u001b[0m\u001b[0;34m\"GEONET\"\u001b[0m\u001b[0;34m)\u001b[0m\u001b[0;34m\u001b[0m\u001b[0;34m\u001b[0m\u001b[0m\n\u001b[0m\u001b[1;32m     10\u001b[0m \u001b[0;34m\u001b[0m\u001b[0m\n\u001b[1;32m     11\u001b[0m \u001b[0;31m# Define the data that we want\u001b[0m\u001b[0;34m\u001b[0m\u001b[0;34m\u001b[0m\u001b[0;34m\u001b[0m\u001b[0m\n",
      "\u001b[0;31mAttributeError\u001b[0m: module 'obspy' has no attribute 'clients'"
     ]
    }
   ],
   "source": [
    "# Standard imports\n",
    "import os\n",
    "import numpy as np\n",
    "import matplotlib.pyplot as plt\n",
    "import obspy\n",
    "\n",
    "# These 2 lines give us access to the GeoNET (New Zealand) digital seismic network data\n",
    "#from obspy.clients.fdsn import Client as FDSN_Client\n",
    "client_geonet = obspy.clients.fdsn.Client(\"GEONET\")\n",
    "\n",
    "# Define the data that we want\n",
    "start_time = obspy.UTCDateTime(\"2019-12-08T00:00:00.000\")\n",
    "hours_of_data = 26\n",
    "end_time = start_time + hours_of_data * 60 * 60\n",
    "net = \"NZ\" # New Zealand national network\n",
    "stations = [\"WIZ\", \"WSRZ\"] # two stations on White Island\n",
    "chan = \"HHZ\" # Vertical high-rate channel (100 samples per second)\n",
    "\n",
    "# Loading data from the GeoNET client is slow. So when we read it, we will save it to a file. \n",
    "# Then if we run this program again, we just need to read the file.\n",
    "fname = 'WhiteIslandFinal26Hours_VEL.mseed'\n",
    "if os.path.exists(fname):\n",
    "    # the file already exists, so read it\n",
    "    print(\"%s exists. Reading.\" % fname)\n",
    "    VEL = obspy.read(fname)\n",
    "else:\n",
    "    st = obspy.Stream() # this will hold our raw seismic data\n",
    "    for station in stations:   \n",
    "        this_st = client_geonet.get_waveforms(net, station,\"*\", chan, start_time, end_time, attach_response=True)\n",
    "        for tr in this_st:\n",
    "            st = st.append(tr)\n",
    "    \n",
    "    # remove instrument response\n",
    "    VEL = st.copy()\n",
    "    VEL.detrend(type='linear') # remove a linear trend\n",
    "    VEL.filter('bandpass', freqmin=0.1, freqmax=25.0, zerophase=True, corners=2) # filter from 0.1 - 25 Hz\n",
    "    VEL.remove_response(output='VEL')\n",
    "    VEL.write(fname)\n",
    "print(VEL)\n",
    "print('Done.')\n",
    "VEL.plot();"
   ]
  },
  {
   "cell_type": "markdown",
   "metadata": {},
   "source": [
    "### Function to compute RSAM data"
   ]
  },
  {
   "cell_type": "code",
   "execution_count": null,
   "metadata": {},
   "outputs": [],
   "source": [
    "def compute_rsam(st, rsam_sampling_interval):\n",
    "    # Inputs:\n",
    "    #    st: a Stream object\n",
    "    #    rsam_sampling_interval: sampling interval for RSAM data (in seconds)\n",
    "    # Outputs:\n",
    "    #    rsam_stream: a downsampled Stream object. \n",
    "    \n",
    "    rsam_stream = st.copy() # we copy the input as it is passed-by-reference and would otherwise be changed in place\n",
    "    \n",
    "    for tr in rsam_stream: # Loop over each trace (seismogram)\n",
    "        x = tr.data # get the data\n",
    "        \n",
    "        # now we want to reshape the data vector into an array, so we can take advantage of np.mean()\n",
    "        s = np.size(x) # find the size of the data vector\n",
    "        print('%s: size %d' % (tr.id, s))\n",
    "        nc = int(tr.stats.sampling_rate * rsam_sampling_interval) # number of columns\n",
    "        nr = int(s / nc) # number of rows\n",
    "        x = x[0:nr*nc] # cut off any trailing samples\n",
    "        y = x.reshape((nr, nc))\n",
    "        print('%s: reshaped to %d x %d array (%d samples)' % (tr.id, nr, nc, nr * nc))\n",
    "        tr.data = np.mean(abs(y),axis=1) # compute mean for each row (this is vectorised; faster than a for loop)\n",
    "        tr.stats.sampling_rate = 1.0 / rsam_sampling_interval # update the sampling rate\n",
    "        print(tr.stats)\n",
    "        print(\"\")\n",
    "        \n",
    "    return rsam_stream"
   ]
  },
  {
   "cell_type": "code",
   "execution_count": null,
   "metadata": {},
   "outputs": [],
   "source": [
    "def plot_rsam(st):\n",
    "    hf = st.plot(handle=True); # standard ObsPy plot\n",
    "    \n",
    "    # change the y-axis so it starts at 0\n",
    "    allAxes = hf.get_axes()\n",
    "    for ax in allAxes:\n",
    "        ylims = ax.get_ylim()\n",
    "        ax.set_ylim([0, ylims[1]])  "
   ]
  },
  {
   "cell_type": "code",
   "execution_count": null,
   "metadata": {},
   "outputs": [],
   "source": [
    "# 2.56-second RSAM\n",
    "rsam_highrate = compute_rsam(VEL, 2.56)\n",
    "plot_rsam(rsam_highrate);"
   ]
  },
  {
   "cell_type": "code",
   "execution_count": null,
   "metadata": {},
   "outputs": [],
   "source": [
    "# 1-minute RSAM\n",
    "rsam1m = compute_rsam(VEL, 60)\n",
    "plot_rsam(rsam1m);"
   ]
  },
  {
   "cell_type": "code",
   "execution_count": null,
   "metadata": {
    "scrolled": false
   },
   "outputs": [],
   "source": [
    "# 10-minute RSAM\n",
    "rsam10m = compute_rsam(VEL, 10*60)\n",
    "plot_rsam(rsam10m);"
   ]
  },
  {
   "cell_type": "markdown",
   "metadata": {},
   "source": [
    "### Write RSAM data to file?\n",
    "Simple CSV file of date/time + value?"
   ]
  },
  {
   "cell_type": "code",
   "execution_count": null,
   "metadata": {},
   "outputs": [],
   "source": [
    "# Write a new file\n",
    "f = open(\"HelloWorld.txt\", \"w\") # use \"a\" to append to an existing file\n",
    "f.write(\"Now the file has more content!\")\n",
    "f.close()"
   ]
  },
  {
   "cell_type": "code",
   "execution_count": null,
   "metadata": {},
   "outputs": [],
   "source": [
    "def write_rsam(rsamfile, tr):\n",
    "    f = open(rsamfile, \"w\")\n",
    "    dt = tr.times(type=\"UTCDateTime\")\n",
    "    f.write('year, month, day, hour, minute, second\\n')\n",
    "    for i in range(len(tr.data)):\n",
    "        f.write(\"%s, %e\\n\" % (dt[i].strftime('%Y, %m, %d, %H, %M, %S'), tr.data[i]) )\n",
    "    f.close()"
   ]
  },
  {
   "cell_type": "code",
   "execution_count": null,
   "metadata": {},
   "outputs": [],
   "source": [
    "write_rsam('rsamfile.csv',rsam10m[0])"
   ]
  },
  {
   "cell_type": "markdown",
   "metadata": {},
   "source": [
    "# Redoubt volcano eruption, March 2009\n",
    "Redoubt volcano in Alaska erupted (at least) 19 times from March-April, 2009. The first magmatic explosion was preceded by an earthquake swarm. Events got closer and closer together, merging into tremor. "
   ]
  },
  {
   "cell_type": "code",
   "execution_count": null,
   "metadata": {},
   "outputs": [],
   "source": [
    "import obspy\n",
    "# Data from Redoubt 2009?\n",
    "client_iris = obspy.clients.fdsn.Client(\"IRIS\")\n",
    "\n",
    "# Define the data that we want\n",
    "start_time = obspy.UTCDateTime(\"2009-03-22T00:00:00.000\")\n",
    "hours_of_data = 32\n",
    "end_time = start_time + hours_of_data * 60 * 60\n",
    "net = \"AV\" \n",
    "stations = [\"RSO\", \"REF\"] # two stations on Redoubt Island\n",
    "chan = \"EHZ\" # Vertical channel \n",
    "\n",
    "# Loading data from the GeoNET client is slow. So when we read it, we will save it to a file. \n",
    "# Then if we run this program again, we just need to read the file.\n",
    "fname = 'Redoubt20090322_VEL.mseed'"
   ]
  },
  {
   "cell_type": "code",
   "execution_count": null,
   "metadata": {},
   "outputs": [],
   "source": [
    "if os.path.exists(fname):\n",
    "    # the file already exists, so read it\n",
    "    print(\"%s exists. Reading.\" % fname)\n",
    "    VEL = obspy.read(fname)\n",
    "else:\n",
    "    st = obspy.Stream() # this will hold our raw seismic data\n",
    "    for station in stations:   \n",
    "        this_st = client_iris.get_waveforms(net, station,\"*\", chan, start_time, end_time, attach_response=True)\n",
    "        this_st.merge(method=1, fill_value=0)\n",
    "        for tr in this_st:\n",
    "            st = st.append(tr)\n",
    "    \n",
    "    # remove instrument response\n",
    "    VEL = st.copy()\n",
    "    VEL.detrend(type='linear') # remove a linear trend\n",
    "    VEL.filter('bandpass', freqmin=0.5, freqmax=25.0, zerophase=True, corners=2) # filter from 0.5 - 25 Hz\n",
    "    VEL.remove_response(output='VEL')\n",
    "    VEL.write(fname)\n",
    "print(VEL)\n",
    "print('Done.')\n",
    "VEL.plot();"
   ]
  },
  {
   "cell_type": "code",
   "execution_count": null,
   "metadata": {},
   "outputs": [],
   "source": [
    "#VEL.merge()\n",
    "print(VEL)"
   ]
  },
  {
   "cell_type": "code",
   "execution_count": null,
   "metadata": {
    "scrolled": false
   },
   "outputs": [],
   "source": [
    "for tr in VEL:\n",
    "    tr.plot(type=\"dayplot\")"
   ]
  },
  {
   "cell_type": "code",
   "execution_count": null,
   "metadata": {
    "scrolled": false
   },
   "outputs": [],
   "source": [
    "# 1-minute RSAM\n",
    "rsam1m = compute_rsam(VEL, 10*60)\n",
    "plot_rsam(rsam1m);"
   ]
  },
  {
   "cell_type": "code",
   "execution_count": null,
   "metadata": {},
   "outputs": [],
   "source": [
    "# write these RSAM data to file\n",
    "write_rsam('rsamfile.csv',rsam1m[0])"
   ]
  },
  {
   "cell_type": "code",
   "execution_count": null,
   "metadata": {},
   "outputs": [],
   "source": []
  }
 ],
 "metadata": {
  "kernelspec": {
   "display_name": "Python 3 (ipykernel)",
   "language": "python",
   "name": "python3"
  },
  "language_info": {
   "codemirror_mode": {
    "name": "ipython",
    "version": 3
   },
   "file_extension": ".py",
   "mimetype": "text/x-python",
   "name": "python",
   "nbconvert_exporter": "python",
   "pygments_lexer": "ipython3",
   "version": "3.8.8"
  }
 },
 "nbformat": 4,
 "nbformat_minor": 2
}
